{
 "cells": [
  {
   "cell_type": "code",
   "execution_count": 1,
   "id": "e485fbc7",
   "metadata": {
    "ExecuteTime": {
     "end_time": "2023-12-13T03:52:35.832790Z",
     "start_time": "2023-12-13T03:52:24.136558Z"
    }
   },
   "outputs": [
    {
     "name": "stdout",
     "output_type": "stream",
     "text": [
      "Collecting optimum\n",
      "  Downloading optimum-1.15.0-py3-none-any.whl.metadata (17 kB)\n",
      "Collecting coloredlogs (from optimum)\n",
      "  Downloading coloredlogs-15.0.1-py2.py3-none-any.whl (46 kB)\n",
      "     ---------------------------------------- 0.0/46.0 kB ? eta -:--:--\n",
      "     --------------------------------- ---- 41.0/46.0 kB 991.0 kB/s eta 0:00:01\n",
      "     -------------------------------------- 46.0/46.0 kB 577.1 kB/s eta 0:00:00\n",
      "Requirement already satisfied: sympy in c:\\users\\user\\anaconda3\\lib\\site-packages (from optimum) (1.11.1)\n",
      "Requirement already satisfied: transformers>=4.26.0 in c:\\users\\user\\anaconda3\\lib\\site-packages (from transformers[sentencepiece]>=4.26.0->optimum) (4.36.0.dev0)\n",
      "Requirement already satisfied: torch>=1.9 in c:\\users\\user\\anaconda3\\lib\\site-packages (from optimum) (2.1.1)\n",
      "Requirement already satisfied: packaging in c:\\users\\user\\anaconda3\\lib\\site-packages (from optimum) (23.0)\n",
      "Requirement already satisfied: numpy in c:\\users\\user\\anaconda3\\lib\\site-packages (from optimum) (1.24.3)\n",
      "Requirement already satisfied: huggingface-hub>=0.8.0 in c:\\users\\user\\anaconda3\\lib\\site-packages (from optimum) (0.19.4)\n",
      "Requirement already satisfied: datasets in c:\\users\\user\\anaconda3\\lib\\site-packages (from optimum) (2.15.0)\n",
      "Requirement already satisfied: filelock in c:\\users\\user\\anaconda3\\lib\\site-packages (from huggingface-hub>=0.8.0->optimum) (3.9.0)\n",
      "Requirement already satisfied: fsspec>=2023.5.0 in c:\\users\\user\\anaconda3\\lib\\site-packages (from huggingface-hub>=0.8.0->optimum) (2023.10.0)\n",
      "Requirement already satisfied: requests in c:\\users\\user\\anaconda3\\lib\\site-packages (from huggingface-hub>=0.8.0->optimum) (2.31.0)\n",
      "Requirement already satisfied: tqdm>=4.42.1 in c:\\users\\user\\anaconda3\\lib\\site-packages (from huggingface-hub>=0.8.0->optimum) (4.65.0)\n",
      "Requirement already satisfied: pyyaml>=5.1 in c:\\users\\user\\anaconda3\\lib\\site-packages (from huggingface-hub>=0.8.0->optimum) (6.0)\n",
      "Requirement already satisfied: typing-extensions>=3.7.4.3 in c:\\users\\user\\anaconda3\\lib\\site-packages (from huggingface-hub>=0.8.0->optimum) (4.7.1)\n",
      "Requirement already satisfied: networkx in c:\\users\\user\\anaconda3\\lib\\site-packages (from torch>=1.9->optimum) (3.1)\n",
      "Requirement already satisfied: jinja2 in c:\\users\\user\\anaconda3\\lib\\site-packages (from torch>=1.9->optimum) (3.1.2)\n",
      "Requirement already satisfied: regex!=2019.12.17 in c:\\users\\user\\anaconda3\\lib\\site-packages (from transformers>=4.26.0->transformers[sentencepiece]>=4.26.0->optimum) (2022.7.9)\n",
      "Requirement already satisfied: tokenizers<0.19,>=0.14 in c:\\users\\user\\anaconda3\\lib\\site-packages (from transformers>=4.26.0->transformers[sentencepiece]>=4.26.0->optimum) (0.15.0)\n",
      "Requirement already satisfied: safetensors>=0.3.1 in c:\\users\\user\\anaconda3\\lib\\site-packages (from transformers>=4.26.0->transformers[sentencepiece]>=4.26.0->optimum) (0.4.1)\n",
      "Requirement already satisfied: sentencepiece!=0.1.92,>=0.1.91 in c:\\users\\user\\anaconda3\\lib\\site-packages (from transformers[sentencepiece]>=4.26.0->optimum) (0.1.99)\n",
      "Requirement already satisfied: protobuf in c:\\users\\user\\anaconda3\\lib\\site-packages (from transformers[sentencepiece]>=4.26.0->optimum) (4.24.4)\n",
      "Collecting humanfriendly>=9.1 (from coloredlogs->optimum)\n",
      "  Downloading humanfriendly-10.0-py2.py3-none-any.whl (86 kB)\n",
      "     ---------------------------------------- 0.0/86.8 kB ? eta -:--:--\n",
      "     ------------------------------------- -- 81.9/86.8 kB 4.5 MB/s eta 0:00:01\n",
      "     ---------------------------------------- 86.8/86.8 kB 1.2 MB/s eta 0:00:00\n",
      "Requirement already satisfied: pyarrow>=8.0.0 in c:\\users\\user\\anaconda3\\lib\\site-packages (from datasets->optimum) (11.0.0)\n",
      "Requirement already satisfied: pyarrow-hotfix in c:\\users\\user\\anaconda3\\lib\\site-packages (from datasets->optimum) (0.6)\n",
      "Requirement already satisfied: dill<0.3.8,>=0.3.0 in c:\\users\\user\\anaconda3\\lib\\site-packages (from datasets->optimum) (0.3.7)\n",
      "Requirement already satisfied: pandas in c:\\users\\user\\anaconda3\\lib\\site-packages (from datasets->optimum) (1.5.3)\n",
      "Requirement already satisfied: xxhash in c:\\users\\user\\anaconda3\\lib\\site-packages (from datasets->optimum) (3.4.1)\n",
      "Requirement already satisfied: multiprocess in c:\\users\\user\\anaconda3\\lib\\site-packages (from datasets->optimum) (0.70.15)\n",
      "Requirement already satisfied: aiohttp in c:\\users\\user\\anaconda3\\lib\\site-packages (from datasets->optimum) (3.8.3)\n",
      "Requirement already satisfied: mpmath>=0.19 in c:\\users\\user\\anaconda3\\lib\\site-packages (from sympy->optimum) (1.3.0)\n",
      "Requirement already satisfied: attrs>=17.3.0 in c:\\users\\user\\anaconda3\\lib\\site-packages (from aiohttp->datasets->optimum) (22.1.0)\n",
      "Requirement already satisfied: charset-normalizer<3.0,>=2.0 in c:\\users\\user\\anaconda3\\lib\\site-packages (from aiohttp->datasets->optimum) (2.0.4)\n",
      "Requirement already satisfied: multidict<7.0,>=4.5 in c:\\users\\user\\anaconda3\\lib\\site-packages (from aiohttp->datasets->optimum) (6.0.2)\n",
      "Requirement already satisfied: async-timeout<5.0,>=4.0.0a3 in c:\\users\\user\\anaconda3\\lib\\site-packages (from aiohttp->datasets->optimum) (4.0.2)\n",
      "Requirement already satisfied: yarl<2.0,>=1.0 in c:\\users\\user\\anaconda3\\lib\\site-packages (from aiohttp->datasets->optimum) (1.8.1)\n",
      "Requirement already satisfied: frozenlist>=1.1.1 in c:\\users\\user\\anaconda3\\lib\\site-packages (from aiohttp->datasets->optimum) (1.3.3)\n",
      "Requirement already satisfied: aiosignal>=1.1.2 in c:\\users\\user\\anaconda3\\lib\\site-packages (from aiohttp->datasets->optimum) (1.2.0)\n",
      "Collecting pyreadline3 (from humanfriendly>=9.1->coloredlogs->optimum)\n",
      "  Downloading pyreadline3-3.4.1-py3-none-any.whl (95 kB)\n",
      "     ---------------------------------------- 0.0/95.2 kB ? eta -:--:--\n",
      "     -------------------------------------- - 92.2/95.2 kB ? eta -:--:--\n",
      "     ---------------------------------------- 95.2/95.2 kB 1.8 MB/s eta 0:00:00\n",
      "Requirement already satisfied: idna<4,>=2.5 in c:\\users\\user\\anaconda3\\lib\\site-packages (from requests->huggingface-hub>=0.8.0->optimum) (3.4)\n",
      "Requirement already satisfied: urllib3<3,>=1.21.1 in c:\\users\\user\\anaconda3\\lib\\site-packages (from requests->huggingface-hub>=0.8.0->optimum) (1.26.16)\n",
      "Requirement already satisfied: certifi>=2017.4.17 in c:\\users\\user\\anaconda3\\lib\\site-packages (from requests->huggingface-hub>=0.8.0->optimum) (2023.7.22)\n",
      "Requirement already satisfied: colorama in c:\\users\\user\\anaconda3\\lib\\site-packages (from tqdm>=4.42.1->huggingface-hub>=0.8.0->optimum) (0.4.6)\n",
      "Requirement already satisfied: MarkupSafe>=2.0 in c:\\users\\user\\anaconda3\\lib\\site-packages (from jinja2->torch>=1.9->optimum) (2.1.1)\n",
      "Requirement already satisfied: python-dateutil>=2.8.1 in c:\\users\\user\\anaconda3\\lib\\site-packages (from pandas->datasets->optimum) (2.8.2)\n",
      "Requirement already satisfied: pytz>=2020.1 in c:\\users\\user\\anaconda3\\lib\\site-packages (from pandas->datasets->optimum) (2022.7)\n",
      "Requirement already satisfied: six>=1.5 in c:\\users\\user\\anaconda3\\lib\\site-packages (from python-dateutil>=2.8.1->pandas->datasets->optimum) (1.16.0)\n",
      "Downloading optimum-1.15.0-py3-none-any.whl (400 kB)\n",
      "   ---------------------------------------- 0.0/400.9 kB ? eta -:--:--\n",
      "   ---------------------------- ----------- 286.7/400.9 kB 5.9 MB/s eta 0:00:01\n",
      "   ---------------------------------------  399.4/400.9 kB 6.3 MB/s eta 0:00:01\n",
      "   ---------------------------------------- 400.9/400.9 kB 4.2 MB/s eta 0:00:00\n",
      "Installing collected packages: pyreadline3, humanfriendly, coloredlogs, optimum\n",
      "Successfully installed coloredlogs-15.0.1 humanfriendly-10.0 optimum-1.15.0 pyreadline3-3.4.1\n",
      "Note: you may need to restart the kernel to use updated packages.\n"
     ]
    }
   ],
   "source": [
    "pip install --upgrade optimum"
   ]
  },
  {
   "cell_type": "code",
   "execution_count": 1,
   "id": "a4370513",
   "metadata": {
    "ExecuteTime": {
     "end_time": "2023-12-12T23:29:20.672475Z",
     "start_time": "2023-12-12T23:29:03.719320Z"
    }
   },
   "outputs": [
    {
     "name": "stdout",
     "output_type": "stream",
     "text": [
      "Requirement already satisfied: transformers in c:\\users\\user\\anaconda3\\lib\\site-packages (4.35.2)\n",
      "Collecting transformers\n",
      "  Downloading transformers-4.36.0-py3-none-any.whl.metadata (126 kB)\n",
      "     ---------------------------------------- 0.0/126.8 kB ? eta -:--:--\n",
      "     ---------------------------- ---------- 92.2/126.8 kB 1.7 MB/s eta 0:00:01\n",
      "     ------------------------------------ - 122.9/126.8 kB 1.8 MB/s eta 0:00:01\n",
      "     ------------------------------------ 126.8/126.8 kB 932.1 kB/s eta 0:00:00\n",
      "Requirement already satisfied: filelock in c:\\users\\user\\anaconda3\\lib\\site-packages (from transformers) (3.9.0)\n",
      "Requirement already satisfied: huggingface-hub<1.0,>=0.19.3 in c:\\users\\user\\anaconda3\\lib\\site-packages (from transformers) (0.19.4)\n",
      "Requirement already satisfied: numpy>=1.17 in c:\\users\\user\\anaconda3\\lib\\site-packages (from transformers) (1.24.3)\n",
      "Requirement already satisfied: packaging>=20.0 in c:\\users\\user\\anaconda3\\lib\\site-packages (from transformers) (23.0)\n",
      "Requirement already satisfied: pyyaml>=5.1 in c:\\users\\user\\anaconda3\\lib\\site-packages (from transformers) (6.0)\n",
      "Requirement already satisfied: regex!=2019.12.17 in c:\\users\\user\\anaconda3\\lib\\site-packages (from transformers) (2022.7.9)\n",
      "Requirement already satisfied: requests in c:\\users\\user\\anaconda3\\lib\\site-packages (from transformers) (2.31.0)\n",
      "Requirement already satisfied: tokenizers<0.19,>=0.14 in c:\\users\\user\\anaconda3\\lib\\site-packages (from transformers) (0.15.0)\n",
      "Requirement already satisfied: safetensors>=0.3.1 in c:\\users\\user\\anaconda3\\lib\\site-packages (from transformers) (0.4.1)\n",
      "Requirement already satisfied: tqdm>=4.27 in c:\\users\\user\\anaconda3\\lib\\site-packages (from transformers) (4.65.0)\n",
      "Requirement already satisfied: fsspec>=2023.5.0 in c:\\users\\user\\anaconda3\\lib\\site-packages (from huggingface-hub<1.0,>=0.19.3->transformers) (2023.10.0)\n",
      "Requirement already satisfied: typing-extensions>=3.7.4.3 in c:\\users\\user\\anaconda3\\lib\\site-packages (from huggingface-hub<1.0,>=0.19.3->transformers) (4.7.1)\n",
      "Requirement already satisfied: colorama in c:\\users\\user\\anaconda3\\lib\\site-packages (from tqdm>=4.27->transformers) (0.4.6)\n",
      "Requirement already satisfied: charset-normalizer<4,>=2 in c:\\users\\user\\anaconda3\\lib\\site-packages (from requests->transformers) (2.0.4)\n",
      "Requirement already satisfied: idna<4,>=2.5 in c:\\users\\user\\anaconda3\\lib\\site-packages (from requests->transformers) (3.4)\n",
      "Requirement already satisfied: urllib3<3,>=1.21.1 in c:\\users\\user\\anaconda3\\lib\\site-packages (from requests->transformers) (1.26.16)\n",
      "Requirement already satisfied: certifi>=2017.4.17 in c:\\users\\user\\anaconda3\\lib\\site-packages (from requests->transformers) (2023.7.22)\n",
      "Downloading transformers-4.36.0-py3-none-any.whl (8.2 MB)\n",
      "   ---------------------------------------- 0.0/8.2 MB ? eta -:--:--\n",
      "   - -------------------------------------- 0.2/8.2 MB 5.0 MB/s eta 0:00:02\n",
      "   -- ------------------------------------- 0.5/8.2 MB 6.7 MB/s eta 0:00:02\n",
      "   ---- ----------------------------------- 0.8/8.2 MB 6.6 MB/s eta 0:00:02\n",
      "   -------- ------------------------------- 1.8/8.2 MB 11.4 MB/s eta 0:00:01\n",
      "   --------------------- ------------------ 4.5/8.2 MB 20.4 MB/s eta 0:00:01\n",
      "   ----------------------------------- ---- 7.4/8.2 MB 29.5 MB/s eta 0:00:01\n",
      "   -------------------------------------- - 7.9/8.2 MB 31.7 MB/s eta 0:00:01\n",
      "   ---------------------------------------  8.2/8.2 MB 25.0 MB/s eta 0:00:01\n",
      "   ---------------------------------------  8.2/8.2 MB 25.0 MB/s eta 0:00:01\n",
      "   ---------------------------------------- 8.2/8.2 MB 21.9 MB/s eta 0:00:00\n",
      "Installing collected packages: transformers\n",
      "  Attempting uninstall: transformers\n",
      "    Found existing installation: transformers 4.35.2\n",
      "    Uninstalling transformers-4.35.2:\n",
      "      Successfully uninstalled transformers-4.35.2\n",
      "Successfully installed transformers-4.36.0\n",
      "Note: you may need to restart the kernel to use updated packages.\n"
     ]
    }
   ],
   "source": [
    "pip install --upgrade transformers"
   ]
  },
  {
   "cell_type": "code",
   "execution_count": 2,
   "id": "fea24688",
   "metadata": {
    "ExecuteTime": {
     "end_time": "2023-12-12T23:29:26.274389Z",
     "start_time": "2023-12-12T23:29:20.673679Z"
    }
   },
   "outputs": [
    {
     "name": "stdout",
     "output_type": "stream",
     "text": [
      "Requirement already satisfied: pyaudio in c:\\users\\user\\anaconda3\\lib\\site-packages (0.2.13)\n",
      "Note: you may need to restart the kernel to use updated packages.\n"
     ]
    }
   ],
   "source": [
    "pip install pyaudio"
   ]
  },
  {
   "cell_type": "code",
   "execution_count": 3,
   "id": "8f3fbfc7",
   "metadata": {
    "ExecuteTime": {
     "end_time": "2023-12-12T23:29:31.762877Z",
     "start_time": "2023-12-12T23:29:26.275571Z"
    }
   },
   "outputs": [
    {
     "name": "stdout",
     "output_type": "stream",
     "text": [
      "Requirement already satisfied: SpeechRecognition in c:\\users\\user\\anaconda3\\lib\\site-packages (3.10.0)\n",
      "Requirement already satisfied: requests>=2.26.0 in c:\\users\\user\\anaconda3\\lib\\site-packages (from SpeechRecognition) (2.31.0)\n",
      "Requirement already satisfied: charset-normalizer<4,>=2 in c:\\users\\user\\anaconda3\\lib\\site-packages (from requests>=2.26.0->SpeechRecognition) (2.0.4)\n",
      "Requirement already satisfied: idna<4,>=2.5 in c:\\users\\user\\anaconda3\\lib\\site-packages (from requests>=2.26.0->SpeechRecognition) (3.4)\n",
      "Requirement already satisfied: urllib3<3,>=1.21.1 in c:\\users\\user\\anaconda3\\lib\\site-packages (from requests>=2.26.0->SpeechRecognition) (1.26.16)\n",
      "Requirement already satisfied: certifi>=2017.4.17 in c:\\users\\user\\anaconda3\\lib\\site-packages (from requests>=2.26.0->SpeechRecognition) (2023.7.22)\n",
      "Note: you may need to restart the kernel to use updated packages.\n"
     ]
    }
   ],
   "source": [
    "pip install SpeechRecognition"
   ]
  },
  {
   "cell_type": "code",
   "execution_count": 4,
   "id": "6a4af0f8",
   "metadata": {
    "ExecuteTime": {
     "end_time": "2023-12-12T23:29:37.074287Z",
     "start_time": "2023-12-12T23:29:31.765188Z"
    }
   },
   "outputs": [
    {
     "name": "stdout",
     "output_type": "stream",
     "text": [
      "Requirement already satisfied: librosa in c:\\users\\user\\anaconda3\\lib\\site-packages (0.10.1)\n",
      "Requirement already satisfied: audioread>=2.1.9 in c:\\users\\user\\anaconda3\\lib\\site-packages (from librosa) (3.0.1)\n",
      "Requirement already satisfied: numpy!=1.22.0,!=1.22.1,!=1.22.2,>=1.20.3 in c:\\users\\user\\anaconda3\\lib\\site-packages (from librosa) (1.24.3)\n",
      "Requirement already satisfied: scipy>=1.2.0 in c:\\users\\user\\anaconda3\\lib\\site-packages (from librosa) (1.10.1)\n",
      "Requirement already satisfied: scikit-learn>=0.20.0 in c:\\users\\user\\anaconda3\\lib\\site-packages (from librosa) (1.3.0)\n",
      "Requirement already satisfied: joblib>=0.14 in c:\\users\\user\\anaconda3\\lib\\site-packages (from librosa) (1.2.0)\n",
      "Requirement already satisfied: decorator>=4.3.0 in c:\\users\\user\\anaconda3\\lib\\site-packages (from librosa) (5.1.1)\n",
      "Requirement already satisfied: numba>=0.51.0 in c:\\users\\user\\anaconda3\\lib\\site-packages (from librosa) (0.57.0)\n",
      "Requirement already satisfied: soundfile>=0.12.1 in c:\\users\\user\\anaconda3\\lib\\site-packages (from librosa) (0.12.1)\n",
      "Requirement already satisfied: pooch>=1.0 in c:\\users\\user\\anaconda3\\lib\\site-packages (from librosa) (1.4.0)\n",
      "Requirement already satisfied: soxr>=0.3.2 in c:\\users\\user\\anaconda3\\lib\\site-packages (from librosa) (0.3.7)\n",
      "Requirement already satisfied: typing-extensions>=4.1.1 in c:\\users\\user\\anaconda3\\lib\\site-packages (from librosa) (4.7.1)\n",
      "Requirement already satisfied: lazy-loader>=0.1 in c:\\users\\user\\anaconda3\\lib\\site-packages (from librosa) (0.2)\n",
      "Requirement already satisfied: msgpack>=1.0 in c:\\users\\user\\anaconda3\\lib\\site-packages (from librosa) (1.0.3)\n",
      "Requirement already satisfied: llvmlite<0.41,>=0.40.0dev0 in c:\\users\\user\\anaconda3\\lib\\site-packages (from numba>=0.51.0->librosa) (0.40.0)\n",
      "Requirement already satisfied: requests in c:\\users\\user\\anaconda3\\lib\\site-packages (from pooch>=1.0->librosa) (2.31.0)\n",
      "Requirement already satisfied: packaging in c:\\users\\user\\anaconda3\\lib\\site-packages (from pooch>=1.0->librosa) (23.0)\n",
      "Requirement already satisfied: appdirs in c:\\users\\user\\anaconda3\\lib\\site-packages (from pooch>=1.0->librosa) (1.4.4)\n",
      "Requirement already satisfied: threadpoolctl>=2.0.0 in c:\\users\\user\\anaconda3\\lib\\site-packages (from scikit-learn>=0.20.0->librosa) (2.2.0)\n",
      "Requirement already satisfied: cffi>=1.0 in c:\\users\\user\\anaconda3\\lib\\site-packages (from soundfile>=0.12.1->librosa) (1.15.1)\n",
      "Requirement already satisfied: pycparser in c:\\users\\user\\anaconda3\\lib\\site-packages (from cffi>=1.0->soundfile>=0.12.1->librosa) (2.21)\n",
      "Requirement already satisfied: charset-normalizer<4,>=2 in c:\\users\\user\\anaconda3\\lib\\site-packages (from requests->pooch>=1.0->librosa) (2.0.4)\n",
      "Requirement already satisfied: idna<4,>=2.5 in c:\\users\\user\\anaconda3\\lib\\site-packages (from requests->pooch>=1.0->librosa) (3.4)\n",
      "Requirement already satisfied: urllib3<3,>=1.21.1 in c:\\users\\user\\anaconda3\\lib\\site-packages (from requests->pooch>=1.0->librosa) (1.26.16)\n",
      "Requirement already satisfied: certifi>=2017.4.17 in c:\\users\\user\\anaconda3\\lib\\site-packages (from requests->pooch>=1.0->librosa) (2023.7.22)\n",
      "Note: you may need to restart the kernel to use updated packages.\n"
     ]
    }
   ],
   "source": [
    "pip install librosa"
   ]
  },
  {
   "cell_type": "code",
   "execution_count": 5,
   "id": "5279070e",
   "metadata": {
    "ExecuteTime": {
     "end_time": "2023-12-12T23:29:57.947052Z",
     "start_time": "2023-12-12T23:29:37.075559Z"
    }
   },
   "outputs": [
    {
     "name": "stdout",
     "output_type": "stream",
     "text": [
      "Collecting moviepy\n",
      "  Downloading moviepy-1.0.3.tar.gz (388 kB)\n",
      "     ---------------------------------------- 0.0/388.3 kB ? eta -:--:--\n",
      "     --- --------------------------------- 41.0/388.3 kB 991.0 kB/s eta 0:00:01\n",
      "     --------------- ---------------------- 153.6/388.3 kB 1.8 MB/s eta 0:00:01\n",
      "     -------------------------------------  378.9/388.3 kB 2.9 MB/s eta 0:00:01\n",
      "     -------------------------------------- 388.3/388.3 kB 2.2 MB/s eta 0:00:00\n",
      "  Preparing metadata (setup.py): started\n",
      "  Preparing metadata (setup.py): finished with status 'done'\n",
      "Requirement already satisfied: SpeechRecognition in c:\\users\\user\\anaconda3\\lib\\site-packages (3.10.0)\n",
      "Collecting pydub\n",
      "  Downloading pydub-0.25.1-py2.py3-none-any.whl (32 kB)\n",
      "Collecting decorator<5.0,>=4.0.2 (from moviepy)\n",
      "  Downloading decorator-4.4.2-py2.py3-none-any.whl (9.2 kB)\n",
      "Requirement already satisfied: tqdm<5.0,>=4.11.2 in c:\\users\\user\\anaconda3\\lib\\site-packages (from moviepy) (4.65.0)\n",
      "Requirement already satisfied: requests<3.0,>=2.8.1 in c:\\users\\user\\anaconda3\\lib\\site-packages (from moviepy) (2.31.0)\n",
      "Collecting proglog<=1.0.0 (from moviepy)\n",
      "  Downloading proglog-0.1.10-py3-none-any.whl (6.1 kB)\n",
      "Requirement already satisfied: numpy>=1.17.3 in c:\\users\\user\\anaconda3\\lib\\site-packages (from moviepy) (1.24.3)\n",
      "Requirement already satisfied: imageio<3.0,>=2.5 in c:\\users\\user\\anaconda3\\lib\\site-packages (from moviepy) (2.26.0)\n",
      "Collecting imageio_ffmpeg>=0.2.0 (from moviepy)\n",
      "  Downloading imageio_ffmpeg-0.4.9-py3-none-win_amd64.whl.metadata (1.7 kB)\n",
      "Requirement already satisfied: pillow>=8.3.2 in c:\\users\\user\\anaconda3\\lib\\site-packages (from imageio<3.0,>=2.5->moviepy) (9.4.0)\n",
      "Requirement already satisfied: setuptools in c:\\users\\user\\anaconda3\\lib\\site-packages (from imageio_ffmpeg>=0.2.0->moviepy) (68.0.0)\n",
      "Requirement already satisfied: charset-normalizer<4,>=2 in c:\\users\\user\\anaconda3\\lib\\site-packages (from requests<3.0,>=2.8.1->moviepy) (2.0.4)\n",
      "Requirement already satisfied: idna<4,>=2.5 in c:\\users\\user\\anaconda3\\lib\\site-packages (from requests<3.0,>=2.8.1->moviepy) (3.4)\n",
      "Requirement already satisfied: urllib3<3,>=1.21.1 in c:\\users\\user\\anaconda3\\lib\\site-packages (from requests<3.0,>=2.8.1->moviepy) (1.26.16)\n",
      "Requirement already satisfied: certifi>=2017.4.17 in c:\\users\\user\\anaconda3\\lib\\site-packages (from requests<3.0,>=2.8.1->moviepy) (2023.7.22)\n",
      "Requirement already satisfied: colorama in c:\\users\\user\\anaconda3\\lib\\site-packages (from tqdm<5.0,>=4.11.2->moviepy) (0.4.6)\n",
      "Downloading imageio_ffmpeg-0.4.9-py3-none-win_amd64.whl (22.6 MB)\n",
      "   ---------------------------------------- 0.0/22.6 MB ? eta -:--:--\n",
      "   ---------------------------------------- 0.2/22.6 MB 15.7 MB/s eta 0:00:02\n",
      "   - -------------------------------------- 0.6/22.6 MB 7.2 MB/s eta 0:00:04\n",
      "   -- ------------------------------------- 1.2/22.6 MB 10.8 MB/s eta 0:00:02\n",
      "   ---- ----------------------------------- 2.5/22.6 MB 14.6 MB/s eta 0:00:02\n",
      "   --------- ------------------------------ 5.5/22.6 MB 26.9 MB/s eta 0:00:01\n",
      "   -------------- ------------------------- 7.9/22.6 MB 33.8 MB/s eta 0:00:01\n",
      "   -------------- ------------------------- 7.9/22.6 MB 33.8 MB/s eta 0:00:01\n",
      "   ---------------- ----------------------- 9.2/22.6 MB 29.4 MB/s eta 0:00:01\n",
      "   ------------------------- -------------- 14.3/22.6 MB 50.1 MB/s eta 0:00:01\n",
      "   -------------------------------- ------- 18.6/22.6 MB 108.8 MB/s eta 0:00:01\n",
      "   ---------------------------------------  22.3/22.6 MB 108.8 MB/s eta 0:00:01\n",
      "   ---------------------------------------  22.6/22.6 MB 93.0 MB/s eta 0:00:01\n",
      "   ---------------------------------------- 22.6/22.6 MB 59.5 MB/s eta 0:00:00\n",
      "Building wheels for collected packages: moviepy\n",
      "  Building wheel for moviepy (setup.py): started\n",
      "  Building wheel for moviepy (setup.py): finished with status 'done'\n",
      "  Created wheel for moviepy: filename=moviepy-1.0.3-py3-none-any.whl size=110773 sha256=1abc77a7ad089ba39116536bf330a23fd74ef6207a629e80a0c9f09f9f0e85ce\n",
      "  Stored in directory: c:\\users\\user\\appdata\\local\\pip\\cache\\wheels\\83\\b1\\d9\\119ef7c144b44d591ec0a9a140465133c23ea95d2a161184ba\n",
      "Successfully built moviepy\n",
      "Installing collected packages: pydub, imageio_ffmpeg, decorator, proglog, moviepy\n",
      "  Attempting uninstall: decorator\n",
      "    Found existing installation: decorator 5.1.1\n",
      "    Uninstalling decorator-5.1.1:\n",
      "      Successfully uninstalled decorator-5.1.1\n",
      "Successfully installed decorator-4.4.2 imageio_ffmpeg-0.4.9 moviepy-1.0.3 proglog-0.1.10 pydub-0.25.1\n",
      "Note: you may need to restart the kernel to use updated packages.\n"
     ]
    }
   ],
   "source": [
    "pip install moviepy SpeechRecognition pydub"
   ]
  },
  {
   "cell_type": "markdown",
   "id": "5933cf43",
   "metadata": {},
   "source": [
    "## 동영상 음성 텍스트로 추출"
   ]
  },
  {
   "cell_type": "code",
   "execution_count": 5,
   "id": "e87a1c95",
   "metadata": {
    "ExecuteTime": {
     "end_time": "2023-12-12T23:54:30.363066Z",
     "start_time": "2023-12-12T23:54:16.084155Z"
    },
    "scrolled": true
   },
   "outputs": [
    {
     "name": "stdout",
     "output_type": "stream",
     "text": [
      "MoviePy - Writing audio in pass4_audio.wav\n"
     ]
    },
    {
     "name": "stderr",
     "output_type": "stream",
     "text": [
      "                                                                                                                       \r"
     ]
    },
    {
     "name": "stdout",
     "output_type": "stream",
     "text": [
      "MoviePy - Done.\n"
     ]
    },
    {
     "ename": "RequestError",
     "evalue": "recognition request failed: Bad Request",
     "output_type": "error",
     "traceback": [
      "\u001b[1;31m---------------------------------------------------------------------------\u001b[0m",
      "\u001b[1;31mHTTPError\u001b[0m                                 Traceback (most recent call last)",
      "File \u001b[1;32m~\\anaconda3\\Lib\\site-packages\\speech_recognition\\__init__.py:708\u001b[0m, in \u001b[0;36mRecognizer.recognize_google\u001b[1;34m(self, audio_data, key, language, pfilter, show_all, with_confidence)\u001b[0m\n\u001b[0;32m    707\u001b[0m \u001b[38;5;28;01mtry\u001b[39;00m:\n\u001b[1;32m--> 708\u001b[0m     response \u001b[38;5;241m=\u001b[39m urlopen(request, timeout\u001b[38;5;241m=\u001b[39m\u001b[38;5;28mself\u001b[39m\u001b[38;5;241m.\u001b[39moperation_timeout)\n\u001b[0;32m    709\u001b[0m \u001b[38;5;28;01mexcept\u001b[39;00m HTTPError \u001b[38;5;28;01mas\u001b[39;00m e:\n",
      "File \u001b[1;32m~\\anaconda3\\Lib\\urllib\\request.py:216\u001b[0m, in \u001b[0;36murlopen\u001b[1;34m(url, data, timeout, cafile, capath, cadefault, context)\u001b[0m\n\u001b[0;32m    215\u001b[0m     opener \u001b[38;5;241m=\u001b[39m _opener\n\u001b[1;32m--> 216\u001b[0m \u001b[38;5;28;01mreturn\u001b[39;00m opener\u001b[38;5;241m.\u001b[39mopen(url, data, timeout)\n",
      "File \u001b[1;32m~\\anaconda3\\Lib\\urllib\\request.py:525\u001b[0m, in \u001b[0;36mOpenerDirector.open\u001b[1;34m(self, fullurl, data, timeout)\u001b[0m\n\u001b[0;32m    524\u001b[0m     meth \u001b[38;5;241m=\u001b[39m \u001b[38;5;28mgetattr\u001b[39m(processor, meth_name)\n\u001b[1;32m--> 525\u001b[0m     response \u001b[38;5;241m=\u001b[39m meth(req, response)\n\u001b[0;32m    527\u001b[0m \u001b[38;5;28;01mreturn\u001b[39;00m response\n",
      "File \u001b[1;32m~\\anaconda3\\Lib\\urllib\\request.py:634\u001b[0m, in \u001b[0;36mHTTPErrorProcessor.http_response\u001b[1;34m(self, request, response)\u001b[0m\n\u001b[0;32m    633\u001b[0m \u001b[38;5;28;01mif\u001b[39;00m \u001b[38;5;129;01mnot\u001b[39;00m (\u001b[38;5;241m200\u001b[39m \u001b[38;5;241m<\u001b[39m\u001b[38;5;241m=\u001b[39m code \u001b[38;5;241m<\u001b[39m \u001b[38;5;241m300\u001b[39m):\n\u001b[1;32m--> 634\u001b[0m     response \u001b[38;5;241m=\u001b[39m \u001b[38;5;28mself\u001b[39m\u001b[38;5;241m.\u001b[39mparent\u001b[38;5;241m.\u001b[39merror(\n\u001b[0;32m    635\u001b[0m         \u001b[38;5;124m'\u001b[39m\u001b[38;5;124mhttp\u001b[39m\u001b[38;5;124m'\u001b[39m, request, response, code, msg, hdrs)\n\u001b[0;32m    637\u001b[0m \u001b[38;5;28;01mreturn\u001b[39;00m response\n",
      "File \u001b[1;32m~\\anaconda3\\Lib\\urllib\\request.py:563\u001b[0m, in \u001b[0;36mOpenerDirector.error\u001b[1;34m(self, proto, *args)\u001b[0m\n\u001b[0;32m    562\u001b[0m args \u001b[38;5;241m=\u001b[39m (\u001b[38;5;28mdict\u001b[39m, \u001b[38;5;124m'\u001b[39m\u001b[38;5;124mdefault\u001b[39m\u001b[38;5;124m'\u001b[39m, \u001b[38;5;124m'\u001b[39m\u001b[38;5;124mhttp_error_default\u001b[39m\u001b[38;5;124m'\u001b[39m) \u001b[38;5;241m+\u001b[39m orig_args\n\u001b[1;32m--> 563\u001b[0m \u001b[38;5;28;01mreturn\u001b[39;00m \u001b[38;5;28mself\u001b[39m\u001b[38;5;241m.\u001b[39m_call_chain(\u001b[38;5;241m*\u001b[39margs)\n",
      "File \u001b[1;32m~\\anaconda3\\Lib\\urllib\\request.py:496\u001b[0m, in \u001b[0;36mOpenerDirector._call_chain\u001b[1;34m(self, chain, kind, meth_name, *args)\u001b[0m\n\u001b[0;32m    495\u001b[0m func \u001b[38;5;241m=\u001b[39m \u001b[38;5;28mgetattr\u001b[39m(handler, meth_name)\n\u001b[1;32m--> 496\u001b[0m result \u001b[38;5;241m=\u001b[39m func(\u001b[38;5;241m*\u001b[39margs)\n\u001b[0;32m    497\u001b[0m \u001b[38;5;28;01mif\u001b[39;00m result \u001b[38;5;129;01mis\u001b[39;00m \u001b[38;5;129;01mnot\u001b[39;00m \u001b[38;5;28;01mNone\u001b[39;00m:\n",
      "File \u001b[1;32m~\\anaconda3\\Lib\\urllib\\request.py:643\u001b[0m, in \u001b[0;36mHTTPDefaultErrorHandler.http_error_default\u001b[1;34m(self, req, fp, code, msg, hdrs)\u001b[0m\n\u001b[0;32m    642\u001b[0m \u001b[38;5;28;01mdef\u001b[39;00m \u001b[38;5;21mhttp_error_default\u001b[39m(\u001b[38;5;28mself\u001b[39m, req, fp, code, msg, hdrs):\n\u001b[1;32m--> 643\u001b[0m     \u001b[38;5;28;01mraise\u001b[39;00m HTTPError(req\u001b[38;5;241m.\u001b[39mfull_url, code, msg, hdrs, fp)\n",
      "\u001b[1;31mHTTPError\u001b[0m: HTTP Error 400: Bad Request",
      "\nDuring handling of the above exception, another exception occurred:\n",
      "\u001b[1;31mRequestError\u001b[0m                              Traceback (most recent call last)",
      "Cell \u001b[1;32mIn[5], line 26\u001b[0m\n\u001b[0;32m     23\u001b[0m     audio \u001b[38;5;241m=\u001b[39m r\u001b[38;5;241m.\u001b[39mrecord(source)\n\u001b[0;32m     25\u001b[0m \u001b[38;5;66;03m# Google Web Speech API를 사용하여 텍스트로 변환\u001b[39;00m\n\u001b[1;32m---> 26\u001b[0m result \u001b[38;5;241m=\u001b[39m r\u001b[38;5;241m.\u001b[39mrecognize_google(audio_data\u001b[38;5;241m=\u001b[39maudio, language\u001b[38;5;241m=\u001b[39m\u001b[38;5;124m'\u001b[39m\u001b[38;5;124mko-KR\u001b[39m\u001b[38;5;124m'\u001b[39m)\n\u001b[0;32m     28\u001b[0m \u001b[38;5;66;03m# 변환된 텍스트 출력\u001b[39;00m\n\u001b[0;32m     29\u001b[0m \u001b[38;5;28mprint\u001b[39m(result)\n",
      "File \u001b[1;32m~\\anaconda3\\Lib\\site-packages\\speech_recognition\\__init__.py:710\u001b[0m, in \u001b[0;36mRecognizer.recognize_google\u001b[1;34m(self, audio_data, key, language, pfilter, show_all, with_confidence)\u001b[0m\n\u001b[0;32m    708\u001b[0m     response \u001b[38;5;241m=\u001b[39m urlopen(request, timeout\u001b[38;5;241m=\u001b[39m\u001b[38;5;28mself\u001b[39m\u001b[38;5;241m.\u001b[39moperation_timeout)\n\u001b[0;32m    709\u001b[0m \u001b[38;5;28;01mexcept\u001b[39;00m HTTPError \u001b[38;5;28;01mas\u001b[39;00m e:\n\u001b[1;32m--> 710\u001b[0m     \u001b[38;5;28;01mraise\u001b[39;00m RequestError(\u001b[38;5;124m\"\u001b[39m\u001b[38;5;124mrecognition request failed: \u001b[39m\u001b[38;5;132;01m{}\u001b[39;00m\u001b[38;5;124m\"\u001b[39m\u001b[38;5;241m.\u001b[39mformat(e\u001b[38;5;241m.\u001b[39mreason))\n\u001b[0;32m    711\u001b[0m \u001b[38;5;28;01mexcept\u001b[39;00m URLError \u001b[38;5;28;01mas\u001b[39;00m e:\n\u001b[0;32m    712\u001b[0m     \u001b[38;5;28;01mraise\u001b[39;00m RequestError(\u001b[38;5;124m\"\u001b[39m\u001b[38;5;124mrecognition connection failed: \u001b[39m\u001b[38;5;132;01m{}\u001b[39;00m\u001b[38;5;124m\"\u001b[39m\u001b[38;5;241m.\u001b[39mformat(e\u001b[38;5;241m.\u001b[39mreason))\n",
      "\u001b[1;31mRequestError\u001b[0m: recognition request failed: Bad Request"
     ]
    }
   ],
   "source": [
    "# pip install SpeechRecognition\n",
    "# pip install moviepy SpeechRecognition pydub\n",
    "\n",
    "import moviepy.editor as mp\n",
    "import speech_recognition as sr\n",
    "import os\n",
    "\n",
    "# 동영상 파일 경로\n",
    "video_path = 'pass/pass4.mp4'\n",
    "\n",
    "# 동영상 파일 이름에서 확장자를 제외한 부분 추출\n",
    "video_name = os.path.splitext(os.path.basename(video_path))[0]\n",
    "\n",
    "# 동영상에서 오디오 추출\n",
    "audio_file_path = f\"{video_name}_audio.wav\"\n",
    "clip = mp.VideoFileClip(video_path)\n",
    "clip.audio.write_audiofile(audio_file_path)\n",
    "\n",
    "# 추출한 오디오 파일 로드\n",
    "r = sr.Recognizer()\n",
    "\n",
    "with sr.AudioFile(audio_file_path) as source:\n",
    "    audio = r.record(source)\n",
    "\n",
    "# Google Web Speech API를 사용하여 텍스트로 변환\n",
    "result = r.recognize_google(audio_data=audio, language='ko-KR')\n",
    "\n",
    "# 변환된 텍스트 출력\n",
    "print(result)\n",
    "\n",
    "# 변환된 텍스트 파일에 저장\n",
    "text_file_path = f\"{video_name}_transcription.txt\"\n",
    "with open(text_file_path, \"w\", encoding=\"utf-8\") as text_file:\n",
    "    text_file.write(result)\n",
    "\n",
    "# 파일에 저장된 내용 확인\n",
    "with open(text_file_path, \"r\", encoding=\"utf-8\") as read_file:\n",
    "    saved_text = read_file.read()\n",
    "\n",
    "print(\"변환된 텍스트가 파일에 저장되었습니다.\")\n",
    "print(\"파일 내용:\")\n",
    "print(saved_text)"
   ]
  },
  {
   "cell_type": "markdown",
   "id": "1fa8d74e",
   "metadata": {},
   "source": [
    "### 여러 영상 텍스트 추출"
   ]
  },
  {
   "cell_type": "code",
   "execution_count": 8,
   "id": "c9f05d5e",
   "metadata": {
    "ExecuteTime": {
     "end_time": "2023-12-13T00:00:58.778310Z",
     "start_time": "2023-12-13T00:00:43.636033Z"
    },
    "scrolled": false
   },
   "outputs": [
    {
     "name": "stdout",
     "output_type": "stream",
     "text": [
      "MoviePy - Writing audio in pass3_audio.wav\n"
     ]
    },
    {
     "name": "stderr",
     "output_type": "stream",
     "text": [
      "                                                                                                                       \r"
     ]
    },
    {
     "name": "stdout",
     "output_type": "stream",
     "text": [
      "MoviePy - Done.\n"
     ]
    },
    {
     "ename": "RequestError",
     "evalue": "recognition request failed: Bad Request",
     "output_type": "error",
     "traceback": [
      "\u001b[1;31m---------------------------------------------------------------------------\u001b[0m",
      "\u001b[1;31mHTTPError\u001b[0m                                 Traceback (most recent call last)",
      "File \u001b[1;32m~\\anaconda3\\Lib\\site-packages\\speech_recognition\\__init__.py:708\u001b[0m, in \u001b[0;36mRecognizer.recognize_google\u001b[1;34m(self, audio_data, key, language, pfilter, show_all, with_confidence)\u001b[0m\n\u001b[0;32m    707\u001b[0m \u001b[38;5;28;01mtry\u001b[39;00m:\n\u001b[1;32m--> 708\u001b[0m     response \u001b[38;5;241m=\u001b[39m urlopen(request, timeout\u001b[38;5;241m=\u001b[39m\u001b[38;5;28mself\u001b[39m\u001b[38;5;241m.\u001b[39moperation_timeout)\n\u001b[0;32m    709\u001b[0m \u001b[38;5;28;01mexcept\u001b[39;00m HTTPError \u001b[38;5;28;01mas\u001b[39;00m e:\n",
      "File \u001b[1;32m~\\anaconda3\\Lib\\urllib\\request.py:216\u001b[0m, in \u001b[0;36murlopen\u001b[1;34m(url, data, timeout, cafile, capath, cadefault, context)\u001b[0m\n\u001b[0;32m    215\u001b[0m     opener \u001b[38;5;241m=\u001b[39m _opener\n\u001b[1;32m--> 216\u001b[0m \u001b[38;5;28;01mreturn\u001b[39;00m opener\u001b[38;5;241m.\u001b[39mopen(url, data, timeout)\n",
      "File \u001b[1;32m~\\anaconda3\\Lib\\urllib\\request.py:525\u001b[0m, in \u001b[0;36mOpenerDirector.open\u001b[1;34m(self, fullurl, data, timeout)\u001b[0m\n\u001b[0;32m    524\u001b[0m     meth \u001b[38;5;241m=\u001b[39m \u001b[38;5;28mgetattr\u001b[39m(processor, meth_name)\n\u001b[1;32m--> 525\u001b[0m     response \u001b[38;5;241m=\u001b[39m meth(req, response)\n\u001b[0;32m    527\u001b[0m \u001b[38;5;28;01mreturn\u001b[39;00m response\n",
      "File \u001b[1;32m~\\anaconda3\\Lib\\urllib\\request.py:634\u001b[0m, in \u001b[0;36mHTTPErrorProcessor.http_response\u001b[1;34m(self, request, response)\u001b[0m\n\u001b[0;32m    633\u001b[0m \u001b[38;5;28;01mif\u001b[39;00m \u001b[38;5;129;01mnot\u001b[39;00m (\u001b[38;5;241m200\u001b[39m \u001b[38;5;241m<\u001b[39m\u001b[38;5;241m=\u001b[39m code \u001b[38;5;241m<\u001b[39m \u001b[38;5;241m300\u001b[39m):\n\u001b[1;32m--> 634\u001b[0m     response \u001b[38;5;241m=\u001b[39m \u001b[38;5;28mself\u001b[39m\u001b[38;5;241m.\u001b[39mparent\u001b[38;5;241m.\u001b[39merror(\n\u001b[0;32m    635\u001b[0m         \u001b[38;5;124m'\u001b[39m\u001b[38;5;124mhttp\u001b[39m\u001b[38;5;124m'\u001b[39m, request, response, code, msg, hdrs)\n\u001b[0;32m    637\u001b[0m \u001b[38;5;28;01mreturn\u001b[39;00m response\n",
      "File \u001b[1;32m~\\anaconda3\\Lib\\urllib\\request.py:563\u001b[0m, in \u001b[0;36mOpenerDirector.error\u001b[1;34m(self, proto, *args)\u001b[0m\n\u001b[0;32m    562\u001b[0m args \u001b[38;5;241m=\u001b[39m (\u001b[38;5;28mdict\u001b[39m, \u001b[38;5;124m'\u001b[39m\u001b[38;5;124mdefault\u001b[39m\u001b[38;5;124m'\u001b[39m, \u001b[38;5;124m'\u001b[39m\u001b[38;5;124mhttp_error_default\u001b[39m\u001b[38;5;124m'\u001b[39m) \u001b[38;5;241m+\u001b[39m orig_args\n\u001b[1;32m--> 563\u001b[0m \u001b[38;5;28;01mreturn\u001b[39;00m \u001b[38;5;28mself\u001b[39m\u001b[38;5;241m.\u001b[39m_call_chain(\u001b[38;5;241m*\u001b[39margs)\n",
      "File \u001b[1;32m~\\anaconda3\\Lib\\urllib\\request.py:496\u001b[0m, in \u001b[0;36mOpenerDirector._call_chain\u001b[1;34m(self, chain, kind, meth_name, *args)\u001b[0m\n\u001b[0;32m    495\u001b[0m func \u001b[38;5;241m=\u001b[39m \u001b[38;5;28mgetattr\u001b[39m(handler, meth_name)\n\u001b[1;32m--> 496\u001b[0m result \u001b[38;5;241m=\u001b[39m func(\u001b[38;5;241m*\u001b[39margs)\n\u001b[0;32m    497\u001b[0m \u001b[38;5;28;01mif\u001b[39;00m result \u001b[38;5;129;01mis\u001b[39;00m \u001b[38;5;129;01mnot\u001b[39;00m \u001b[38;5;28;01mNone\u001b[39;00m:\n",
      "File \u001b[1;32m~\\anaconda3\\Lib\\urllib\\request.py:643\u001b[0m, in \u001b[0;36mHTTPDefaultErrorHandler.http_error_default\u001b[1;34m(self, req, fp, code, msg, hdrs)\u001b[0m\n\u001b[0;32m    642\u001b[0m \u001b[38;5;28;01mdef\u001b[39;00m \u001b[38;5;21mhttp_error_default\u001b[39m(\u001b[38;5;28mself\u001b[39m, req, fp, code, msg, hdrs):\n\u001b[1;32m--> 643\u001b[0m     \u001b[38;5;28;01mraise\u001b[39;00m HTTPError(req\u001b[38;5;241m.\u001b[39mfull_url, code, msg, hdrs, fp)\n",
      "\u001b[1;31mHTTPError\u001b[0m: HTTP Error 400: Bad Request",
      "\nDuring handling of the above exception, another exception occurred:\n",
      "\u001b[1;31mRequestError\u001b[0m                              Traceback (most recent call last)",
      "Cell \u001b[1;32mIn[8], line 27\u001b[0m\n\u001b[0;32m     24\u001b[0m     audio \u001b[38;5;241m=\u001b[39m r\u001b[38;5;241m.\u001b[39mrecord(source)\n\u001b[0;32m     26\u001b[0m \u001b[38;5;66;03m# Google Web Speech API를 사용하여 텍스트로 변환\u001b[39;00m\n\u001b[1;32m---> 27\u001b[0m result \u001b[38;5;241m=\u001b[39m r\u001b[38;5;241m.\u001b[39mrecognize_google(audio_data\u001b[38;5;241m=\u001b[39maudio, language\u001b[38;5;241m=\u001b[39m\u001b[38;5;124m'\u001b[39m\u001b[38;5;124mko-KR\u001b[39m\u001b[38;5;124m'\u001b[39m)\n\u001b[0;32m     29\u001b[0m \u001b[38;5;66;03m# 변환된 텍스트 출력\u001b[39;00m\n\u001b[0;32m     30\u001b[0m \u001b[38;5;28mprint\u001b[39m(result)\n",
      "File \u001b[1;32m~\\anaconda3\\Lib\\site-packages\\speech_recognition\\__init__.py:710\u001b[0m, in \u001b[0;36mRecognizer.recognize_google\u001b[1;34m(self, audio_data, key, language, pfilter, show_all, with_confidence)\u001b[0m\n\u001b[0;32m    708\u001b[0m     response \u001b[38;5;241m=\u001b[39m urlopen(request, timeout\u001b[38;5;241m=\u001b[39m\u001b[38;5;28mself\u001b[39m\u001b[38;5;241m.\u001b[39moperation_timeout)\n\u001b[0;32m    709\u001b[0m \u001b[38;5;28;01mexcept\u001b[39;00m HTTPError \u001b[38;5;28;01mas\u001b[39;00m e:\n\u001b[1;32m--> 710\u001b[0m     \u001b[38;5;28;01mraise\u001b[39;00m RequestError(\u001b[38;5;124m\"\u001b[39m\u001b[38;5;124mrecognition request failed: \u001b[39m\u001b[38;5;132;01m{}\u001b[39;00m\u001b[38;5;124m\"\u001b[39m\u001b[38;5;241m.\u001b[39mformat(e\u001b[38;5;241m.\u001b[39mreason))\n\u001b[0;32m    711\u001b[0m \u001b[38;5;28;01mexcept\u001b[39;00m URLError \u001b[38;5;28;01mas\u001b[39;00m e:\n\u001b[0;32m    712\u001b[0m     \u001b[38;5;28;01mraise\u001b[39;00m RequestError(\u001b[38;5;124m\"\u001b[39m\u001b[38;5;124mrecognition connection failed: \u001b[39m\u001b[38;5;132;01m{}\u001b[39;00m\u001b[38;5;124m\"\u001b[39m\u001b[38;5;241m.\u001b[39mformat(e\u001b[38;5;241m.\u001b[39mreason))\n",
      "\u001b[1;31mRequestError\u001b[0m: recognition request failed: Bad Request"
     ]
    }
   ],
   "source": [
    "# pip install SpeechRecognition\n",
    "# pip install moviepy SpeechRecognition pydub\n",
    "\n",
    "import moviepy.editor as mp\n",
    "import speech_recognition as sr\n",
    "import os\n",
    "\n",
    "for i in range(3,54):\n",
    "    # 동영상 파일 경로\n",
    "    video_path = f'pass/pass{i}.mp4'\n",
    "\n",
    "    # 동영상 파일 이름에서 확장자를 제외한 부분 추출\n",
    "    video_name = os.path.splitext(os.path.basename(video_path))[0]\n",
    "\n",
    "    # 동영상에서 오디오 추출\n",
    "    audio_file_path = f\"{video_name}_audio.wav\"\n",
    "    clip = mp.VideoFileClip(video_path)\n",
    "    clip.audio.write_audiofile(audio_file_path)\n",
    "\n",
    "    # 추출한 오디오 파일 로드\n",
    "    r = sr.Recognizer()\n",
    "\n",
    "    with sr.AudioFile(audio_file_path) as source:\n",
    "        audio = r.record(source)\n",
    "\n",
    "    # Google Web Speech API를 사용하여 텍스트로 변환\n",
    "    result = r.recognize_google(audio_data=audio, language='ko-KR')\n",
    "\n",
    "    # 변환된 텍스트 출력\n",
    "    print(result)\n",
    "\n",
    "    # 변환된 텍스트 파일에 저장\n",
    "    text_file_path = f\"{video_name}_transcription.txt\"\n",
    "    with open(text_file_path, \"w\", encoding=\"utf-8\") as text_file:\n",
    "        text_file.write(result)\n",
    "\n",
    "    # 파일에 저장된 내용 확인\n",
    "    with open(text_file_path, \"r\", encoding=\"utf-8\") as read_file:\n",
    "        saved_text = read_file.read()\n",
    "\n",
    "    print(\"변환된 텍스트가 파일에 저장되었습니다.\")\n",
    "    print(\"파일 내용:\")\n",
    "    print(saved_text)"
   ]
  },
  {
   "cell_type": "markdown",
   "id": "5efd7e36",
   "metadata": {},
   "source": [
    "## CLOVA Speech Recognition api"
   ]
  },
  {
   "cell_type": "code",
   "execution_count": null,
   "id": "b055d2b5",
   "metadata": {},
   "outputs": [],
   "source": [
    "import sys\n",
    "import requests\n",
    "client_id = \"YOUR_CLIENT_ID\"\n",
    "client_secret = \"YOUR_CLIENT_SECRET\"\n",
    "lang = \"Kor\" # 언어 코드 ( Kor, Jpn, Eng, Chn )\n",
    "url = \"https://naveropenapi.apigw.ntruss.com/recog/v1/stt?lang=\" + lang\n",
    "data = open('음성 파일 경로', 'rb')\n",
    "headers = {\n",
    "    \"X-NCP-APIGW-API-KEY-ID\": client_id,\n",
    "    \"X-NCP-APIGW-API-KEY\": client_secret,\n",
    "    \"Content-Type\": \"application/octet-stream\"\n",
    "}\n",
    "response = requests.post(url,  data=data, headers=headers)\n",
    "rescode = response.status_code\n",
    "if(rescode == 200):\n",
    "    print (response.text)\n",
    "else:\n",
    "    print(\"Error : \" + response.text)"
   ]
  },
  {
   "cell_type": "markdown",
   "id": "e73ac578",
   "metadata": {},
   "source": [
    "## google web speech api 이용한 STT\n",
    "\n",
    "### 1. 음성 인식"
   ]
  },
  {
   "cell_type": "code",
   "execution_count": 1,
   "id": "ff6e7432",
   "metadata": {},
   "outputs": [
    {
     "name": "stdout",
     "output_type": "stream",
     "text": [
      "말씀하세요. : \n",
      "[]\n",
      "말씀하세요. : \n",
      "{'alternative': [{'transcript': '안녕하세요', 'confidence': 0.87048674}], 'final': True}\n",
      "말씀하세요. : \n",
      "{'alternative': [{'transcript': '안녕하세요 반갑습니다', 'confidence': 0.87048674}], 'final': True}\n",
      "말씀하세요. : \n",
      "[]\n",
      "말씀하세요. : \n",
      "[]\n",
      "말씀하세요. : \n",
      "[]\n",
      "말씀하세요. : \n"
     ]
    },
    {
     "ename": "KeyboardInterrupt",
     "evalue": "",
     "output_type": "error",
     "traceback": [
      "\u001b[1;31m---------------------------------------------------------------------------\u001b[0m",
      "\u001b[1;31mKeyboardInterrupt\u001b[0m                         Traceback (most recent call last)",
      "Cell \u001b[1;32mIn[1], line 21\u001b[0m\n\u001b[0;32m     18\u001b[0m         \u001b[38;5;28mprint\u001b[39m(\u001b[38;5;124m\"\u001b[39m\u001b[38;5;124mGoogle 음성 인식 서비스에서 결과를 요청할 수 없습니다.; \u001b[39m\u001b[38;5;132;01m{0}\u001b[39;00m\u001b[38;5;124m\"\u001b[39m\u001b[38;5;241m.\u001b[39mformat(e))\n\u001b[0;32m     20\u001b[0m \u001b[38;5;28;01mwhile\u001b[39;00m \u001b[38;5;28;01mTrue\u001b[39;00m :\n\u001b[1;32m---> 21\u001b[0m     my_speech \u001b[38;5;241m=\u001b[39m my_stt()\n\u001b[0;32m     22\u001b[0m     \u001b[38;5;28;01mif\u001b[39;00m my_speech \u001b[38;5;241m==\u001b[39m \u001b[38;5;124m\"\u001b[39m\u001b[38;5;124m종료\u001b[39m\u001b[38;5;124m\"\u001b[39m :\n\u001b[0;32m     23\u001b[0m         \u001b[38;5;28;01mbreak\u001b[39;00m\n",
      "Cell \u001b[1;32mIn[1], line 9\u001b[0m, in \u001b[0;36mmy_stt\u001b[1;34m()\u001b[0m\n\u001b[0;32m      7\u001b[0m \u001b[38;5;28;01mwith\u001b[39;00m sr\u001b[38;5;241m.\u001b[39mMicrophone() \u001b[38;5;28;01mas\u001b[39;00m source:\n\u001b[0;32m      8\u001b[0m     \u001b[38;5;28mprint\u001b[39m(\u001b[38;5;124m\"\u001b[39m\u001b[38;5;124m말씀하세요. : \u001b[39m\u001b[38;5;124m\"\u001b[39m)\n\u001b[1;32m----> 9\u001b[0m     audio \u001b[38;5;241m=\u001b[39m r\u001b[38;5;241m.\u001b[39mlisten(source)\n\u001b[0;32m     11\u001b[0m mySpeech \u001b[38;5;241m=\u001b[39m r\u001b[38;5;241m.\u001b[39mrecognize_google(audio, language\u001b[38;5;241m=\u001b[39m\u001b[38;5;124m'\u001b[39m\u001b[38;5;124mko\u001b[39m\u001b[38;5;124m'\u001b[39m, show_all\u001b[38;5;241m=\u001b[39m\u001b[38;5;28;01mTrue\u001b[39;00m)\n\u001b[0;32m     12\u001b[0m \u001b[38;5;28;01mtry\u001b[39;00m :\n",
      "File \u001b[1;32m~\\anaconda3\\Lib\\site-packages\\speech_recognition\\__init__.py:491\u001b[0m, in \u001b[0;36mRecognizer.listen\u001b[1;34m(self, source, timeout, phrase_time_limit, snowboy_configuration)\u001b[0m\n\u001b[0;32m    488\u001b[0m \u001b[38;5;28;01mif\u001b[39;00m timeout \u001b[38;5;129;01mand\u001b[39;00m elapsed_time \u001b[38;5;241m>\u001b[39m timeout:\n\u001b[0;32m    489\u001b[0m     \u001b[38;5;28;01mraise\u001b[39;00m WaitTimeoutError(\u001b[38;5;124m\"\u001b[39m\u001b[38;5;124mlistening timed out while waiting for phrase to start\u001b[39m\u001b[38;5;124m\"\u001b[39m)\n\u001b[1;32m--> 491\u001b[0m buffer \u001b[38;5;241m=\u001b[39m source\u001b[38;5;241m.\u001b[39mstream\u001b[38;5;241m.\u001b[39mread(source\u001b[38;5;241m.\u001b[39mCHUNK)\n\u001b[0;32m    492\u001b[0m \u001b[38;5;28;01mif\u001b[39;00m \u001b[38;5;28mlen\u001b[39m(buffer) \u001b[38;5;241m==\u001b[39m \u001b[38;5;241m0\u001b[39m: \u001b[38;5;28;01mbreak\u001b[39;00m  \u001b[38;5;66;03m# reached end of the stream\u001b[39;00m\n\u001b[0;32m    493\u001b[0m frames\u001b[38;5;241m.\u001b[39mappend(buffer)\n",
      "File \u001b[1;32m~\\anaconda3\\Lib\\site-packages\\speech_recognition\\__init__.py:199\u001b[0m, in \u001b[0;36mMicrophone.MicrophoneStream.read\u001b[1;34m(self, size)\u001b[0m\n\u001b[0;32m    198\u001b[0m \u001b[38;5;28;01mdef\u001b[39;00m \u001b[38;5;21mread\u001b[39m(\u001b[38;5;28mself\u001b[39m, size):\n\u001b[1;32m--> 199\u001b[0m     \u001b[38;5;28;01mreturn\u001b[39;00m \u001b[38;5;28mself\u001b[39m\u001b[38;5;241m.\u001b[39mpyaudio_stream\u001b[38;5;241m.\u001b[39mread(size, exception_on_overflow\u001b[38;5;241m=\u001b[39m\u001b[38;5;28;01mFalse\u001b[39;00m)\n",
      "File \u001b[1;32m~\\anaconda3\\Lib\\site-packages\\pyaudio\\__init__.py:570\u001b[0m, in \u001b[0;36mPyAudio.Stream.read\u001b[1;34m(self, num_frames, exception_on_overflow)\u001b[0m\n\u001b[0;32m    567\u001b[0m \u001b[38;5;28;01mif\u001b[39;00m \u001b[38;5;129;01mnot\u001b[39;00m \u001b[38;5;28mself\u001b[39m\u001b[38;5;241m.\u001b[39m_is_input:\n\u001b[0;32m    568\u001b[0m     \u001b[38;5;28;01mraise\u001b[39;00m \u001b[38;5;167;01mIOError\u001b[39;00m(\u001b[38;5;124m\"\u001b[39m\u001b[38;5;124mNot input stream\u001b[39m\u001b[38;5;124m\"\u001b[39m,\n\u001b[0;32m    569\u001b[0m                   paCanNotReadFromAnOutputOnlyStream)\n\u001b[1;32m--> 570\u001b[0m \u001b[38;5;28;01mreturn\u001b[39;00m pa\u001b[38;5;241m.\u001b[39mread_stream(\u001b[38;5;28mself\u001b[39m\u001b[38;5;241m.\u001b[39m_stream, num_frames,\n\u001b[0;32m    571\u001b[0m                       exception_on_overflow)\n",
      "\u001b[1;31mKeyboardInterrupt\u001b[0m: "
     ]
    }
   ],
   "source": [
    "# pip install pyaudio\n",
    "\n",
    "import speech_recognition as sr\n",
    "\n",
    "def my_stt() :\n",
    "    r = sr.Recognizer()\n",
    "    with sr.Microphone() as source:\n",
    "        print(\"말씀하세요. : \")\n",
    "        audio = r.listen(source)\n",
    "    \n",
    "    mySpeech = r.recognize_google(audio, language='ko', show_all=True)\n",
    "    try :\n",
    "        return mySpeech\n",
    "        \n",
    "    except sr.UnknownValueError:\n",
    "        print(\"Google 음성 인식이 오디오를 이해할 수 없습니다.\")\n",
    "    except sr.RequestError as e:\n",
    "        print(\"Google 음성 인식 서비스에서 결과를 요청할 수 없습니다.; {0}\".format(e))\n",
    "\n",
    "while True :\n",
    "    my_speech = my_stt()\n",
    "    if my_speech == \"종료\" :\n",
    "        break\n",
    "    else :\n",
    "        print(my_speech)"
   ]
  },
  {
   "cell_type": "markdown",
   "id": "cb3ad628",
   "metadata": {},
   "source": [
    "### 2. 음성인식해서 텍스트 파일로 저장"
   ]
  },
  {
   "cell_type": "code",
   "execution_count": 6,
   "id": "2dff9783",
   "metadata": {},
   "outputs": [
    {
     "name": "stdout",
     "output_type": "stream",
     "text": [
      "마이크로부터 음성을 입력하세요...\n",
      "음성 인식 결과: 안녕하세요 지원자 한지원입니다 저는 증인으로 증언을 하면서 최대한 저의 주관적인 생각이나 판단을 예지하고 제가 목격한 장면에 관한 증언만 할 것입니다\n",
      "텍스트 파일로 저장되었습니다. 파일 경로: recognized_text.txt\n"
     ]
    }
   ],
   "source": [
    "import speech_recognition as sr\n",
    "\n",
    "def recognize_and_save_to_text(file_path):\n",
    "    recognizer = sr.Recognizer()\n",
    "\n",
    "    with sr.Microphone() as source:\n",
    "        print(\"마이크로부터 음성을 입력하세요...\")\n",
    "        audio = recognizer.listen(source, timeout=60)  # 5초 동안 음성 입력 기다림\n",
    "\n",
    "    try:\n",
    "        text = recognizer.recognize_google(audio, language='ko-KR')\n",
    "        print(\"음성 인식 결과:\", text)\n",
    "\n",
    "        with open(file_path, 'w', encoding='utf-8') as file:\n",
    "            file.write(text)\n",
    "            print(f'텍스트 파일로 저장되었습니다. 파일 경로: {file_path}')\n",
    "\n",
    "    except sr.UnknownValueError:\n",
    "        print(\"음성을 인식할 수 없습니다.\")\n",
    "    except sr.RequestError as e:\n",
    "        print(f\"Google Web Speech API에 접근할 수 없습니다: {e}\")\n",
    "\n",
    "# 텍스트 파일로 저장할 경로\n",
    "output_file_path = 'recognized_text.txt'\n",
    "\n",
    "# 음성을 텍스트로 변환하고 저장\n",
    "recognize_and_save_to_text(output_file_path)"
   ]
  },
  {
   "cell_type": "markdown",
   "id": "5013aa8f",
   "metadata": {},
   "source": [
    "## 텍스트 파일 불러와서 토큰화 하기"
   ]
  },
  {
   "cell_type": "code",
   "execution_count": 2,
   "id": "e6e9a748",
   "metadata": {},
   "outputs": [
    {
     "name": "stdout",
     "output_type": "stream",
     "text": [
      "['안녕하십니까', '지원', '자', '한지연', '저', '는', '증인', '으로', '증언', '을', '하면서', '최대한', '저', '의', '주관', '적', '인', '생각', '이나', '판단', '을', '배제', '하고', '제', '가', '목격', '한', '장면', '에', '관', '한', '증언', '만', '할', '것', '입니다', '첫', '번', '째', '로', '만약', '동기', '동기', '가', '동기', '의', '성희롱', '고발', '이', '사실', '일', '경우', '에는', '어', '제', '가', '최근', '동기', '가', '팀', '장님', '을', '자주', '비난', '했다는', '사실', '을', '언급', '함', '으로써', '투명한', '조사', '과정', '을', '오히려', '방해', '할', '수', '있고', '어', '해당', '사건', '은', '성희롱', '사건', '인', '만큼', '당사자', '만이', '알', '고', '있는', '일이', '있었을', '수도', '있기', '때문', '에', '저', '는', '최대한', '저', '의', '주관', '을', '배제', '할', '것', '입니다', '두', '번', '째', '로', '만약', '성희롱', '고발', '이', '사실', '이', '성희롱', '이', '사실', '이', '아닐', '경우', '에는', '만약', '팀', '장님', '께서', '제', '가', '목격', '한', '장면', '에', '의하면', '정말', '손목', '터치', '만', '했을', '경우', '에는', '제', '가', '그', '사실', '만을', '언급', '한', '그', '사실', '만을', '언급', '하다', '충분히', '팀', '장님', '의', '결백', '을', '입증', '하는데', '도움', '이', '될', '수', '있고', '또', '조사', '과정', '속', '에서', '동기', '가', '최근', '에', '인사', '국가', '를', '나쁘게', '받았다는', '점', '을', '감', '사실', '에서', '충분히', '파악', '할', '수', '있을', '것', '이라고', '생각', '하기', '때문', '에', '제', '가', '주관', '을', '최대한', '배제', '하고', '제', '가', '해당', '장면', '에서', '목격', '한', '바늘', '증언', '할', '것', '입니다', '성희롱', '엔진', '을', '본인', '이', '판단', '을', '하고', '성희롱', '교육', '경우', '에는', '동기', '입장', '에', '대해', '서는', '얘기', '한다', '팀', '장님', '이런', '느낌', '으로', '드렸거든요', '아니', '내', '가', '성희롱', '의', '경우', '와', '성희롱', '이', '아닐', '경우', '모두', '제', '주관', '을', '배제', '하고', '말', '하는', '것', '이', '조사', '과정', '에', '있어서', '도움', '이', '될', '것', '이라는', '일과', '그것', '은', '제', '가', '판단', '할', '바', '가', '아니지만', '두', '가지', '가능성', '이', '충분히', '존재', '하기', '때문', '에', '두', '가지', '가능성', '이', '존재', '하는', '상황', '에서', '제', '가', '최대한', '그', '조', '사', '과정', '을', '방해', '하지', '않는', '방향', '에서', '발언', '을', '해야', '한다고', '말', '이야', '근데', '지금', '성희롱', '이라고', '한다면', '성희롱', '이', '이제', '아니더라도', '나름', '대로', '주관', '적', '이고', '성희롱', '일거다', '아닐', '거', '라는', '판단', '이라는', '생각', '을', '할', '수', '있거든요', '제', '스스로', '는', '이', '것', '이', '성희롱', '일지', '성희롱', '이', '아닐지', '대한', '판단', '을', '내', '부적', '으로', '할', '수', '있다고', '생각', '합니다', '그러나', '증언', '자체', '에서는', '그러한', '저', '의', '주관', '이', '배제', '되어야', '한다고', '생각', '합니다', '저', '는', '제', '가', '듣기', '에는', '성희롱', '이럴', '경우', '성희롱', '이', '아닐', '경우', '본인', '이', '먼저', '판단', '을', '하고', '그랬을', '경우', '어떻게', '하겠다', '이런', '느낌', '으로', '좀', '들었거든요', '알겠습니다', '그럼', '성희롱', '의', '판단', '기준', '이', '뭐라고', '생각', '하시나요', '성희롱', '의', '판단', '기준', '은', '피해자', '가', '성적', '으로', '모멸', '감', '을', '느끼는', '행동', '이나', '발언', '인', '데이', '성적', '인', '모멸', '감', '이', '상당히', '주관', '적', '일', '수', '있고', '또', '입증', '이', '어려운', '부분', '이기', '때문', '에', '그렇기', '때문', '에', '성희롱', '이', '문제', '가', '입증', '하기', '어려운', '사건', '이라고', '생각', '합니다', '두', '가지', '수고', '하셨습니다']\n"
     ]
    }
   ],
   "source": [
    "from konlpy.tag import Okt\n",
    "\n",
    "# 텍스트 파일 불러오기\n",
    "file_path = 'pass1_transcription.txt'  # 파일 경로를 실제 파일의 경로로 바꿔주세요.\n",
    "\n",
    "with open(file_path, 'r', encoding='utf-8') as file:\n",
    "    text = file.read()\n",
    "\n",
    "okt = Okt()\n",
    "tokens = okt.morphs(text)\n",
    "\n",
    "# 토큰 출력\n",
    "print(tokens)"
   ]
  },
  {
   "cell_type": "code",
   "execution_count": 4,
   "id": "9f1795cf",
   "metadata": {},
   "outputs": [],
   "source": [
    "from konlpy.tag import *\n",
    "\n",
    "hannanum = Hannanum()\n",
    "kkma = Kkma()\n",
    "komoran = Komoran()\n",
    "okt = Okt()"
   ]
  },
  {
   "cell_type": "code",
   "execution_count": 5,
   "id": "aed13c30",
   "metadata": {},
   "outputs": [
    {
     "data": {
      "text/plain": [
       "['안녕',\n",
       " '지원자',\n",
       " '한지연',\n",
       " '저',\n",
       " '증인',\n",
       " '증언',\n",
       " '저',\n",
       " '주관적',\n",
       " '생각',\n",
       " '판단',\n",
       " '배제',\n",
       " '저',\n",
       " '목격',\n",
       " '장면',\n",
       " '증언',\n",
       " '것',\n",
       " '첫',\n",
       " '번',\n",
       " '동기',\n",
       " '동기',\n",
       " '동기',\n",
       " '성희롱',\n",
       " '고발',\n",
       " '사실',\n",
       " '경우',\n",
       " '어',\n",
       " '저',\n",
       " '동기',\n",
       " '팀장님',\n",
       " '비난',\n",
       " '사실',\n",
       " '언급',\n",
       " '투명',\n",
       " '조사',\n",
       " '과정',\n",
       " '방해',\n",
       " '수',\n",
       " '어',\n",
       " '해당',\n",
       " '사건',\n",
       " '성희롱',\n",
       " '사건',\n",
       " '만큼',\n",
       " '당사자만',\n",
       " '일',\n",
       " '수',\n",
       " '때문',\n",
       " '저',\n",
       " '저',\n",
       " '주관',\n",
       " '배제',\n",
       " '것',\n",
       " '두',\n",
       " '번',\n",
       " '성희롱',\n",
       " '고발',\n",
       " '사실',\n",
       " '성희롱',\n",
       " '사실',\n",
       " '경우',\n",
       " '팀장님',\n",
       " '저',\n",
       " '목격',\n",
       " '장면',\n",
       " '손목',\n",
       " '터치',\n",
       " '경우',\n",
       " '저',\n",
       " '사실만',\n",
       " '언급',\n",
       " '사실만',\n",
       " '언급',\n",
       " '팀장님',\n",
       " '결백',\n",
       " '입증',\n",
       " '도움',\n",
       " '수',\n",
       " '조사',\n",
       " '과정',\n",
       " '속',\n",
       " '동기',\n",
       " '최근',\n",
       " '인사',\n",
       " '국가',\n",
       " '점',\n",
       " '감사실',\n",
       " '파악',\n",
       " '수',\n",
       " '것',\n",
       " '생각',\n",
       " '때문',\n",
       " '저',\n",
       " '주관',\n",
       " '배제',\n",
       " '저',\n",
       " '해당',\n",
       " '장면',\n",
       " '목격',\n",
       " '바늘',\n",
       " '증언',\n",
       " '것',\n",
       " '성희롱',\n",
       " '엔진',\n",
       " '본인',\n",
       " '판단',\n",
       " '성희롱교육',\n",
       " '경우',\n",
       " '동기',\n",
       " '입장',\n",
       " '얘기',\n",
       " '팀장님',\n",
       " '나',\n",
       " '성희롱',\n",
       " '경우',\n",
       " '성희롱',\n",
       " '경우',\n",
       " '저',\n",
       " '주관',\n",
       " '배제',\n",
       " '말',\n",
       " '것',\n",
       " '조사',\n",
       " '과정',\n",
       " '도움',\n",
       " '것',\n",
       " '일',\n",
       " '그것',\n",
       " '저',\n",
       " '판단',\n",
       " '바',\n",
       " '두',\n",
       " '가지',\n",
       " '가능성',\n",
       " '존재하기',\n",
       " '때문',\n",
       " '두',\n",
       " '가지',\n",
       " '가능성',\n",
       " '존재',\n",
       " '상황',\n",
       " '저',\n",
       " '조사과정',\n",
       " '방해',\n",
       " '방향',\n",
       " '발언',\n",
       " '말',\n",
       " '근데',\n",
       " '성희롱',\n",
       " '성희롱',\n",
       " '나름',\n",
       " '주관적',\n",
       " '성희롱',\n",
       " '일거',\n",
       " '것',\n",
       " '판단',\n",
       " '생각',\n",
       " '수',\n",
       " '저',\n",
       " '이것',\n",
       " '성희롱',\n",
       " '성희롱',\n",
       " '판단',\n",
       " '내부적',\n",
       " '수',\n",
       " '생각',\n",
       " '증언',\n",
       " '자체',\n",
       " '저',\n",
       " '주관',\n",
       " '배제',\n",
       " '생각',\n",
       " '저',\n",
       " '저',\n",
       " '성희롱',\n",
       " '이럴',\n",
       " '경우',\n",
       " '성희롱',\n",
       " '경우',\n",
       " '본인',\n",
       " '판단',\n",
       " '경우',\n",
       " '성희롱',\n",
       " '판단',\n",
       " '기준',\n",
       " '뭐',\n",
       " '생각하시',\n",
       " '성희롱',\n",
       " '판단',\n",
       " '기준',\n",
       " '피해자',\n",
       " '성적',\n",
       " '모멸감',\n",
       " '행동',\n",
       " '발언',\n",
       " '데',\n",
       " '성적',\n",
       " '모멸감',\n",
       " '주관적',\n",
       " '수',\n",
       " '입증',\n",
       " '부분',\n",
       " '때문',\n",
       " '때문',\n",
       " '성희롱',\n",
       " '문제',\n",
       " '입증',\n",
       " '사건',\n",
       " '생각',\n",
       " '두',\n",
       " '가지',\n",
       " '수고']"
      ]
     },
     "execution_count": 5,
     "metadata": {},
     "output_type": "execute_result"
    }
   ],
   "source": [
    "hannanum.nouns(text)"
   ]
  },
  {
   "cell_type": "code",
   "execution_count": 6,
   "id": "efe6f986",
   "metadata": {
    "scrolled": true
   },
   "outputs": [
    {
     "data": {
      "text/plain": [
       "['안녕',\n",
       " '지원자',\n",
       " '지연',\n",
       " '증인',\n",
       " '증언',\n",
       " '하면서',\n",
       " '최대',\n",
       " '저의',\n",
       " '주관적',\n",
       " '생각',\n",
       " '판단',\n",
       " '배제',\n",
       " '저',\n",
       " '목격',\n",
       " '장면',\n",
       " '번째',\n",
       " '만약',\n",
       " '동기',\n",
       " '성희롱',\n",
       " '고발',\n",
       " '사실',\n",
       " '경우',\n",
       " '최근',\n",
       " '팀장',\n",
       " '비난',\n",
       " '언급',\n",
       " '투명',\n",
       " '조사',\n",
       " '과정',\n",
       " '방해',\n",
       " '수',\n",
       " '해당',\n",
       " '사건',\n",
       " '만큼',\n",
       " '당사',\n",
       " '당사자만',\n",
       " '자만',\n",
       " '일',\n",
       " '때문',\n",
       " '주관',\n",
       " '손목',\n",
       " '터치',\n",
       " '결백',\n",
       " '입증',\n",
       " '도움',\n",
       " '속',\n",
       " '인사',\n",
       " '국가',\n",
       " '점',\n",
       " '감',\n",
       " '감사실',\n",
       " '파악',\n",
       " '제가',\n",
       " '최대한',\n",
       " '바늘',\n",
       " '엔진',\n",
       " '본인',\n",
       " '성희롱교육',\n",
       " '교육',\n",
       " '입장',\n",
       " '얘기',\n",
       " '느낌',\n",
       " '내가',\n",
       " '일과',\n",
       " '그것',\n",
       " '바',\n",
       " '가지',\n",
       " '가능성',\n",
       " '존재',\n",
       " '상황',\n",
       " '조사과정',\n",
       " '방향',\n",
       " '발언',\n",
       " '말',\n",
       " '지금',\n",
       " '나름',\n",
       " '일거',\n",
       " '거',\n",
       " '스스로',\n",
       " '이것',\n",
       " '일지',\n",
       " '대',\n",
       " '내부적',\n",
       " '자체',\n",
       " '기준',\n",
       " '뭐',\n",
       " '자가',\n",
       " '성적',\n",
       " '모멸감',\n",
       " '행동',\n",
       " '이',\n",
       " '부분',\n",
       " '문제',\n",
       " '수고']"
      ]
     },
     "execution_count": 6,
     "metadata": {},
     "output_type": "execute_result"
    }
   ],
   "source": [
    "kkma.nouns(text)"
   ]
  },
  {
   "cell_type": "code",
   "execution_count": 7,
   "id": "e1b8c543",
   "metadata": {},
   "outputs": [
    {
     "data": {
      "text/plain": [
       "['안녕하십니까',\n",
       " '지원',\n",
       " '한지연',\n",
       " '저',\n",
       " '증인',\n",
       " '증언',\n",
       " '최대한',\n",
       " '저',\n",
       " '주관',\n",
       " '생각',\n",
       " '판단',\n",
       " '배제',\n",
       " '제',\n",
       " '목격',\n",
       " '장면',\n",
       " '관',\n",
       " '증언',\n",
       " '것',\n",
       " '첫',\n",
       " '번',\n",
       " '만약',\n",
       " '동기',\n",
       " '동기',\n",
       " '동기',\n",
       " '성희롱',\n",
       " '고발',\n",
       " '사실',\n",
       " '일',\n",
       " '경우',\n",
       " '제',\n",
       " '최근',\n",
       " '동기',\n",
       " '팀',\n",
       " '장님',\n",
       " '자주',\n",
       " '비난',\n",
       " '사실',\n",
       " '언급',\n",
       " '함',\n",
       " '조사',\n",
       " '과정',\n",
       " '오히려',\n",
       " '방해',\n",
       " '수',\n",
       " '해당',\n",
       " '사건',\n",
       " '성희롱',\n",
       " '사건',\n",
       " '당사자',\n",
       " '알',\n",
       " '수도',\n",
       " '때문',\n",
       " '저',\n",
       " '최대한',\n",
       " '저',\n",
       " '주관',\n",
       " '배제',\n",
       " '것',\n",
       " '두',\n",
       " '번',\n",
       " '만약',\n",
       " '성희롱',\n",
       " '고발',\n",
       " '사실',\n",
       " '성희롱',\n",
       " '사실',\n",
       " '경우',\n",
       " '만약',\n",
       " '팀',\n",
       " '장님',\n",
       " '제',\n",
       " '목격',\n",
       " '장면',\n",
       " '정말',\n",
       " '손목',\n",
       " '터치',\n",
       " '경우',\n",
       " '제',\n",
       " '그',\n",
       " '사실',\n",
       " '언급',\n",
       " '그',\n",
       " '사실',\n",
       " '언급',\n",
       " '팀',\n",
       " '장님',\n",
       " '결백',\n",
       " '입증',\n",
       " '도움',\n",
       " '수',\n",
       " '또',\n",
       " '조사',\n",
       " '과정',\n",
       " '속',\n",
       " '동기',\n",
       " '최근',\n",
       " '인사',\n",
       " '국가',\n",
       " '점',\n",
       " '감',\n",
       " '사실',\n",
       " '파악',\n",
       " '수',\n",
       " '것',\n",
       " '생각',\n",
       " '때문',\n",
       " '제',\n",
       " '주관',\n",
       " '최대한',\n",
       " '배제',\n",
       " '제',\n",
       " '해당',\n",
       " '장면',\n",
       " '목격',\n",
       " '바늘',\n",
       " '증언',\n",
       " '것',\n",
       " '성희롱',\n",
       " '엔진',\n",
       " '본인',\n",
       " '판단',\n",
       " '성희롱',\n",
       " '교육',\n",
       " '경우',\n",
       " '동기',\n",
       " '입장',\n",
       " '대해',\n",
       " '얘기',\n",
       " '팀',\n",
       " '장님',\n",
       " '느낌',\n",
       " '내',\n",
       " '성희롱',\n",
       " '경우',\n",
       " '성희롱',\n",
       " '경우',\n",
       " '모두',\n",
       " '제',\n",
       " '주관',\n",
       " '배제',\n",
       " '말',\n",
       " '것',\n",
       " '조사',\n",
       " '과정',\n",
       " '도움',\n",
       " '것',\n",
       " '일과',\n",
       " '그것',\n",
       " '제',\n",
       " '판단',\n",
       " '바',\n",
       " '두',\n",
       " '가지',\n",
       " '가능성',\n",
       " '존재',\n",
       " '때문',\n",
       " '두',\n",
       " '가지',\n",
       " '가능성',\n",
       " '존재',\n",
       " '상황',\n",
       " '제',\n",
       " '최대한',\n",
       " '그',\n",
       " '과정',\n",
       " '방해',\n",
       " '방향',\n",
       " '발언',\n",
       " '말',\n",
       " '지금',\n",
       " '성희롱',\n",
       " '성희롱',\n",
       " '이제',\n",
       " '나름',\n",
       " '주관',\n",
       " '성희롱',\n",
       " '거',\n",
       " '판단',\n",
       " '생각',\n",
       " '수',\n",
       " '제',\n",
       " '스스로',\n",
       " '것',\n",
       " '성희롱',\n",
       " '일지',\n",
       " '성희롱',\n",
       " '대한',\n",
       " '판단',\n",
       " '부적',\n",
       " '수',\n",
       " '생각',\n",
       " '증언',\n",
       " '자체',\n",
       " '저',\n",
       " '주관',\n",
       " '배제',\n",
       " '생각',\n",
       " '저',\n",
       " '제',\n",
       " '듣기',\n",
       " '성희롱',\n",
       " '경우',\n",
       " '성희롱',\n",
       " '경우',\n",
       " '본인',\n",
       " '먼저',\n",
       " '판단',\n",
       " '경우',\n",
       " '느낌',\n",
       " '좀',\n",
       " '성희롱',\n",
       " '판단',\n",
       " '기준',\n",
       " '생각',\n",
       " '성희롱',\n",
       " '판단',\n",
       " '기준',\n",
       " '피해자',\n",
       " '성적',\n",
       " '모멸',\n",
       " '감',\n",
       " '행동',\n",
       " '발언',\n",
       " '데이',\n",
       " '성적',\n",
       " '모멸',\n",
       " '감',\n",
       " '주관',\n",
       " '일',\n",
       " '수',\n",
       " '또',\n",
       " '입증',\n",
       " '부분',\n",
       " '이기',\n",
       " '때문',\n",
       " '때문',\n",
       " '성희롱',\n",
       " '문제',\n",
       " '입증',\n",
       " '사건',\n",
       " '생각',\n",
       " '두',\n",
       " '가지',\n",
       " '수고']"
      ]
     },
     "execution_count": 7,
     "metadata": {},
     "output_type": "execute_result"
    }
   ],
   "source": [
    "okt.nouns(text)"
   ]
  },
  {
   "cell_type": "markdown",
   "id": "81b7a29e",
   "metadata": {},
   "source": [
    "## PyKoSpacing\n",
    "### 띄어쓰기"
   ]
  },
  {
   "cell_type": "code",
   "execution_count": 4,
   "id": "abe22692",
   "metadata": {},
   "outputs": [
    {
     "name": "stdout",
     "output_type": "stream",
     "text": [
      "Note: you may need to restart the kernel to use updated packages.\n"
     ]
    },
    {
     "name": "stderr",
     "output_type": "stream",
     "text": [
      "ERROR: Could not find a version that satisfies the requirement pykospacing (from versions: none)\n",
      "ERROR: No matching distribution found for pykospacing\n"
     ]
    }
   ],
   "source": [
    "pip install pykospacing"
   ]
  },
  {
   "cell_type": "code",
   "execution_count": 1,
   "id": "a11f2fe4",
   "metadata": {},
   "outputs": [],
   "source": [
    "sent = '김철수는 극중 두 인격의 사나이 이광수 역을 맡았다. 철수는 한국 유일의 태권도 전승자를 가리는 결전의 날을 앞두고 10년간 함께 훈련한 사형인 유연재(김광수 분)를 찾으러 속세로 내려온 인물이다.'"
   ]
  },
  {
   "cell_type": "code",
   "execution_count": 2,
   "id": "674d5462",
   "metadata": {},
   "outputs": [
    {
     "name": "stdout",
     "output_type": "stream",
     "text": [
      "김철수는극중두인격의사나이이광수역을맡았다.철수는한국유일의태권도전승자를가리는결전의날을앞두고10년간함께훈련한사형인유연재(김광수분)를찾으러속세로내려온인물이다.\n"
     ]
    }
   ],
   "source": [
    "new_sent = sent.replace(\" \", '') # 띄어쓰기가 없는 문장 임의로 만들기\n",
    "print(new_sent)"
   ]
  },
  {
   "cell_type": "markdown",
   "id": "6d876325",
   "metadata": {},
   "source": [
    "## Py-Hanspell\n",
    "### 네이버 한글 맞춤법 검사기"
   ]
  },
  {
   "cell_type": "code",
   "execution_count": 4,
   "id": "28c135e0",
   "metadata": {},
   "outputs": [
    {
     "name": "stdout",
     "output_type": "stream",
     "text": [
      "Collecting git+https://github.com/ssut/py-hanspell.git\n",
      "  Cloning https://github.com/ssut/py-hanspell.git to c:\\users\\msm\\appdata\\local\\temp\\pip-req-build-ns2llmyx\n",
      "  Resolved https://github.com/ssut/py-hanspell.git to commit fdc6ca50c19f1c85971437a072d89d4e5ce024b8\n",
      "  Preparing metadata (setup.py): started\n",
      "  Preparing metadata (setup.py): finished with status 'done'\n",
      "Requirement already satisfied: requests in c:\\users\\msm\\anaconda3\\lib\\site-packages (from py-hanspell==1.1) (2.31.0)\n",
      "Requirement already satisfied: charset-normalizer<4,>=2 in c:\\users\\msm\\anaconda3\\lib\\site-packages (from requests->py-hanspell==1.1) (2.0.4)\n",
      "Requirement already satisfied: idna<4,>=2.5 in c:\\users\\msm\\anaconda3\\lib\\site-packages (from requests->py-hanspell==1.1) (3.4)\n",
      "Requirement already satisfied: urllib3<3,>=1.21.1 in c:\\users\\msm\\anaconda3\\lib\\site-packages (from requests->py-hanspell==1.1) (1.26.18)\n",
      "Requirement already satisfied: certifi>=2017.4.17 in c:\\users\\msm\\anaconda3\\lib\\site-packages (from requests->py-hanspell==1.1) (2023.7.22)\n",
      "Building wheels for collected packages: py-hanspell\n",
      "  Building wheel for py-hanspell (setup.py): started\n",
      "  Building wheel for py-hanspell (setup.py): finished with status 'done'\n",
      "  Created wheel for py-hanspell: filename=py_hanspell-1.1-py3-none-any.whl size=4860 sha256=b9b4761fc42847e1dc0efdfd34f1e13bb052850076d95ac75350012817071d4b\n",
      "  Stored in directory: C:\\Users\\MSM\\AppData\\Local\\Temp\\pip-ephem-wheel-cache-unyfm9x0\\wheels\\18\\0f\\39\\d0e3972de3368ba3ab62817cd7b17a74123414afd774ce604b\n",
      "Successfully built py-hanspell\n",
      "Installing collected packages: py-hanspell\n",
      "Successfully installed py-hanspell-1.1\n",
      "Note: you may need to restart the kernel to use updated packages.\n"
     ]
    },
    {
     "name": "stderr",
     "output_type": "stream",
     "text": [
      "  Running command git clone --filter=blob:none --quiet https://github.com/ssut/py-hanspell.git 'C:\\Users\\MSM\\AppData\\Local\\Temp\\pip-req-build-ns2llmyx'\n"
     ]
    }
   ],
   "source": [
    "pip install git+https://github.com/ssut/py-hanspell.git"
   ]
  },
  {
   "cell_type": "code",
   "execution_count": 1,
   "id": "2f9a9c17",
   "metadata": {},
   "outputs": [
    {
     "ename": "KeyError",
     "evalue": "'html'",
     "output_type": "error",
     "traceback": [
      "\u001b[1;31m---------------------------------------------------------------------------\u001b[0m",
      "\u001b[1;31mKeyError\u001b[0m                                  Traceback (most recent call last)",
      "Cell \u001b[1;32mIn[1], line 4\u001b[0m\n\u001b[0;32m      1\u001b[0m \u001b[38;5;28;01mfrom\u001b[39;00m \u001b[38;5;21;01mhanspell\u001b[39;00m \u001b[38;5;28;01mimport\u001b[39;00m spell_checker\n\u001b[0;32m      3\u001b[0m sent \u001b[38;5;241m=\u001b[39m \u001b[38;5;124m\"\u001b[39m\u001b[38;5;124m맞춤법 틀리면 외 않되? 쓰고싶은대로쓰면돼지 \u001b[39m\u001b[38;5;124m\"\u001b[39m\n\u001b[1;32m----> 4\u001b[0m spelled_sent \u001b[38;5;241m=\u001b[39m spell_checker\u001b[38;5;241m.\u001b[39mcheck(sent)\n\u001b[0;32m      6\u001b[0m hanspell_sent \u001b[38;5;241m=\u001b[39m spelled_sent\u001b[38;5;241m.\u001b[39mchecked\n\u001b[0;32m      7\u001b[0m \u001b[38;5;28mprint\u001b[39m(hanspell_sent)\n",
      "File \u001b[1;32m~\\anaconda3\\Lib\\site-packages\\hanspell\\spell_checker.py:62\u001b[0m, in \u001b[0;36mcheck\u001b[1;34m(text)\u001b[0m\n\u001b[0;32m     59\u001b[0m passed_time \u001b[38;5;241m=\u001b[39m time\u001b[38;5;241m.\u001b[39mtime() \u001b[38;5;241m-\u001b[39m start_time\n\u001b[0;32m     61\u001b[0m data \u001b[38;5;241m=\u001b[39m json\u001b[38;5;241m.\u001b[39mloads(r\u001b[38;5;241m.\u001b[39mtext)\n\u001b[1;32m---> 62\u001b[0m html \u001b[38;5;241m=\u001b[39m data[\u001b[38;5;124m'\u001b[39m\u001b[38;5;124mhtml\u001b[39m\u001b[38;5;124m'\u001b[39m]\n\u001b[0;32m     64\u001b[0m result \u001b[38;5;241m=\u001b[39m {\n\u001b[0;32m     65\u001b[0m     \u001b[38;5;124m'\u001b[39m\u001b[38;5;124mresult\u001b[39m\u001b[38;5;124m'\u001b[39m: \u001b[38;5;28;01mTrue\u001b[39;00m,\n\u001b[0;32m     66\u001b[0m     \u001b[38;5;124m'\u001b[39m\u001b[38;5;124moriginal\u001b[39m\u001b[38;5;124m'\u001b[39m: text,\n\u001b[1;32m   (...)\u001b[0m\n\u001b[0;32m     70\u001b[0m     \u001b[38;5;124m'\u001b[39m\u001b[38;5;124mwords\u001b[39m\u001b[38;5;124m'\u001b[39m: OrderedDict(),\n\u001b[0;32m     71\u001b[0m }\n\u001b[0;32m     73\u001b[0m \u001b[38;5;66;03m# 띄어쓰기로 구분하기 위해 태그는 일단 보기 쉽게 바꿔둠.\u001b[39;00m\n\u001b[0;32m     74\u001b[0m \u001b[38;5;66;03m# ElementTree의 iter()를 써서 더 좋게 할 수 있는 방법이 있지만\u001b[39;00m\n\u001b[0;32m     75\u001b[0m \u001b[38;5;66;03m# 이 짧은 코드에 굳이 그렇게 할 필요성이 없으므로 일단 문자열을 치환하는 방법으로 작성.\u001b[39;00m\n",
      "\u001b[1;31mKeyError\u001b[0m: 'html'"
     ]
    }
   ],
   "source": [
    "from hanspell import spell_checker\n",
    "\n",
    "sent = \"맞춤법 틀리면 외 않되? 쓰고싶은대로쓰면돼지 \"\n",
    "spelled_sent = spell_checker.check(sent)\n",
    "\n",
    "hanspell_sent = spelled_sent.checked\n",
    "print(hanspell_sent)"
   ]
  },
  {
   "cell_type": "markdown",
   "id": "dbb9ce1d",
   "metadata": {},
   "source": [
    "## Soynlp"
   ]
  },
  {
   "cell_type": "code",
   "execution_count": 8,
   "id": "0f25bed0",
   "metadata": {},
   "outputs": [
    {
     "name": "stdout",
     "output_type": "stream",
     "text": [
      "Collecting soynlp\n",
      "  Downloading soynlp-0.0.493-py3-none-any.whl (416 kB)\n",
      "     ---------------------------------------- 0.0/416.8 kB ? eta -:--:--\n",
      "      --------------------------------------- 10.2/416.8 kB ? eta -:--:--\n",
      "     ----- ------------------------------- 61.4/416.8 kB 656.4 kB/s eta 0:00:01\n",
      "     ----------------- -------------------- 194.6/416.8 kB 1.5 MB/s eta 0:00:01\n",
      "     -------------------------------------  409.6/416.8 kB 2.6 MB/s eta 0:00:01\n",
      "     -------------------------------------- 416.8/416.8 kB 2.4 MB/s eta 0:00:00\n",
      "Requirement already satisfied: numpy>=1.12.1 in c:\\users\\msm\\anaconda3\\lib\\site-packages (from soynlp) (1.25.2)\n",
      "Requirement already satisfied: psutil>=5.0.1 in c:\\users\\msm\\anaconda3\\lib\\site-packages (from soynlp) (5.9.0)\n",
      "Requirement already satisfied: scipy>=1.1.0 in c:\\users\\msm\\anaconda3\\lib\\site-packages (from soynlp) (1.11.3)\n",
      "Requirement already satisfied: scikit-learn>=0.20.0 in c:\\users\\msm\\anaconda3\\lib\\site-packages (from soynlp) (1.2.2)\n",
      "Requirement already satisfied: joblib>=1.1.1 in c:\\users\\msm\\anaconda3\\lib\\site-packages (from scikit-learn>=0.20.0->soynlp) (1.1.1)\n",
      "Requirement already satisfied: threadpoolctl>=2.0.0 in c:\\users\\msm\\anaconda3\\lib\\site-packages (from scikit-learn>=0.20.0->soynlp) (2.2.0)\n",
      "Installing collected packages: soynlp\n",
      "Successfully installed soynlp-0.0.493\n",
      "Note: you may need to restart the kernel to use updated packages.\n"
     ]
    }
   ],
   "source": [
    "pip install soynlp"
   ]
  },
  {
   "cell_type": "code",
   "execution_count": 12,
   "id": "fc90ef44",
   "metadata": {},
   "outputs": [],
   "source": [
    "import urllib.request\n",
    "from soynlp import DoublespaceLineCorpus\n",
    "from soynlp.word import WordExtractor"
   ]
  },
  {
   "cell_type": "code",
   "execution_count": 13,
   "id": "e2414796",
   "metadata": {},
   "outputs": [
    {
     "data": {
      "text/plain": [
       "('2016-10-20.txt', <http.client.HTTPMessage at 0x2a39d82c7d0>)"
      ]
     },
     "execution_count": 13,
     "metadata": {},
     "output_type": "execute_result"
    }
   ],
   "source": [
    "urllib.request.urlretrieve(\"https://raw.githubusercontent.com/lovit/soynlp/master/tutorials/2016-10-20.txt\", filename=\"2016-10-20.txt\")"
   ]
  },
  {
   "cell_type": "code",
   "execution_count": 14,
   "id": "b877772d",
   "metadata": {},
   "outputs": [
    {
     "data": {
      "text/plain": [
       "30091"
      ]
     },
     "execution_count": 14,
     "metadata": {},
     "output_type": "execute_result"
    }
   ],
   "source": [
    "# 훈련 데이터를 다수의 문서로 분리\n",
    "corpus = DoublespaceLineCorpus(\"2016-10-20.txt\")\n",
    "len(corpus)"
   ]
  },
  {
   "cell_type": "code",
   "execution_count": 15,
   "id": "a34a5267",
   "metadata": {},
   "outputs": [
    {
     "name": "stdout",
     "output_type": "stream",
     "text": [
      "19  1990  52 1 22\n",
      "오패산터널 총격전 용의자 검거 서울 연합뉴스 경찰 관계자들이 19일 오후 서울 강북구 오패산 터널 인근에서 사제 총기를 발사해 경찰을 살해한 용의자 성모씨를 검거하고 있다 성씨는 검거 당시 서바이벌 게임에서 쓰는 방탄조끼에 헬멧까지 착용한 상태였다 독자제공 영상 캡처 연합뉴스  서울 연합뉴스 김은경 기자 사제 총기로 경찰을 살해한 범인 성모 46 씨는 주도면밀했다  경찰에 따르면 성씨는 19일 오후 강북경찰서 인근 부동산 업소 밖에서 부동산업자 이모 67 씨가 나오기를 기다렸다 이씨와는 평소에도 말다툼을 자주 한 것으로 알려졌다  이씨가 나와 걷기 시작하자 성씨는 따라가면서 미리 준비해온 사제 총기를 이씨에게 발사했다 총알이 빗나가면서 이씨는 도망갔다 그 빗나간 총알은 지나가던 행인 71 씨의 배를 스쳤다  성씨는 강북서 인근 치킨집까지 이씨 뒤를 쫓으며 실랑이하다 쓰러뜨린 후 총기와 함께 가져온 망치로 이씨 머리를 때렸다  이 과정에서 오후 6시 20분께 강북구 번동 길 위에서 사람들이 싸우고 있다 총소리가 났다 는 등의 신고가 여러건 들어왔다  5분 후에 성씨의 전자발찌가 훼손됐다는 신고가 보호관찰소 시스템을 통해 들어왔다 성범죄자로 전자발찌를 차고 있던 성씨는 부엌칼로 직접 자신의 발찌를 끊었다  용의자 소지 사제총기 2정 서울 연합뉴스 임헌정 기자 서울 시내에서 폭행 용의자가 현장 조사를 벌이던 경찰관에게 사제총기를 발사해 경찰관이 숨졌다 19일 오후 6시28분 강북구 번동에서 둔기로 맞았다 는 폭행 피해 신고가 접수돼 현장에서 조사하던 강북경찰서 번동파출소 소속 김모 54 경위가 폭행 용의자 성모 45 씨가 쏜 사제총기에 맞고 쓰러진 뒤 병원에 옮겨졌으나 숨졌다 사진은 용의자가 소지한 사제총기  신고를 받고 번동파출소에서 김창호 54 경위 등 경찰들이 오후 6시 29분께 현장으로 출동했다 성씨는 그사이 부동산 앞에 놓아뒀던 가방을 챙겨 오패산 쪽으로 도망간 후였다  김 경위는 오패산 터널 입구 오른쪽의 급경사에서 성씨에게 접근하다가 오후 6시 33분께 풀숲에 숨은 성씨가 허공에 난사한 10여발의 총알 중 일부를 왼쪽 어깨 뒷부분에 맞고 쓰러졌다  김 경위는 구급차가 도착했을 때 이미 의식이 없었고 심폐소생술을 하며 병원으로 옮겨졌으나 총알이 폐를 훼손해 오후 7시 40분께 사망했다  김 경위는 외근용 조끼를 입고 있었으나 총알을 막기에는 역부족이었다  머리에 부상을 입은 이씨도 함께 병원으로 이송됐으나 생명에는 지장이 없는 것으로 알려졌다  성씨는 오패산 터널 밑쪽 숲에서 오후 6시 45분께 잡혔다  총격현장 수색하는 경찰들 서울 연합뉴스 이효석 기자 19일 오후 서울 강북구 오패산 터널 인근에서 경찰들이 폭행 용의자가 사제총기를 발사해 경찰관이 사망한 사건을 조사 하고 있다  총 때문에 쫓던 경관들과 민간인들이 몸을 숨겼는데 인근 신발가게 직원 이모씨가 다가가 성씨를 덮쳤고 이어 현장에 있던 다른 상인들과 경찰이 가세해 체포했다  성씨는 경찰에 붙잡힌 직후 나 자살하려고 한 거다 맞아 죽어도 괜찮다 고 말한 것으로 전해졌다  성씨 자신도 경찰이 발사한 공포탄 1발 실탄 3발 중 실탄 1발을 배에 맞았으나 방탄조끼를 입은 상태여서 부상하지는 않았다  경찰은 인근을 수색해 성씨가 만든 사제총 16정과 칼 7개를 압수했다 실제 폭발할지는 알 수 없는 요구르트병에 무언가를 채워두고 심지를 꽂은 사제 폭탄도 발견됐다  일부는 숲에서 발견됐고 일부는 성씨가 소지한 가방 안에 있었다\n",
      "테헤란 연합뉴스 강훈상 특파원 이용 승객수 기준 세계 최대 공항인 아랍에미리트 두바이국제공항은 19일 현지시간 이 공항을 이륙하는 모든 항공기의 탑승객은 삼성전자의 갤럭시노트7을 휴대하면 안 된다고 밝혔다  두바이국제공항은 여러 항공 관련 기구의 권고에 따라 안전성에 우려가 있는 스마트폰 갤럭시노트7을 휴대하고 비행기를 타면 안 된다 며 탑승 전 검색 중 발견되면 압수할 계획 이라고 발표했다  공항 측은 갤럭시노트7의 배터리가 폭발 우려가 제기된 만큼 이 제품을 갖고 공항 안으로 들어오지 말라고 이용객에 당부했다  이런 조치는 두바이국제공항 뿐 아니라 신공항인 두바이월드센터에도 적용된다  배터리 폭발문제로 회수된 갤럭시노트7 연합뉴스자료사진\n"
     ]
    }
   ],
   "source": [
    "i = 0\n",
    "for document in corpus:\n",
    "  if len(document) > 0:\n",
    "    print(document)\n",
    "    i = i+1\n",
    "  if i == 3:\n",
    "    break\n"
   ]
  },
  {
   "cell_type": "code",
   "execution_count": 16,
   "id": "978dde04",
   "metadata": {},
   "outputs": [
    {
     "name": "stdout",
     "output_type": "stream",
     "text": [
      "training was done. used memory 1.828 Gb\n",
      "all cohesion probabilities was computed. # words = 223348\n",
      "all branching entropies was computed # words = 361598\n",
      "all accessor variety was computed # words = 361598\n"
     ]
    }
   ],
   "source": [
    "word_extractor = WordExtractor()\n",
    "word_extractor.train(corpus)\n",
    "word_score_table = word_extractor.extract()"
   ]
  },
  {
   "cell_type": "code",
   "execution_count": 18,
   "id": "54935e4b",
   "metadata": {},
   "outputs": [
    {
     "data": {
      "text/plain": [
       "[('국제사회', '와'), ('우리', '의'), ('노력', '들로'), ('범죄', '를'), ('척결', '하자')]"
      ]
     },
     "execution_count": 18,
     "metadata": {},
     "output_type": "execute_result"
    }
   ],
   "source": [
    "from soynlp.tokenizer import LTokenizer\n",
    "\n",
    "scores = {word:score.cohesion_forward for word, score in word_score_table.items()}\n",
    "l_tokenizer = LTokenizer(scores=scores)\n",
    "l_tokenizer.tokenize(\"국제사회와 우리의 노력들로 범죄를 척결하자\", flatten=False)"
   ]
  },
  {
   "cell_type": "code",
   "execution_count": 19,
   "id": "3f26a37e",
   "metadata": {},
   "outputs": [
    {
     "data": {
      "text/plain": [
       "['국제사회', '와', '우리', '의', '노력', '들로', '범죄', '를', '척결', '하자']"
      ]
     },
     "execution_count": 19,
     "metadata": {},
     "output_type": "execute_result"
    }
   ],
   "source": [
    "from soynlp.tokenizer import MaxScoreTokenizer\n",
    "\n",
    "maxscore_tokenizer = MaxScoreTokenizer(scores=scores)\n",
    "maxscore_tokenizer.tokenize(\"국제사회와우리의노력들로범죄를척결하자\")"
   ]
  },
  {
   "cell_type": "markdown",
   "id": "5d461713",
   "metadata": {},
   "source": [
    "## customized_konlpy\n",
    "\n",
    "### 단어 학습"
   ]
  },
  {
   "cell_type": "code",
   "execution_count": 20,
   "id": "63dcb75f",
   "metadata": {},
   "outputs": [
    {
     "name": "stdout",
     "output_type": "stream",
     "text": [
      "Collecting customized_konlpy\n",
      "  Downloading customized_konlpy-0.0.64-py3-none-any.whl (881 kB)\n",
      "     ---------------------------------------- 0.0/881.5 kB ? eta -:--:--\n",
      "     ---------------------------------------- 10.2/881.5 kB ? eta -:--:--\n",
      "     - ----------------------------------- 41.0/881.5 kB 393.8 kB/s eta 0:00:03\n",
      "     ----- -------------------------------- 122.9/881.5 kB 1.0 MB/s eta 0:00:01\n",
      "     ------------ ------------------------- 286.7/881.5 kB 1.8 MB/s eta 0:00:01\n",
      "     ------------------------ ------------- 563.2/881.5 kB 2.9 MB/s eta 0:00:01\n",
      "     -------------------------------------- 881.5/881.5 kB 4.0 MB/s eta 0:00:00\n",
      "Requirement already satisfied: Jpype1>=0.6.1 in c:\\users\\msm\\anaconda3\\lib\\site-packages (from customized_konlpy) (1.4.1)\n",
      "Requirement already satisfied: konlpy>=0.4.4 in c:\\users\\msm\\anaconda3\\lib\\site-packages (from customized_konlpy) (0.6.0)\n",
      "Requirement already satisfied: packaging in c:\\users\\msm\\anaconda3\\lib\\site-packages (from Jpype1>=0.6.1->customized_konlpy) (23.1)\n",
      "Requirement already satisfied: lxml>=4.1.0 in c:\\users\\msm\\anaconda3\\lib\\site-packages (from konlpy>=0.4.4->customized_konlpy) (4.9.3)\n",
      "Requirement already satisfied: numpy>=1.6 in c:\\users\\msm\\anaconda3\\lib\\site-packages (from konlpy>=0.4.4->customized_konlpy) (1.25.2)\n",
      "Installing collected packages: customized_konlpy\n",
      "Successfully installed customized_konlpy-0.0.64\n",
      "Note: you may need to restart the kernel to use updated packages.\n"
     ]
    }
   ],
   "source": [
    "pip install customized_konlpy"
   ]
  },
  {
   "cell_type": "code",
   "execution_count": 21,
   "id": "a01770aa",
   "metadata": {},
   "outputs": [
    {
     "name": "stderr",
     "output_type": "stream",
     "text": [
      "C:\\Users\\MSM\\anaconda3\\Lib\\site-packages\\konlpy\\tag\\_okt.py:17: UserWarning: \"Twitter\" has changed to \"Okt\" since KoNLPy v0.4.5.\n",
      "  warn('\"Twitter\" has changed to \"Okt\" since KoNLPy v0.4.5.')\n"
     ]
    },
    {
     "data": {
      "text/plain": [
       "['은', '경이', '는', '사무실', '로', '갔습니다', '.']"
      ]
     },
     "execution_count": 21,
     "metadata": {},
     "output_type": "execute_result"
    }
   ],
   "source": [
    "from ckonlpy.tag import Twitter\n",
    "twitter = Twitter()\n",
    "twitter.morphs('은경이는 사무실로 갔습니다.')\n"
   ]
  },
  {
   "cell_type": "code",
   "execution_count": 23,
   "id": "aa5021e3",
   "metadata": {},
   "outputs": [],
   "source": [
    "twitter.add_dictionary('은경이', 'Noun')"
   ]
  },
  {
   "cell_type": "code",
   "execution_count": 24,
   "id": "61673a9c",
   "metadata": {},
   "outputs": [
    {
     "data": {
      "text/plain": [
       "['은경이', '는', '사무실', '로', '갔습니다', '.']"
      ]
     },
     "execution_count": 24,
     "metadata": {},
     "output_type": "execute_result"
    }
   ],
   "source": [
    "twitter.morphs('은경이는 사무실로 갔습니다.')"
   ]
  },
  {
   "cell_type": "code",
   "execution_count": 7,
   "id": "a404e0b1",
   "metadata": {},
   "outputs": [
    {
     "name": "stdout",
     "output_type": "stream",
     "text": [
      "Collecting kss\n",
      "  Downloading kss-4.5.4.tar.gz (79 kB)\n",
      "     ---------------------------------------- 0.0/79.1 kB ? eta -:--:--\n",
      "     ----- ---------------------------------- 10.2/79.1 kB ? eta -:--:--\n",
      "     ----------------------------- -------- 61.4/79.1 kB 825.8 kB/s eta 0:00:01\n",
      "     -------------------------------------- 79.1/79.1 kB 732.4 kB/s eta 0:00:00\n",
      "  Preparing metadata (setup.py): started\n",
      "  Preparing metadata (setup.py): finished with status 'done'\n",
      "Collecting emoji==1.2.0 (from kss)\n",
      "  Downloading emoji-1.2.0-py3-none-any.whl (131 kB)\n",
      "     ---------------------------------------- 0.0/131.3 kB ? eta -:--:--\n",
      "     ----------------------------------- -- 122.9/131.3 kB 2.4 MB/s eta 0:00:01\n",
      "     -------------------------------------- 131.3/131.3 kB 2.6 MB/s eta 0:00:00\n",
      "Requirement already satisfied: regex in c:\\users\\msm\\anaconda3\\lib\\site-packages (from kss) (2023.10.3)\n",
      "Collecting pecab (from kss)\n",
      "  Downloading pecab-1.0.8.tar.gz (26.4 MB)\n",
      "     ---------------------------------------- 0.0/26.4 MB ? eta -:--:--\n",
      "     ---------------------------------------- 0.2/26.4 MB 12.2 MB/s eta 0:00:03\n",
      "      --------------------------------------- 0.6/26.4 MB 7.7 MB/s eta 0:00:04\n",
      "     - -------------------------------------- 1.2/26.4 MB 9.8 MB/s eta 0:00:03\n",
      "     --- ------------------------------------ 2.3/26.4 MB 13.6 MB/s eta 0:00:02\n",
      "     ------ --------------------------------- 4.4/26.4 MB 21.8 MB/s eta 0:00:02\n",
      "     ----------- ---------------------------- 7.3/26.4 MB 27.5 MB/s eta 0:00:01\n",
      "     ----------- ---------------------------- 7.7/26.4 MB 28.9 MB/s eta 0:00:01\n",
      "     ----------- ---------------------------- 7.7/26.4 MB 28.9 MB/s eta 0:00:01\n",
      "     ----------- ---------------------------- 7.7/26.4 MB 28.9 MB/s eta 0:00:01\n",
      "     ----------- ---------------------------- 7.7/26.4 MB 28.9 MB/s eta 0:00:01\n",
      "     ----------- ---------------------------- 7.7/26.4 MB 28.9 MB/s eta 0:00:01\n",
      "     ----------- ---------------------------- 7.7/26.4 MB 15.0 MB/s eta 0:00:02\n",
      "     ----------- ---------------------------- 7.8/26.4 MB 13.4 MB/s eta 0:00:02\n",
      "     ----------- ---------------------------- 7.8/26.4 MB 13.4 MB/s eta 0:00:02\n",
      "     ----------- ---------------------------- 7.8/26.4 MB 11.8 MB/s eta 0:00:02\n",
      "     ----------- ---------------------------- 7.8/26.4 MB 10.9 MB/s eta 0:00:02\n",
      "     ----------- ---------------------------- 7.8/26.4 MB 10.9 MB/s eta 0:00:02\n",
      "     ----------- ---------------------------- 7.9/26.4 MB 10.1 MB/s eta 0:00:02\n",
      "     ------------ --------------------------- 7.9/26.4 MB 9.2 MB/s eta 0:00:03\n",
      "     ------------ --------------------------- 7.9/26.4 MB 9.2 MB/s eta 0:00:03\n",
      "     ------------ --------------------------- 8.0/26.4 MB 8.5 MB/s eta 0:00:03\n",
      "     ------------ --------------------------- 8.1/26.4 MB 8.2 MB/s eta 0:00:03\n",
      "     ------------ --------------------------- 8.2/26.4 MB 8.0 MB/s eta 0:00:03\n",
      "     ------------ --------------------------- 8.4/26.4 MB 7.8 MB/s eta 0:00:03\n",
      "     ------------ --------------------------- 8.5/26.4 MB 7.4 MB/s eta 0:00:03\n",
      "     ------------- -------------------------- 8.6/26.4 MB 7.2 MB/s eta 0:00:03\n",
      "     ------------- -------------------------- 8.7/26.4 MB 7.0 MB/s eta 0:00:03\n",
      "     ------------- -------------------------- 8.8/26.4 MB 6.8 MB/s eta 0:00:03\n",
      "     ------------- -------------------------- 8.9/26.4 MB 6.7 MB/s eta 0:00:03\n",
      "     ------------- -------------------------- 9.0/26.4 MB 6.5 MB/s eta 0:00:03\n",
      "     ------------- -------------------------- 9.1/26.4 MB 6.3 MB/s eta 0:00:03\n",
      "     -------------- ------------------------- 9.3/26.4 MB 6.3 MB/s eta 0:00:03\n",
      "     -------------- ------------------------- 9.4/26.4 MB 6.2 MB/s eta 0:00:03\n",
      "     -------------- ------------------------- 9.6/26.4 MB 6.2 MB/s eta 0:00:03\n",
      "     -------------- ------------------------- 9.8/26.4 MB 6.1 MB/s eta 0:00:03\n",
      "     -------------- ------------------------- 9.8/26.4 MB 6.1 MB/s eta 0:00:03\n",
      "     --------------- ------------------------ 9.9/26.4 MB 5.9 MB/s eta 0:00:03\n",
      "     --------------- ------------------------ 10.1/26.4 MB 5.8 MB/s eta 0:00:03\n",
      "     --------------- ------------------------ 10.2/26.4 MB 5.6 MB/s eta 0:00:03\n",
      "     --------------- ------------------------ 10.3/26.4 MB 5.6 MB/s eta 0:00:03\n",
      "     --------------- ------------------------ 10.5/26.4 MB 5.5 MB/s eta 0:00:03\n",
      "     ---------------- ----------------------- 10.7/26.4 MB 5.4 MB/s eta 0:00:03\n",
      "     ---------------- ----------------------- 10.7/26.4 MB 5.4 MB/s eta 0:00:03\n",
      "     ---------------- ----------------------- 10.9/26.4 MB 5.3 MB/s eta 0:00:03\n",
      "     ---------------- ----------------------- 11.1/26.4 MB 5.2 MB/s eta 0:00:03\n",
      "     ----------------- ---------------------- 11.2/26.4 MB 5.1 MB/s eta 0:00:03\n",
      "     ----------------- ---------------------- 11.4/26.4 MB 5.0 MB/s eta 0:00:03\n",
      "     ----------------- ---------------------- 11.7/26.4 MB 4.9 MB/s eta 0:00:04\n",
      "     ----------------- ---------------------- 11.7/26.4 MB 4.9 MB/s eta 0:00:04\n",
      "     ----------------- ---------------------- 11.8/26.4 MB 4.8 MB/s eta 0:00:04\n",
      "     ----------------- ---------------------- 11.8/26.4 MB 4.6 MB/s eta 0:00:04\n",
      "     ----------------- ---------------------- 11.8/26.4 MB 4.6 MB/s eta 0:00:04\n",
      "     ------------------ --------------------- 11.9/26.4 MB 4.5 MB/s eta 0:00:04\n",
      "     ------------------ --------------------- 11.9/26.4 MB 4.4 MB/s eta 0:00:04\n",
      "     ------------------ --------------------- 11.9/26.4 MB 4.2 MB/s eta 0:00:04\n",
      "     -------------------- ------------------- 13.5/26.4 MB 4.3 MB/s eta 0:00:04\n",
      "     ---------------------- ----------------- 15.1/26.4 MB 4.2 MB/s eta 0:00:03\n",
      "     ----------------------- ---------------- 15.3/26.4 MB 4.1 MB/s eta 0:00:03\n",
      "     -------------------------- ------------- 17.2/26.4 MB 4.1 MB/s eta 0:00:03\n",
      "     ---------------------------- ----------- 18.6/26.4 MB 6.2 MB/s eta 0:00:02\n",
      "     ----------------------------- ---------- 19.7/26.4 MB 8.0 MB/s eta 0:00:01\n",
      "     ------------------------------ -------- 20.7/26.4 MB 10.9 MB/s eta 0:00:01\n",
      "     --------------------------------- ----- 22.6/26.4 MB 28.5 MB/s eta 0:00:01\n",
      "     ------------------------------------- - 25.2/26.4 MB 32.7 MB/s eta 0:00:01\n",
      "     --------------------------------------  26.3/26.4 MB 36.4 MB/s eta 0:00:01\n",
      "     --------------------------------------  26.4/26.4 MB 29.7 MB/s eta 0:00:01\n",
      "     --------------------------------------- 26.4/26.4 MB 25.2 MB/s eta 0:00:00\n",
      "  Preparing metadata (setup.py): started\n",
      "  Preparing metadata (setup.py): finished with status 'done'\n",
      "Requirement already satisfied: networkx in c:\\users\\msm\\anaconda3\\lib\\site-packages (from kss) (3.1)\n",
      "Requirement already satisfied: numpy in c:\\users\\msm\\anaconda3\\lib\\site-packages (from pecab->kss) (1.25.2)\n",
      "Requirement already satisfied: pyarrow in c:\\users\\msm\\anaconda3\\lib\\site-packages (from pecab->kss) (11.0.0)\n",
      "Requirement already satisfied: pytest in c:\\users\\msm\\anaconda3\\lib\\site-packages (from pecab->kss) (7.4.0)\n",
      "Requirement already satisfied: iniconfig in c:\\users\\msm\\anaconda3\\lib\\site-packages (from pytest->pecab->kss) (1.1.1)\n",
      "Requirement already satisfied: packaging in c:\\users\\msm\\anaconda3\\lib\\site-packages (from pytest->pecab->kss) (23.1)\n",
      "Requirement already satisfied: pluggy<2.0,>=0.12 in c:\\users\\msm\\anaconda3\\lib\\site-packages (from pytest->pecab->kss) (1.0.0)\n",
      "Requirement already satisfied: colorama in c:\\users\\msm\\anaconda3\\lib\\site-packages (from pytest->pecab->kss) (0.4.6)\n",
      "Building wheels for collected packages: kss, pecab\n",
      "  Building wheel for kss (setup.py): started\n",
      "  Building wheel for kss (setup.py): finished with status 'done'\n",
      "  Created wheel for kss: filename=kss-4.5.4-py3-none-any.whl size=54785 sha256=5ab76a214f246cd07bbb88b7dbfec6db0366b194be64e0d8cc41514ef473994b\n",
      "  Stored in directory: c:\\users\\msm\\appdata\\local\\pip\\cache\\wheels\\ca\\b1\\87\\4956cfbe83e7bb718e2363fdaa4581cdfebc4a67baad48a7d3\n",
      "  Building wheel for pecab (setup.py): started\n",
      "  Building wheel for pecab (setup.py): finished with status 'done'\n",
      "  Created wheel for pecab: filename=pecab-1.0.8-py3-none-any.whl size=26646701 sha256=55ee1b0d996b9fecf554321cb96bc95e671ce8a37c88023f4a6782d194027f4e\n",
      "  Stored in directory: c:\\users\\msm\\appdata\\local\\pip\\cache\\wheels\\c9\\0d\\97\\ca2bb361e44a80f4c63efe6f6438ff903fd1ab5640eedabc1b\n",
      "Successfully built kss pecab\n",
      "Installing collected packages: emoji, pecab, kss\n",
      "Successfully installed emoji-1.2.0 kss-4.5.4 pecab-1.0.8\n",
      "Note: you may need to restart the kernel to use updated packages.\n"
     ]
    }
   ],
   "source": [
    "pip install kss"
   ]
  },
  {
   "cell_type": "markdown",
   "id": "db5a296b",
   "metadata": {},
   "source": [
    "### PyAudio 사용해 마이크로 음성 받아서 wav 파일로 저장하기"
   ]
  },
  {
   "cell_type": "code",
   "execution_count": 2,
   "id": "f39339c0",
   "metadata": {
    "ExecuteTime": {
     "end_time": "2023-12-13T05:47:58.170866Z",
     "start_time": "2023-12-13T05:47:42.909528Z"
    }
   },
   "outputs": [
    {
     "name": "stdout",
     "output_type": "stream",
     "text": [
      "Requirement already satisfied: pyaudio in c:\\users\\user\\anaconda3\\lib\\site-packages (0.2.13)\n",
      "Note: you may need to restart the kernel to use updated packages.\n"
     ]
    }
   ],
   "source": [
    "pip install pyaudio"
   ]
  },
  {
   "cell_type": "code",
   "execution_count": null,
   "id": "7528a3c1",
   "metadata": {},
   "outputs": [],
   "source": [
    "import pyaudio\n",
    "import wave\n",
    "\n",
    "def record_audio(file_path, duration=60, sample_rate=44100, channels=1, format_=pyaudio.paInt16):\n",
    "    \"\"\"\n",
    "    녹음된 오디오를 WAV 파일로 저장하는 함수\n",
    "\n",
    "    Parameters:\n",
    "    - file_path (str): 저장할 WAV 파일 경로 및 이름\n",
    "    - duration (int): 녹음할 시간 (초)\n",
    "    - sample_rate (int): 샘플 속도 (Hz)\n",
    "    - channels (int): 오디오 채널 수 (1: 모노, 2: 스테레오)\n",
    "    - format_ (int): 샘플 형식 (기본값: pyaudio.paInt16)\n",
    "    \"\"\"\n",
    "    p = pyaudio.PyAudio()\n",
    "\n",
    "    # 오디오 스트림 열기\n",
    "    stream = p.open(\n",
    "        format=format_,\n",
    "        channels=channels,\n",
    "        rate=sample_rate,\n",
    "        input=True,\n",
    "        frames_per_buffer=1024\n",
    "    )\n",
    "\n",
    "    print(\"녹음 시작...\")\n",
    "    frames = []\n",
    "\n",
    "    # 오디오 녹음\n",
    "    for i in range(int(sample_rate / 1024 * duration)):\n",
    "        data = stream.read(1024)\n",
    "        frames.append(data)\n",
    "\n",
    "    print(\"녹음 종료.\")\n",
    "\n",
    "    # 오디오 스트림 닫기\n",
    "    stream.stop_stream()\n",
    "    stream.close()\n",
    "    p.terminate()\n",
    "\n",
    "    # WAV 파일로 저장\n",
    "    wf = wave.open(file_path, 'wb')\n",
    "    wf.setnchannels(channels)\n",
    "    wf.setsampwidth(p.get_sample_size(format_))\n",
    "    wf.setframerate(sample_rate)\n",
    "    wf.writeframes(b''.join(frames))\n",
    "    wf.close()\n",
    "\n",
    "if __name__ == \"__main__\":\n",
    "    output_file = \"recorded_audio.wav\"\n",
    "    record_audio(output_file, duration=60)\n",
    "    print(f\"녹음된 오디오가 {output_file}에 저장되었습니다.\")"
   ]
  },
  {
   "cell_type": "markdown",
   "id": "3ccdcaf2",
   "metadata": {},
   "source": [
    "## 마이크로 음성받아 csv 파일로 저장하기"
   ]
  },
  {
   "cell_type": "code",
   "execution_count": null,
   "id": "97a6be44",
   "metadata": {},
   "outputs": [],
   "source": [
    "import torch\n",
    "from transformers import AutoModelForSpeechSeq2Seq, AutoProcessor, pipeline, AutoTokenizer\n",
    "from tqdm import tqdm\n",
    "import pandas as pd\n",
    "\n",
    "# 저장된 모델 로드\n",
    "model_save_path = \"whisper_model\"\n",
    "model = AutoModelForSpeechSeq2Seq.from_pretrained(model_save_path)\n",
    "\n",
    "# 저장된 프로세서 로드\n",
    "processor_save_path = \"whisper_processor\"\n",
    "processor = AutoProcessor.from_pretrained(processor_save_path)"
   ]
  },
  {
   "cell_type": "code",
   "execution_count": null,
   "id": "92edf350",
   "metadata": {},
   "outputs": [],
   "source": [
    "# 모델 및 파이프라인 설정\n",
    "device = \"cuda:0\" if torch.cuda.is_available() else \"cpu\"\n",
    "\n",
    "torch_dtype = torch.float16 if torch.cuda.is_available() else torch.float32\n",
    "\n",
    "model.to(device)\n",
    "\n",
    "pipe = pipeline(\n",
    "    \"automatic-speech-recognition\",\n",
    "    model=model,\n",
    "    tokenizer=processor.tokenizer,\n",
    "    feature_extractor=processor.feature_extractor,\n",
    "    max_new_tokens=128,\n",
    "    chunk_length_s=30,\n",
    "    batch_size=16,\n",
    "    return_timestamps=True,\n",
    "    torch_dtype=torch_dtype,\n",
    "    device=device,\n",
    ")"
   ]
  },
  {
   "cell_type": "code",
   "execution_count": null,
   "id": "0007aa7a",
   "metadata": {},
   "outputs": [],
   "source": [
    "import pandas as pd\n",
    "import pyaudio\n",
    "import wave\n",
    "from tqdm import tqdm\n",
    "from transformers import AutoProcessor, pipeline, AutoModelForSpeechSeq2Seq\n",
    "import torch\n",
    "\n",
    "def record_audio(file_path, duration=60, sample_rate=44100, channels=1, format_=pyaudio.paInt16):\n",
    "    \"\"\"\n",
    "    녹음된 오디오를 WAV 파일로 저장하는 함수\n",
    "\n",
    "    Parameters:\n",
    "    - file_path (str): 저장할 WAV 파일 경로 및 이름\n",
    "    - duration (int): 녹음할 시간 (초)\n",
    "    - sample_rate (int): 샘플 속도 (Hz)\n",
    "    - channels (int): 오디오 채널 수 (1: 모노, 2: 스테레오)\n",
    "    - format_ (int): 샘플 형식 (기본값: pyaudio.paInt16)\n",
    "    \"\"\"\n",
    "    p = pyaudio.PyAudio()\n",
    "\n",
    "    # 오디오 스트림 열기\n",
    "    stream = p.open(\n",
    "        format=format_,\n",
    "        channels=channels,\n",
    "        rate=sample_rate,\n",
    "        input=True,\n",
    "        frames_per_buffer=1024\n",
    "    )\n",
    "\n",
    "    print(\"녹음 시작...\")\n",
    "    frames = []\n",
    "\n",
    "    # 오디오 녹음\n",
    "    for i in range(int(sample_rate / 1024 * duration)):\n",
    "        data = stream.read(1024)\n",
    "        frames.append(data)\n",
    "\n",
    "    print(\"녹음 종료.\")\n",
    "\n",
    "    # 오디오 스트림 닫기\n",
    "    stream.stop_stream()\n",
    "    stream.close()\n",
    "    p.terminate()\n",
    "\n",
    "    # WAV 파일로 저장\n",
    "    wf = wave.open(file_path, 'wb')\n",
    "    wf.setnchannels(channels)\n",
    "    wf.setsampwidth(p.get_sample_size(format_))\n",
    "    wf.setframerate(sample_rate)\n",
    "    wf.writeframes(b''.join(frames))\n",
    "    wf.close()\n",
    "\n",
    "def convert_audio_to_text(audio_path, pipeline):\n",
    "    result = pipeline(audio_path)\n",
    "    return result[\"text\"]\n",
    "\n",
    "if __name__ == \"__main__\":\n",
    "    # 마이크로 음성 녹음\n",
    "    record_file = \"recorded_audio.wav\"\n",
    "    record_audio(record_file, duration=60)\n",
    "    print(f\"녹음된 오디오가 {record_file}에 저장되었습니다.\")\n",
    "\n",
    "    # 음성을 텍스트로 변환하고 결과를 리스트에 추가\n",
    "    results = []\n",
    "    text_result = convert_audio_to_text(record_file, pipe)\n",
    "    results.append(text_result)\n",
    "\n",
    "    # 결과를 DataFrame으로 변환\n",
    "    df = pd.DataFrame({\"Text\": results})\n",
    "\n",
    "    # CSV 파일로 저장\n",
    "    df.to_csv(\"recorded_results.csv\", index=False)\n",
    "\n",
    "    # 결과 출력\n",
    "    print(df)"
   ]
  }
 ],
 "metadata": {
  "kernelspec": {
   "display_name": "Python 3 (ipykernel)",
   "language": "python",
   "name": "python3"
  },
  "language_info": {
   "codemirror_mode": {
    "name": "ipython",
    "version": 3
   },
   "file_extension": ".py",
   "mimetype": "text/x-python",
   "name": "python",
   "nbconvert_exporter": "python",
   "pygments_lexer": "ipython3",
   "version": "3.11.4"
  },
  "toc": {
   "base_numbering": 1,
   "nav_menu": {},
   "number_sections": true,
   "sideBar": true,
   "skip_h1_title": false,
   "title_cell": "Table of Contents",
   "title_sidebar": "Contents",
   "toc_cell": false,
   "toc_position": {},
   "toc_section_display": true,
   "toc_window_display": false
  }
 },
 "nbformat": 4,
 "nbformat_minor": 5
}
