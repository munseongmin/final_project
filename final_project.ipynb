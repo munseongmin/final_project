{
 "cells": [
  {
   "cell_type": "code",
   "execution_count": 9,
   "id": "a4370513",
   "metadata": {},
   "outputs": [
    {
     "name": "stdout",
     "output_type": "stream",
     "text": [
      "Requirement already satisfied: transformers in c:\\users\\msm\\anaconda3\\lib\\site-packages (2.1.1)\n",
      "Collecting transformers\n",
      "  Obtaining dependency information for transformers from https://files.pythonhosted.org/packages/12/dd/f17b11a93a9ca27728e12512d167eb1281c151c4c6881d3ab59eb58f4127/transformers-4.35.2-py3-none-any.whl.metadata\n",
      "  Downloading transformers-4.35.2-py3-none-any.whl.metadata (123 kB)\n",
      "     ---------------------------------------- 0.0/123.5 kB ? eta -:--:--\n",
      "     --- ------------------------------------ 10.2/123.5 kB ? eta -:--:--\n",
      "     ------------ ------------------------ 41.0/123.5 kB 495.5 kB/s eta 0:00:01\n",
      "     -------------------------------------  122.9/123.5 kB 1.0 MB/s eta 0:00:01\n",
      "     ------------------------------------ 123.5/123.5 kB 906.0 kB/s eta 0:00:00\n",
      "Requirement already satisfied: filelock in c:\\users\\msm\\anaconda3\\lib\\site-packages (from transformers) (3.9.0)\n",
      "Collecting huggingface-hub<1.0,>=0.16.4 (from transformers)\n",
      "  Obtaining dependency information for huggingface-hub<1.0,>=0.16.4 from https://files.pythonhosted.org/packages/05/09/1945ca6ba3ad8ad6e2872ba682ce8d68c5e63c8e55458ed8ab4885709f1d/huggingface_hub-0.19.4-py3-none-any.whl.metadata\n",
      "  Downloading huggingface_hub-0.19.4-py3-none-any.whl.metadata (14 kB)\n",
      "Requirement already satisfied: numpy>=1.17 in c:\\users\\msm\\anaconda3\\lib\\site-packages (from transformers) (1.25.2)\n",
      "Requirement already satisfied: packaging>=20.0 in c:\\users\\msm\\anaconda3\\lib\\site-packages (from transformers) (23.1)\n",
      "Requirement already satisfied: pyyaml>=5.1 in c:\\users\\msm\\anaconda3\\lib\\site-packages (from transformers) (6.0.1)\n",
      "Requirement already satisfied: regex!=2019.12.17 in c:\\users\\msm\\anaconda3\\lib\\site-packages (from transformers) (2023.10.3)\n",
      "Requirement already satisfied: requests in c:\\users\\msm\\anaconda3\\lib\\site-packages (from transformers) (2.31.0)\n",
      "Collecting tokenizers<0.19,>=0.14 (from transformers)\n",
      "  Obtaining dependency information for tokenizers<0.19,>=0.14 from https://files.pythonhosted.org/packages/be/5f/2cc4f229bf85d90842f513be31a529595c10b8c8b8193c077230a8c17548/tokenizers-0.15.0-cp311-none-win_amd64.whl.metadata\n",
      "  Downloading tokenizers-0.15.0-cp311-none-win_amd64.whl.metadata (6.8 kB)\n",
      "Collecting safetensors>=0.3.1 (from transformers)\n",
      "  Obtaining dependency information for safetensors>=0.3.1 from https://files.pythonhosted.org/packages/a5/dd/85bcfeab1451eeb24278575fa1b8f24bea7a99c5ff0bb34af63dfe20e772/safetensors-0.4.1-cp311-none-win_amd64.whl.metadata\n",
      "  Downloading safetensors-0.4.1-cp311-none-win_amd64.whl.metadata (3.8 kB)\n",
      "Requirement already satisfied: tqdm>=4.27 in c:\\users\\msm\\anaconda3\\lib\\site-packages (from transformers) (4.65.0)\n",
      "Collecting fsspec>=2023.5.0 (from huggingface-hub<1.0,>=0.16.4->transformers)\n",
      "  Obtaining dependency information for fsspec>=2023.5.0 from https://files.pythonhosted.org/packages/96/0e/2be9b5a2e3f736577e749bbdf27a1e7e965041e1c908d49dedf56eeb2b8a/fsspec-2023.12.1-py3-none-any.whl.metadata\n",
      "  Downloading fsspec-2023.12.1-py3-none-any.whl.metadata (6.8 kB)\n",
      "Requirement already satisfied: typing-extensions>=3.7.4.3 in c:\\users\\msm\\anaconda3\\lib\\site-packages (from huggingface-hub<1.0,>=0.16.4->transformers) (4.7.1)\n",
      "Requirement already satisfied: colorama in c:\\users\\msm\\anaconda3\\lib\\site-packages (from tqdm>=4.27->transformers) (0.4.6)\n",
      "Requirement already satisfied: charset-normalizer<4,>=2 in c:\\users\\msm\\anaconda3\\lib\\site-packages (from requests->transformers) (2.0.4)\n",
      "Requirement already satisfied: idna<4,>=2.5 in c:\\users\\msm\\anaconda3\\lib\\site-packages (from requests->transformers) (3.4)\n",
      "Requirement already satisfied: urllib3<3,>=1.21.1 in c:\\users\\msm\\anaconda3\\lib\\site-packages (from requests->transformers) (1.26.18)\n",
      "Requirement already satisfied: certifi>=2017.4.17 in c:\\users\\msm\\anaconda3\\lib\\site-packages (from requests->transformers) (2023.7.22)\n",
      "Downloading transformers-4.35.2-py3-none-any.whl (7.9 MB)\n",
      "   ---------------------------------------- 0.0/7.9 MB ? eta -:--:--\n",
      "    --------------------------------------- 0.1/7.9 MB 2.4 MB/s eta 0:00:04\n",
      "   - -------------------------------------- 0.4/7.9 MB 4.9 MB/s eta 0:00:02\n",
      "   --- ------------------------------------ 0.7/7.9 MB 4.9 MB/s eta 0:00:02\n",
      "   ----- ---------------------------------- 1.1/7.9 MB 5.7 MB/s eta 0:00:02\n",
      "   ------- -------------------------------- 1.4/7.9 MB 5.9 MB/s eta 0:00:02\n",
      "   --------- ------------------------------ 1.8/7.9 MB 6.4 MB/s eta 0:00:01\n",
      "   ---------- ----------------------------- 2.2/7.9 MB 6.6 MB/s eta 0:00:01\n",
      "   ------------ --------------------------- 2.4/7.9 MB 6.6 MB/s eta 0:00:01\n",
      "   -------------- ------------------------- 2.8/7.9 MB 6.6 MB/s eta 0:00:01\n",
      "   --------------- ------------------------ 3.2/7.9 MB 6.7 MB/s eta 0:00:01\n",
      "   ------------------ --------------------- 3.7/7.9 MB 7.1 MB/s eta 0:00:01\n",
      "   -------------------- ------------------- 4.1/7.9 MB 7.5 MB/s eta 0:00:01\n",
      "   ----------------------- ---------------- 4.7/7.9 MB 7.7 MB/s eta 0:00:01\n",
      "   -------------------------- ------------- 5.2/7.9 MB 8.0 MB/s eta 0:00:01\n",
      "   ----------------------------- ---------- 5.8/7.9 MB 8.3 MB/s eta 0:00:01\n",
      "   -------------------------------- ------- 6.3/7.9 MB 8.4 MB/s eta 0:00:01\n",
      "   ----------------------------------- ---- 7.0/7.9 MB 8.8 MB/s eta 0:00:01\n",
      "   -------------------------------------- - 7.6/7.9 MB 9.1 MB/s eta 0:00:01\n",
      "   ---------------------------------------- 7.9/7.9 MB 9.0 MB/s eta 0:00:00\n",
      "Downloading huggingface_hub-0.19.4-py3-none-any.whl (311 kB)\n",
      "   ---------------------------------------- 0.0/311.7 kB ? eta -:--:--\n",
      "   --------------------------------------- 311.7/311.7 kB 20.1 MB/s eta 0:00:00\n",
      "Downloading safetensors-0.4.1-cp311-none-win_amd64.whl (277 kB)\n",
      "   ---------------------------------------- 0.0/277.5 kB ? eta -:--:--\n",
      "   ---------------------------------------- 277.5/277.5 kB 8.6 MB/s eta 0:00:00\n",
      "Downloading tokenizers-0.15.0-cp311-none-win_amd64.whl (2.2 MB)\n",
      "   ---------------------------------------- 0.0/2.2 MB ? eta -:--:--\n",
      "   ------------- -------------------------- 0.7/2.2 MB 23.5 MB/s eta 0:00:01\n",
      "   --------------------- ------------------ 1.2/2.2 MB 15.0 MB/s eta 0:00:01\n",
      "   --------------------------------- ------ 1.9/2.2 MB 14.7 MB/s eta 0:00:01\n",
      "   ---------------------------------------- 2.2/2.2 MB 14.0 MB/s eta 0:00:00\n",
      "Downloading fsspec-2023.12.1-py3-none-any.whl (168 kB)\n",
      "   ---------------------------------------- 0.0/168.9 kB ? eta -:--:--\n",
      "   --------------------------------------- 168.9/168.9 kB 10.6 MB/s eta 0:00:00\n",
      "Installing collected packages: safetensors, fsspec, huggingface-hub, tokenizers, transformers\n",
      "  Attempting uninstall: fsspec\n",
      "    Found existing installation: fsspec 2023.4.0\n",
      "    Uninstalling fsspec-2023.4.0:\n",
      "      Successfully uninstalled fsspec-2023.4.0\n",
      "  Attempting uninstall: transformers\n",
      "    Found existing installation: transformers 2.1.1\n",
      "    Uninstalling transformers-2.1.1:\n",
      "      Successfully uninstalled transformers-2.1.1\n",
      "Successfully installed fsspec-2023.12.1 huggingface-hub-0.19.4 safetensors-0.4.1 tokenizers-0.15.0 transformers-4.35.2\n",
      "Note: you may need to restart the kernel to use updated packages.\n"
     ]
    },
    {
     "name": "stderr",
     "output_type": "stream",
     "text": [
      "ERROR: pip's dependency resolver does not currently take into account all the packages that are installed. This behaviour is the source of the following dependency conflicts.\n",
      "s3fs 2023.4.0 requires fsspec==2023.4.0, but you have fsspec 2023.12.1 which is incompatible.\n"
     ]
    }
   ],
   "source": [
    "pip install --upgrade transformers"
   ]
  },
  {
   "cell_type": "code",
   "execution_count": 8,
   "id": "fea24688",
   "metadata": {},
   "outputs": [
    {
     "name": "stdout",
     "output_type": "stream",
     "text": [
      "Requirement already satisfied: pyaudio in c:\\users\\msm\\anaconda3\\lib\\site-packages (0.2.13)\n",
      "Note: you may need to restart the kernel to use updated packages.\n"
     ]
    }
   ],
   "source": [
    "pip install pyaudio"
   ]
  },
  {
   "cell_type": "code",
   "execution_count": 1,
   "id": "8f3fbfc7",
   "metadata": {},
   "outputs": [
    {
     "name": "stdout",
     "output_type": "stream",
     "text": [
      "Requirement already satisfied: SpeechRecognition in c:\\users\\msm\\anaconda3\\lib\\site-packages (3.10.0)\n",
      "Requirement already satisfied: requests>=2.26.0 in c:\\users\\msm\\anaconda3\\lib\\site-packages (from SpeechRecognition) (2.31.0)\n",
      "Requirement already satisfied: charset-normalizer<4,>=2 in c:\\users\\msm\\anaconda3\\lib\\site-packages (from requests>=2.26.0->SpeechRecognition) (2.0.4)\n",
      "Requirement already satisfied: idna<4,>=2.5 in c:\\users\\msm\\anaconda3\\lib\\site-packages (from requests>=2.26.0->SpeechRecognition) (3.4)\n",
      "Requirement already satisfied: urllib3<3,>=1.21.1 in c:\\users\\msm\\anaconda3\\lib\\site-packages (from requests>=2.26.0->SpeechRecognition) (1.26.18)\n",
      "Requirement already satisfied: certifi>=2017.4.17 in c:\\users\\msm\\anaconda3\\lib\\site-packages (from requests>=2.26.0->SpeechRecognition) (2023.7.22)\n",
      "Note: you may need to restart the kernel to use updated packages.\n"
     ]
    }
   ],
   "source": [
    "pip install SpeechRecognition"
   ]
  },
  {
   "cell_type": "code",
   "execution_count": 2,
   "id": "6a4af0f8",
   "metadata": {},
   "outputs": [
    {
     "name": "stdout",
     "output_type": "stream",
     "text": [
      "Collecting librosa\n",
      "  Obtaining dependency information for librosa from https://files.pythonhosted.org/packages/e2/a2/4f639c1168d7aada749a896afb4892a831e2041bebdcf636aebfe9e86556/librosa-0.10.1-py3-none-any.whl.metadata\n",
      "  Downloading librosa-0.10.1-py3-none-any.whl.metadata (8.3 kB)\n",
      "Collecting audioread>=2.1.9 (from librosa)\n",
      "  Obtaining dependency information for audioread>=2.1.9 from https://files.pythonhosted.org/packages/57/8d/30aa32745af16af0a9a650115fbe81bde7c610ed5c21b381fca0196f3a7f/audioread-3.0.1-py3-none-any.whl.metadata\n",
      "  Downloading audioread-3.0.1-py3-none-any.whl.metadata (8.4 kB)\n",
      "Requirement already satisfied: numpy!=1.22.0,!=1.22.1,!=1.22.2,>=1.20.3 in c:\\users\\msm\\anaconda3\\lib\\site-packages (from librosa) (1.25.2)\n",
      "Requirement already satisfied: scipy>=1.2.0 in c:\\users\\msm\\anaconda3\\lib\\site-packages (from librosa) (1.11.3)\n",
      "Requirement already satisfied: scikit-learn>=0.20.0 in c:\\users\\msm\\anaconda3\\lib\\site-packages (from librosa) (1.2.2)\n",
      "Requirement already satisfied: joblib>=0.14 in c:\\users\\msm\\anaconda3\\lib\\site-packages (from librosa) (1.2.0)\n",
      "Requirement already satisfied: decorator>=4.3.0 in c:\\users\\msm\\anaconda3\\lib\\site-packages (from librosa) (5.1.1)\n",
      "Requirement already satisfied: numba>=0.51.0 in c:\\users\\msm\\anaconda3\\lib\\site-packages (from librosa) (0.58.0)\n",
      "Collecting soundfile>=0.12.1 (from librosa)\n",
      "  Downloading soundfile-0.12.1-py2.py3-none-win_amd64.whl (1.0 MB)\n",
      "     ---------------------------------------- 0.0/1.0 MB ? eta -:--:--\n",
      "     - -------------------------------------- 0.0/1.0 MB 640.0 kB/s eta 0:00:02\n",
      "     --- ------------------------------------ 0.1/1.0 MB 1.1 MB/s eta 0:00:01\n",
      "     ---------- ----------------------------- 0.3/1.0 MB 2.1 MB/s eta 0:00:01\n",
      "     ----------------------- ---------------- 0.6/1.0 MB 3.4 MB/s eta 0:00:01\n",
      "     ---------------------------------------- 1.0/1.0 MB 4.6 MB/s eta 0:00:00\n",
      "Collecting pooch>=1.0 (from librosa)\n",
      "  Obtaining dependency information for pooch>=1.0 from https://files.pythonhosted.org/packages/1a/a5/5174dac3957ac412e80a00f30b6507031fcab7000afc9ea0ac413bddcff2/pooch-1.8.0-py3-none-any.whl.metadata\n",
      "  Downloading pooch-1.8.0-py3-none-any.whl.metadata (9.9 kB)\n",
      "Collecting soxr>=0.3.2 (from librosa)\n",
      "  Obtaining dependency information for soxr>=0.3.2 from https://files.pythonhosted.org/packages/0d/95/8398287a3a00d006ebbe5fcada88bb2536acde2beecce892ff091e1c1a3b/soxr-0.3.7-cp311-cp311-win_amd64.whl.metadata\n",
      "  Downloading soxr-0.3.7-cp311-cp311-win_amd64.whl.metadata (5.7 kB)\n",
      "Requirement already satisfied: typing-extensions>=4.1.1 in c:\\users\\msm\\anaconda3\\lib\\site-packages (from librosa) (4.7.1)\n",
      "Requirement already satisfied: lazy-loader>=0.1 in c:\\users\\msm\\anaconda3\\lib\\site-packages (from librosa) (0.3)\n",
      "Requirement already satisfied: msgpack>=1.0 in c:\\users\\msm\\anaconda3\\lib\\site-packages (from librosa) (1.0.3)\n",
      "Requirement already satisfied: llvmlite<0.42,>=0.41.0dev0 in c:\\users\\msm\\anaconda3\\lib\\site-packages (from numba>=0.51.0->librosa) (0.41.0)\n",
      "Requirement already satisfied: platformdirs>=2.5.0 in c:\\users\\msm\\anaconda3\\lib\\site-packages (from pooch>=1.0->librosa) (3.10.0)\n",
      "Requirement already satisfied: packaging>=20.0 in c:\\users\\msm\\anaconda3\\lib\\site-packages (from pooch>=1.0->librosa) (23.1)\n",
      "Requirement already satisfied: requests>=2.19.0 in c:\\users\\msm\\anaconda3\\lib\\site-packages (from pooch>=1.0->librosa) (2.31.0)\n",
      "Requirement already satisfied: threadpoolctl>=2.0.0 in c:\\users\\msm\\anaconda3\\lib\\site-packages (from scikit-learn>=0.20.0->librosa) (2.2.0)\n",
      "Requirement already satisfied: cffi>=1.0 in c:\\users\\msm\\anaconda3\\lib\\site-packages (from soundfile>=0.12.1->librosa) (1.15.1)\n",
      "Requirement already satisfied: pycparser in c:\\users\\msm\\anaconda3\\lib\\site-packages (from cffi>=1.0->soundfile>=0.12.1->librosa) (2.21)\n",
      "Requirement already satisfied: charset-normalizer<4,>=2 in c:\\users\\msm\\anaconda3\\lib\\site-packages (from requests>=2.19.0->pooch>=1.0->librosa) (2.0.4)\n",
      "Requirement already satisfied: idna<4,>=2.5 in c:\\users\\msm\\anaconda3\\lib\\site-packages (from requests>=2.19.0->pooch>=1.0->librosa) (3.4)\n",
      "Requirement already satisfied: urllib3<3,>=1.21.1 in c:\\users\\msm\\anaconda3\\lib\\site-packages (from requests>=2.19.0->pooch>=1.0->librosa) (1.26.18)\n",
      "Requirement already satisfied: certifi>=2017.4.17 in c:\\users\\msm\\anaconda3\\lib\\site-packages (from requests>=2.19.0->pooch>=1.0->librosa) (2023.7.22)\n",
      "Downloading librosa-0.10.1-py3-none-any.whl (253 kB)\n",
      "   ---------------------------------------- 0.0/253.7 kB ? eta -:--:--\n",
      "   --------------------------------------- 253.7/253.7 kB 15.2 MB/s eta 0:00:00\n",
      "Downloading audioread-3.0.1-py3-none-any.whl (23 kB)\n",
      "Downloading pooch-1.8.0-py3-none-any.whl (62 kB)\n",
      "   ---------------------------------------- 0.0/62.7 kB ? eta -:--:--\n",
      "   ---------------------------------------- 62.7/62.7 kB 3.5 MB/s eta 0:00:00\n",
      "Downloading soxr-0.3.7-cp311-cp311-win_amd64.whl (184 kB)\n",
      "   ---------------------------------------- 0.0/184.7 kB ? eta -:--:--\n",
      "   ---------------------------------------- 184.7/184.7 kB ? eta 0:00:00\n",
      "Installing collected packages: soxr, audioread, soundfile, pooch, librosa\n",
      "Successfully installed audioread-3.0.1 librosa-0.10.1 pooch-1.8.0 soundfile-0.12.1 soxr-0.3.7\n",
      "Note: you may need to restart the kernel to use updated packages.\n"
     ]
    }
   ],
   "source": [
    "pip install librosa"
   ]
  },
  {
   "cell_type": "code",
   "execution_count": 4,
   "id": "5279070e",
   "metadata": {},
   "outputs": [
    {
     "name": "stdout",
     "output_type": "stream",
     "text": [
      "Collecting moviepy\n",
      "  Downloading moviepy-1.0.3.tar.gz (388 kB)\n",
      "     ---------------------------------------- 0.0/388.3 kB ? eta -:--:--\n",
      "     - -------------------------------------- 10.2/388.3 kB ? eta -:--:--\n",
      "     -------- ------------------------------ 81.9/388.3 kB 1.2 MB/s eta 0:00:01\n",
      "     ------------------------ ------------- 245.8/388.3 kB 2.2 MB/s eta 0:00:01\n",
      "     -------------------------------------- 388.3/388.3 kB 2.4 MB/s eta 0:00:00\n",
      "  Preparing metadata (setup.py): started\n",
      "  Preparing metadata (setup.py): finished with status 'done'\n",
      "Requirement already satisfied: SpeechRecognition in c:\\users\\msm\\anaconda3\\lib\\site-packages (3.10.0)\n",
      "Collecting pydub\n",
      "  Downloading pydub-0.25.1-py2.py3-none-any.whl (32 kB)\n",
      "Collecting decorator<5.0,>=4.0.2 (from moviepy)\n",
      "  Downloading decorator-4.4.2-py2.py3-none-any.whl (9.2 kB)\n",
      "Requirement already satisfied: tqdm<5.0,>=4.11.2 in c:\\users\\msm\\anaconda3\\lib\\site-packages (from moviepy) (4.65.0)\n",
      "Requirement already satisfied: requests<3.0,>=2.8.1 in c:\\users\\msm\\anaconda3\\lib\\site-packages (from moviepy) (2.31.0)\n",
      "Collecting proglog<=1.0.0 (from moviepy)\n",
      "  Downloading proglog-0.1.10-py3-none-any.whl (6.1 kB)\n",
      "Requirement already satisfied: numpy>=1.17.3 in c:\\users\\msm\\anaconda3\\lib\\site-packages (from moviepy) (1.25.2)\n",
      "Requirement already satisfied: imageio<3.0,>=2.5 in c:\\users\\msm\\anaconda3\\lib\\site-packages (from moviepy) (2.31.4)\n",
      "Collecting imageio_ffmpeg>=0.2.0 (from moviepy)\n",
      "  Obtaining dependency information for imageio_ffmpeg>=0.2.0 from https://files.pythonhosted.org/packages/c6/01/716106099e48c4f419876d5814679a94dd7d6f441217c97c1b608123c6bb/imageio_ffmpeg-0.4.9-py3-none-win_amd64.whl.metadata\n",
      "  Downloading imageio_ffmpeg-0.4.9-py3-none-win_amd64.whl.metadata (1.7 kB)\n",
      "Requirement already satisfied: pillow>=8.3.2 in c:\\users\\msm\\anaconda3\\lib\\site-packages (from imageio<3.0,>=2.5->moviepy) (10.0.1)\n",
      "Requirement already satisfied: setuptools in c:\\users\\msm\\anaconda3\\lib\\site-packages (from imageio_ffmpeg>=0.2.0->moviepy) (68.0.0)\n",
      "Requirement already satisfied: charset-normalizer<4,>=2 in c:\\users\\msm\\anaconda3\\lib\\site-packages (from requests<3.0,>=2.8.1->moviepy) (2.0.4)\n",
      "Requirement already satisfied: idna<4,>=2.5 in c:\\users\\msm\\anaconda3\\lib\\site-packages (from requests<3.0,>=2.8.1->moviepy) (3.4)\n",
      "Requirement already satisfied: urllib3<3,>=1.21.1 in c:\\users\\msm\\anaconda3\\lib\\site-packages (from requests<3.0,>=2.8.1->moviepy) (1.26.18)\n",
      "Requirement already satisfied: certifi>=2017.4.17 in c:\\users\\msm\\anaconda3\\lib\\site-packages (from requests<3.0,>=2.8.1->moviepy) (2023.7.22)\n",
      "Requirement already satisfied: colorama in c:\\users\\msm\\anaconda3\\lib\\site-packages (from tqdm<5.0,>=4.11.2->moviepy) (0.4.6)\n",
      "Downloading imageio_ffmpeg-0.4.9-py3-none-win_amd64.whl (22.6 MB)\n",
      "   ---------------------------------------- 0.0/22.6 MB ? eta -:--:--\n",
      "    --------------------------------------- 0.5/22.6 MB 10.7 MB/s eta 0:00:03\n",
      "   -- ------------------------------------- 1.6/22.6 MB 20.9 MB/s eta 0:00:02\n",
      "   ----- ---------------------------------- 3.1/22.6 MB 22.2 MB/s eta 0:00:01\n",
      "   -------- ------------------------------- 5.1/22.6 MB 27.0 MB/s eta 0:00:01\n",
      "   ---------- ----------------------------- 6.0/22.6 MB 29.5 MB/s eta 0:00:01\n",
      "   ---------- ----------------------------- 6.0/22.6 MB 29.5 MB/s eta 0:00:01\n",
      "   ---------- ----------------------------- 6.0/22.6 MB 29.5 MB/s eta 0:00:01\n",
      "   ---------- ----------------------------- 6.0/22.6 MB 29.5 MB/s eta 0:00:01\n",
      "   ---------- ----------------------------- 6.0/22.6 MB 15.4 MB/s eta 0:00:02\n",
      "   ---------- ----------------------------- 6.1/22.6 MB 13.4 MB/s eta 0:00:02\n",
      "   ---------- ----------------------------- 6.1/22.6 MB 11.8 MB/s eta 0:00:02\n",
      "   ---------- ----------------------------- 6.2/22.6 MB 11.3 MB/s eta 0:00:02\n",
      "   ----------- ---------------------------- 6.3/22.6 MB 10.6 MB/s eta 0:00:02\n",
      "   ----------- ---------------------------- 6.5/22.6 MB 9.8 MB/s eta 0:00:02\n",
      "   ----------- ---------------------------- 6.7/22.6 MB 9.5 MB/s eta 0:00:02\n",
      "   ------------ --------------------------- 7.0/22.6 MB 9.1 MB/s eta 0:00:02\n",
      "   ------------ --------------------------- 7.2/22.6 MB 9.0 MB/s eta 0:00:02\n",
      "   ------------- -------------------------- 7.4/22.6 MB 8.7 MB/s eta 0:00:02\n",
      "   ------------- -------------------------- 7.6/22.6 MB 8.5 MB/s eta 0:00:02\n",
      "   -------------- ------------------------- 7.9/22.6 MB 8.3 MB/s eta 0:00:02\n",
      "   -------------- ------------------------- 8.3/22.6 MB 8.4 MB/s eta 0:00:02\n",
      "   --------------- ------------------------ 8.6/22.6 MB 8.4 MB/s eta 0:00:02\n",
      "   ---------------- ----------------------- 9.2/22.6 MB 8.4 MB/s eta 0:00:02\n",
      "   ---------------- ----------------------- 9.6/22.6 MB 8.4 MB/s eta 0:00:02\n",
      "   ----------------- ---------------------- 10.1/22.6 MB 8.5 MB/s eta 0:00:02\n",
      "   ------------------ --------------------- 10.5/22.6 MB 8.4 MB/s eta 0:00:02\n",
      "   ----------------------- ---------------- 13.1/22.6 MB 9.1 MB/s eta 0:00:02\n",
      "   ----------------------- ---------------- 13.1/22.6 MB 9.1 MB/s eta 0:00:02\n",
      "   ----------------------- ---------------- 13.1/22.6 MB 9.1 MB/s eta 0:00:02\n",
      "   ----------------------- ---------------- 13.1/22.6 MB 9.1 MB/s eta 0:00:02\n",
      "   ----------------------- ---------------- 13.1/22.6 MB 9.1 MB/s eta 0:00:02\n",
      "   ----------------------- ---------------- 13.1/22.6 MB 7.6 MB/s eta 0:00:02\n",
      "   ----------------------- ---------------- 13.2/22.6 MB 7.2 MB/s eta 0:00:02\n",
      "   ----------------------- ---------------- 13.2/22.6 MB 7.1 MB/s eta 0:00:02\n",
      "   ----------------------- ---------------- 13.5/22.6 MB 6.8 MB/s eta 0:00:02\n",
      "   ------------------------ --------------- 13.6/22.6 MB 6.5 MB/s eta 0:00:02\n",
      "   ------------------------ --------------- 13.8/22.6 MB 6.4 MB/s eta 0:00:02\n",
      "   ------------------------ --------------- 14.1/22.6 MB 6.2 MB/s eta 0:00:02\n",
      "   ------------------------- -------------- 14.3/22.6 MB 6.1 MB/s eta 0:00:02\n",
      "   ------------------------- -------------- 14.6/22.6 MB 5.8 MB/s eta 0:00:02\n",
      "   -------------------------- ------------- 14.9/22.6 MB 5.7 MB/s eta 0:00:02\n",
      "   --------------------------- ------------ 15.4/22.6 MB 5.6 MB/s eta 0:00:02\n",
      "   --------------------------- ------------ 15.7/22.6 MB 5.5 MB/s eta 0:00:02\n",
      "   ---------------------------- ----------- 16.1/22.6 MB 5.4 MB/s eta 0:00:02\n",
      "   ----------------------------- ---------- 16.5/22.6 MB 6.8 MB/s eta 0:00:01\n",
      "   ------------------------------ --------- 17.0/22.6 MB 7.0 MB/s eta 0:00:01\n",
      "   ------------------------------ --------- 17.4/22.6 MB 7.2 MB/s eta 0:00:01\n",
      "   ----------------------------------- ---- 19.9/22.6 MB 9.1 MB/s eta 0:00:01\n",
      "   ---------------------------------------  22.6/22.6 MB 9.6 MB/s eta 0:00:01\n",
      "   ---------------------------------------- 22.6/22.6 MB 9.1 MB/s eta 0:00:00\n",
      "Building wheels for collected packages: moviepy\n",
      "  Building wheel for moviepy (setup.py): started\n",
      "  Building wheel for moviepy (setup.py): finished with status 'done'\n",
      "  Created wheel for moviepy: filename=moviepy-1.0.3-py3-none-any.whl size=110773 sha256=dcb59c32c60a4801d9865e5d71fb2cc69cb5fb4d806ebcc5755535c9ee3d12b6\n",
      "  Stored in directory: c:\\users\\msm\\appdata\\local\\pip\\cache\\wheels\\83\\b1\\d9\\119ef7c144b44d591ec0a9a140465133c23ea95d2a161184ba\n",
      "Successfully built moviepy\n",
      "Installing collected packages: pydub, imageio_ffmpeg, decorator, proglog, moviepy\n",
      "  Attempting uninstall: decorator\n",
      "    Found existing installation: decorator 5.1.1\n",
      "    Uninstalling decorator-5.1.1:\n",
      "      Successfully uninstalled decorator-5.1.1\n",
      "Successfully installed decorator-4.4.2 imageio_ffmpeg-0.4.9 moviepy-1.0.3 proglog-0.1.10 pydub-0.25.1\n",
      "Note: you may need to restart the kernel to use updated packages.\n"
     ]
    }
   ],
   "source": [
    "pip install moviepy SpeechRecognition pydub"
   ]
  },
  {
   "cell_type": "markdown",
   "id": "5933cf43",
   "metadata": {},
   "source": [
    "## 동영상 음성 텍스트로 추출"
   ]
  },
  {
   "cell_type": "code",
   "execution_count": 13,
   "id": "e87a1c95",
   "metadata": {
    "scrolled": true
   },
   "outputs": [
    {
     "name": "stdout",
     "output_type": "stream",
     "text": [
      "MoviePy - Writing audio in pass1_audio.wav\n"
     ]
    },
    {
     "name": "stderr",
     "output_type": "stream",
     "text": [
      "                                                                                                                       \r"
     ]
    },
    {
     "name": "stdout",
     "output_type": "stream",
     "text": [
      "MoviePy - Done.\n",
      "안녕하십니까 지원자 한지연 저는 증인으로 증언을 하면서 최대한 저의 주관적인 생각이나 판단을 배제하고 제가 목격한 장면에 관한 증언만 할 것입니다 첫 번째로 만약 동기 동기가 동기의 성희롱 고발이 사실일 경우에는 어 제가 최근 동기가 팀장님을 자주 비난했다는 사실을 언급함으로써 투명한 조사 과정을 오히려 방해할 수 있고 어 해당 사건은 성희롱 사건인만큼 당사자만이 알고 있는 일이 있었을 수도 있기 때문에 저는 최대한 저의 주관을 배제할 것입니다 두 번째로 만약 성희롱 고발이 사실이 성희롱이 사실이 아닐 경우에는 만약 팀장님께서 제가 목격한 장면에 의하면 정말 손목 터치만 했을 경우에는 제가 그 사실만을 언급한 그 사실만을 언급하다 충분히 팀장님의 결백을 입증하는데 도움이 될 수 있고 또 조사 과정 속에서 동기가 최근에 인사 국가를 나쁘게 받았다는 점을 감사실에서 충분히 파악할 수 있을 것이라고 생각하기 때문에 제가 주관을 최대한 배제하고 제가 해당 장면에서 목격한 바늘 증언할 것입니다 성희롱 엔진을 본인이 판단을 하고 성희롱교육 경우에는 동기 입장에 대해서는 얘기한다 팀장님 이런 느낌으로 드렸거든요 아니 내가 성희롱의 경우와 성희롱이 아닐 경우 모두 제 주관을 배제하고 말하는 것이 조사 과정에 있어서 도움이 될 것이라는 일과 그것은 제가 판단할 바가 아니지만 두 가지 가능성이 충분히 존재하기 때문에 두 가지 가능성이 존재하는 상황에서 제가 최대한 그 조사과정을 방해하지 않는 방향에서 발언을 해야 한다고 말이야 근데 지금 성희롱이라고 한다면 성희롱이 이제 아니더라도 나름대로 주관적이고 성희롱 일거다 아닐 거라는 판단이라는 생각을 할 수 있거든요 제 스스로는 이것이 성희롱 일지 성희롱이 아닐지 대한 판단을 내부적으로 할 수 있다고 생각합니다 그러나 증언 자체에서는 그러한 저의 주관이 배제되어야 한다고 생각합니다 저는 제가 듣기에는 성희롱 이럴 경우 성희롱이 아닐 경우 본인이 먼저 판단을 하고 그랬을 경우 어떻게 하겠다 이런 느낌으로 좀 들었거든요 알겠습니다 그럼 성희롱의 판단 기준이 뭐라고 생각하시나요 성희롱의 판단 기준은 피해자가 성적으로 모멸감을 느끼는 행동이나 발언인데이 성적인 모멸감이 상당히 주관적일 수 있고 또 입증이 어려운 부분이기 때문에 그렇기 때문에 성희롱이 문제가 입증하기 어려운 사건이라고 생각합니다 두 가지 수고하셨습니다\n",
      "변환된 텍스트가 파일에 저장되었습니다.\n",
      "파일 내용:\n",
      "안녕하십니까 지원자 한지연 저는 증인으로 증언을 하면서 최대한 저의 주관적인 생각이나 판단을 배제하고 제가 목격한 장면에 관한 증언만 할 것입니다 첫 번째로 만약 동기 동기가 동기의 성희롱 고발이 사실일 경우에는 어 제가 최근 동기가 팀장님을 자주 비난했다는 사실을 언급함으로써 투명한 조사 과정을 오히려 방해할 수 있고 어 해당 사건은 성희롱 사건인만큼 당사자만이 알고 있는 일이 있었을 수도 있기 때문에 저는 최대한 저의 주관을 배제할 것입니다 두 번째로 만약 성희롱 고발이 사실이 성희롱이 사실이 아닐 경우에는 만약 팀장님께서 제가 목격한 장면에 의하면 정말 손목 터치만 했을 경우에는 제가 그 사실만을 언급한 그 사실만을 언급하다 충분히 팀장님의 결백을 입증하는데 도움이 될 수 있고 또 조사 과정 속에서 동기가 최근에 인사 국가를 나쁘게 받았다는 점을 감사실에서 충분히 파악할 수 있을 것이라고 생각하기 때문에 제가 주관을 최대한 배제하고 제가 해당 장면에서 목격한 바늘 증언할 것입니다 성희롱 엔진을 본인이 판단을 하고 성희롱교육 경우에는 동기 입장에 대해서는 얘기한다 팀장님 이런 느낌으로 드렸거든요 아니 내가 성희롱의 경우와 성희롱이 아닐 경우 모두 제 주관을 배제하고 말하는 것이 조사 과정에 있어서 도움이 될 것이라는 일과 그것은 제가 판단할 바가 아니지만 두 가지 가능성이 충분히 존재하기 때문에 두 가지 가능성이 존재하는 상황에서 제가 최대한 그 조사과정을 방해하지 않는 방향에서 발언을 해야 한다고 말이야 근데 지금 성희롱이라고 한다면 성희롱이 이제 아니더라도 나름대로 주관적이고 성희롱 일거다 아닐 거라는 판단이라는 생각을 할 수 있거든요 제 스스로는 이것이 성희롱 일지 성희롱이 아닐지 대한 판단을 내부적으로 할 수 있다고 생각합니다 그러나 증언 자체에서는 그러한 저의 주관이 배제되어야 한다고 생각합니다 저는 제가 듣기에는 성희롱 이럴 경우 성희롱이 아닐 경우 본인이 먼저 판단을 하고 그랬을 경우 어떻게 하겠다 이런 느낌으로 좀 들었거든요 알겠습니다 그럼 성희롱의 판단 기준이 뭐라고 생각하시나요 성희롱의 판단 기준은 피해자가 성적으로 모멸감을 느끼는 행동이나 발언인데이 성적인 모멸감이 상당히 주관적일 수 있고 또 입증이 어려운 부분이기 때문에 그렇기 때문에 성희롱이 문제가 입증하기 어려운 사건이라고 생각합니다 두 가지 수고하셨습니다\n"
     ]
    }
   ],
   "source": [
    "# pip install SpeechRecognition\n",
    "# pip install moviepy SpeechRecognition pydub\n",
    "\n",
    "import moviepy.editor as mp\n",
    "import speech_recognition as sr\n",
    "import os\n",
    "\n",
    "# 동영상 파일 경로\n",
    "video_path = 'pass1.mp4'\n",
    "\n",
    "# 동영상 파일 이름에서 확장자를 제외한 부분 추출\n",
    "video_name = os.path.splitext(os.path.basename(video_path))[0]\n",
    "\n",
    "# 동영상에서 오디오 추출\n",
    "audio_file_path = f\"{video_name}_audio.wav\"\n",
    "clip = mp.VideoFileClip(video_path)\n",
    "clip.audio.write_audiofile(audio_file_path)\n",
    "\n",
    "# 추출한 오디오 파일 로드\n",
    "r = sr.Recognizer()\n",
    "\n",
    "with sr.AudioFile(audio_file_path) as source:\n",
    "    audio = r.record(source)\n",
    "\n",
    "# Google Web Speech API를 사용하여 텍스트로 변환\n",
    "result = r.recognize_google(audio_data=audio, language='ko-KR')\n",
    "\n",
    "# 변환된 텍스트 출력\n",
    "print(result)\n",
    "\n",
    "# 변환된 텍스트 파일에 저장\n",
    "text_file_path = f\"{video_name}_transcription.txt\"\n",
    "with open(text_file_path, \"w\", encoding=\"utf-8\") as text_file:\n",
    "    text_file.write(result)\n",
    "\n",
    "# 파일에 저장된 내용 확인\n",
    "with open(text_file_path, \"r\", encoding=\"utf-8\") as read_file:\n",
    "    saved_text = read_file.read()\n",
    "\n",
    "print(\"변환된 텍스트가 파일에 저장되었습니다.\")\n",
    "print(\"파일 내용:\")\n",
    "print(saved_text)"
   ]
  },
  {
   "cell_type": "markdown",
   "id": "1fa8d74e",
   "metadata": {},
   "source": [
    "### 여러 영상 텍스트 추출"
   ]
  },
  {
   "cell_type": "code",
   "execution_count": 9,
   "id": "c9f05d5e",
   "metadata": {
    "scrolled": true
   },
   "outputs": [
    {
     "name": "stdout",
     "output_type": "stream",
     "text": [
      "MoviePy - Writing audio in pass1_audio.wav\n"
     ]
    },
    {
     "name": "stderr",
     "output_type": "stream",
     "text": [
      "                                                                                                                       \r"
     ]
    },
    {
     "name": "stdout",
     "output_type": "stream",
     "text": [
      "MoviePy - Done.\n",
      "안녕하십니까 지원자 한지연 저는 증인으로 증언을 하면서 최대한 저의 주관적인 생각이나 판단을 배제하고 제가 목격한 장면에 관한 증언만 할 것입니다 첫 번째로 만약 동기 동기가 동기의 성희롱 고발이 사실일 경우에는 어 제가 최근 동기가 팀장님을 자주 비난했다는 사실을 언급함으로써 투명한 조사 과정을 오히려 방해할 수 있고 어 해당 사건은 성희롱 사건인만큼 당사자만이 알고 있는 일이 있었을 수도 있기 때문에 저는 최대한 저의 주관을 배제할 것입니다 두 번째로 만약 성희롱 고발이 사실이 성희롱이 사실이 아닐 경우에는 만약 팀장님께서 제가 목격한 장면에 의하면 정말 손목 터치만 했을 경우에는 제가 그 사실만을 언급한 그 사실만을 언급하다 충분히 팀장님의 결백을 입증하는데 도움이 될 수 있고 또 조사 과정 속에서 동기가 최근에 인사 국가를 나쁘게 받았다는 점을 감사실에서 충분히 파악할 수 있을 것이라고 생각하기 때문에 제가 주관을 최대한 배제하고 제가 해당 장면에서 목격한 바늘 증언할 것입니다 성희롱 엔진을 본인이 판단을 하고 성희롱교육 경우에는 동기 입장에 대해서는 얘기한다 팀장님 이런 느낌으로 드렸거든요 아니 내가 성희롱의 경우와 성희롱이 아닐 경우 모두 제 주관을 배제하고 말하는 것이 조사 과정에 있어서 도움이 될 것이라는 일과 그것은 제가 판단할 바가 아니지만 두 가지 가능성이 충분히 존재하기 때문에 두 가지 가능성이 존재하는 상황에서 제가 최대한 그 조사과정을 방해하지 않는 방향에서 발언을 해야 한다고 말이야 근데 지금 성희롱이라고 한다면 성희롱이 이제 아니더라도 나름대로 주관적이고 성희롱 일거다 아닐 거라는 판단이라는 생각을 할 수 있거든요 제 스스로는 이것이 성희롱 일지 성희롱이 아닐지 대한 판단을 내부적으로 할 수 있다고 생각합니다 그러나 증언 자체에서는 그러한 저의 주관이 배제되어야 한다고 생각합니다 저는 제가 듣기에는 성희롱 이럴 경우 성희롱이 아닐 경우 본인이 먼저 판단을 하고 그랬을 경우 어떻게 하겠다 이런 느낌으로 좀 들었거든요 알겠습니다 그럼 성희롱의 판단 기준이 뭐라고 생각하시나요 성희롱의 판단 기준은 피해자가 성적으로 모멸감을 느끼는 행동이나 발언인데이 성적인 모멸감이 상당히 주관적일 수 있고 또 입증이 어려운 부분이기 때문에 그렇기 때문에 성희롱이 문제가 입증하기 어려운 사건이라고 생각합니다 두 가지 수고하셨습니다\n",
      "변환된 텍스트가 파일에 저장되었습니다.\n",
      "파일 내용:\n",
      "안녕하십니까 지원자 한지연 저는 증인으로 증언을 하면서 최대한 저의 주관적인 생각이나 판단을 배제하고 제가 목격한 장면에 관한 증언만 할 것입니다 첫 번째로 만약 동기 동기가 동기의 성희롱 고발이 사실일 경우에는 어 제가 최근 동기가 팀장님을 자주 비난했다는 사실을 언급함으로써 투명한 조사 과정을 오히려 방해할 수 있고 어 해당 사건은 성희롱 사건인만큼 당사자만이 알고 있는 일이 있었을 수도 있기 때문에 저는 최대한 저의 주관을 배제할 것입니다 두 번째로 만약 성희롱 고발이 사실이 성희롱이 사실이 아닐 경우에는 만약 팀장님께서 제가 목격한 장면에 의하면 정말 손목 터치만 했을 경우에는 제가 그 사실만을 언급한 그 사실만을 언급하다 충분히 팀장님의 결백을 입증하는데 도움이 될 수 있고 또 조사 과정 속에서 동기가 최근에 인사 국가를 나쁘게 받았다는 점을 감사실에서 충분히 파악할 수 있을 것이라고 생각하기 때문에 제가 주관을 최대한 배제하고 제가 해당 장면에서 목격한 바늘 증언할 것입니다 성희롱 엔진을 본인이 판단을 하고 성희롱교육 경우에는 동기 입장에 대해서는 얘기한다 팀장님 이런 느낌으로 드렸거든요 아니 내가 성희롱의 경우와 성희롱이 아닐 경우 모두 제 주관을 배제하고 말하는 것이 조사 과정에 있어서 도움이 될 것이라는 일과 그것은 제가 판단할 바가 아니지만 두 가지 가능성이 충분히 존재하기 때문에 두 가지 가능성이 존재하는 상황에서 제가 최대한 그 조사과정을 방해하지 않는 방향에서 발언을 해야 한다고 말이야 근데 지금 성희롱이라고 한다면 성희롱이 이제 아니더라도 나름대로 주관적이고 성희롱 일거다 아닐 거라는 판단이라는 생각을 할 수 있거든요 제 스스로는 이것이 성희롱 일지 성희롱이 아닐지 대한 판단을 내부적으로 할 수 있다고 생각합니다 그러나 증언 자체에서는 그러한 저의 주관이 배제되어야 한다고 생각합니다 저는 제가 듣기에는 성희롱 이럴 경우 성희롱이 아닐 경우 본인이 먼저 판단을 하고 그랬을 경우 어떻게 하겠다 이런 느낌으로 좀 들었거든요 알겠습니다 그럼 성희롱의 판단 기준이 뭐라고 생각하시나요 성희롱의 판단 기준은 피해자가 성적으로 모멸감을 느끼는 행동이나 발언인데이 성적인 모멸감이 상당히 주관적일 수 있고 또 입증이 어려운 부분이기 때문에 그렇기 때문에 성희롱이 문제가 입증하기 어려운 사건이라고 생각합니다 두 가지 수고하셨습니다\n",
      "MoviePy - Writing audio in pass2_audio.wav\n"
     ]
    },
    {
     "name": "stderr",
     "output_type": "stream",
     "text": [
      "                                                                                                                       \r"
     ]
    },
    {
     "name": "stdout",
     "output_type": "stream",
     "text": [
      "MoviePy - Done.\n",
      "제가 처한 상황은 업무량에 많은 와중 활동 업무에 빠른 제출을 위한 집중과 원하는 인사 이동을 위한 사적인 부탁 수락 중 우선순위를 설정하여 선택해야 하는 입장입니다 저는 혁신 팀장의 부탁을 거절하고 할당 업무에 집중할 것입니다 원하는 부서로 인사이동을 위해 그동안 많은 노력과 시간을 투자했지만 혁신 팀장의 부탁을 거절한다면 그에 따른 불이익이 발생할 수도 있습니다 그러나 현재 저의 위치는 시장조사 팀이며 업무량이 많고 바쁜 와중에 사적인 이유로 보고서 제출을 미룬다면 팀의 치명적인 피해가 갈 수 있으며 또한 혁신 팀장이 부탁을 들어주고 인사이동을 한 이후에도 조직보다는 사적인 행동을 한다는 평가를 안고 갈 수 있습니다 따라서 조직에 속해 있으므로 조직을 위한 행동이 우선순위가 되어야 한다고 생각합니다 그러나 원하는 이동 인사이동을 위해 시간 투자를 한만큼 혁신 팀장과의 관계도 유지되어야 한다고 생각합니다 따라서 혁신 팀장에게 바쁜 업무량이 끝나고 보고서 제출 이후 개인 과외가 가능하다고 설득하여 그 관계를 유지하고자 노력할 것입니다 아네 그래서 바쁜 업무량이 끝난 이후에 다시 한번 혁신 팀장과의 대화를 통해 개인 과외가 아니더라도 도움을 줄 수 있는 방안을 찾고자 합니다 되지 않는 선에서 적극적으로 저의 능력을 어필하여 인사이동에 도움이 될 수 있도록 노력하겠습니다 있었던 것 같습니다 제가 동아리에서 이제 부회장을 맡아서 어떤 장소를 예약을 해야 했는데 그 장소에 그 예약을 하려면 이제 돈을 지불하고 예약을 해야 되잖아요 그런데 그 제가 예약을 하는 상황을 알고 제 지인이 자기 가게를 빌리게 빌려 줘라 빌려 가라라고 했지만 저는 교회를 따르지 않고 그보다 더 저렴하고 접근성이 좋은 장소를 동아리를 위해 선택했습니다\n",
      "변환된 텍스트가 파일에 저장되었습니다.\n",
      "파일 내용:\n",
      "제가 처한 상황은 업무량에 많은 와중 활동 업무에 빠른 제출을 위한 집중과 원하는 인사 이동을 위한 사적인 부탁 수락 중 우선순위를 설정하여 선택해야 하는 입장입니다 저는 혁신 팀장의 부탁을 거절하고 할당 업무에 집중할 것입니다 원하는 부서로 인사이동을 위해 그동안 많은 노력과 시간을 투자했지만 혁신 팀장의 부탁을 거절한다면 그에 따른 불이익이 발생할 수도 있습니다 그러나 현재 저의 위치는 시장조사 팀이며 업무량이 많고 바쁜 와중에 사적인 이유로 보고서 제출을 미룬다면 팀의 치명적인 피해가 갈 수 있으며 또한 혁신 팀장이 부탁을 들어주고 인사이동을 한 이후에도 조직보다는 사적인 행동을 한다는 평가를 안고 갈 수 있습니다 따라서 조직에 속해 있으므로 조직을 위한 행동이 우선순위가 되어야 한다고 생각합니다 그러나 원하는 이동 인사이동을 위해 시간 투자를 한만큼 혁신 팀장과의 관계도 유지되어야 한다고 생각합니다 따라서 혁신 팀장에게 바쁜 업무량이 끝나고 보고서 제출 이후 개인 과외가 가능하다고 설득하여 그 관계를 유지하고자 노력할 것입니다 아네 그래서 바쁜 업무량이 끝난 이후에 다시 한번 혁신 팀장과의 대화를 통해 개인 과외가 아니더라도 도움을 줄 수 있는 방안을 찾고자 합니다 되지 않는 선에서 적극적으로 저의 능력을 어필하여 인사이동에 도움이 될 수 있도록 노력하겠습니다 있었던 것 같습니다 제가 동아리에서 이제 부회장을 맡아서 어떤 장소를 예약을 해야 했는데 그 장소에 그 예약을 하려면 이제 돈을 지불하고 예약을 해야 되잖아요 그런데 그 제가 예약을 하는 상황을 알고 제 지인이 자기 가게를 빌리게 빌려 줘라 빌려 가라라고 했지만 저는 교회를 따르지 않고 그보다 더 저렴하고 접근성이 좋은 장소를 동아리를 위해 선택했습니다\n",
      "MoviePy - Writing audio in pass3_audio.wav\n"
     ]
    },
    {
     "name": "stderr",
     "output_type": "stream",
     "text": [
      "                                                                                                                       \r"
     ]
    },
    {
     "name": "stdout",
     "output_type": "stream",
     "text": [
      "MoviePy - Done.\n",
      "어 일단 현재 상황은 우리 저희 팀이 중간보고회를 앞두고 있고 제가 추가적인 업무를 더 맞춰야 하는 상황입니다 저는 평소에 책임감이 있어서 맡은 업무는 꼭 시간 내에 끝내고 관심 있는 분야라면 항상 자기 계발을 하려고 노력을 하는 성격입니다 그래서 저라면 처음 해보는 것이지만 예전부터 해보고 싶었던 일을 선택하겠습니다 우선 제가 먼저 하고 싶었던 일이라면 사전에 충분한 지식을 쌓아 왔을 거고이 업무를 수행할 때 부족하지 않게 역량을 발휘할 수 있을 것이라 생각을 합니다 또한 제가 신입이 아니라 대리 3년 차이기 때문에이 팀에서 발생하는 일은 곁눈질을 일어나도 더 알고 있을 것이고이 두 가지 업무를 같이 수행을 한다고 해서 업무 수행에 차질이 있을 거라 생각을 하지 않습니다 마지막으로 제가 항상 하던 일을 하는 것보다 새로운 업무를 수행을 해서 제 업무 범위를 확장시키는 것이 장기적인 관점에서도 회사에서 더 도움이 될 것이라고 생각을 합니다네 수고하셨습니다 하고 싶은 일을 준비를 한다는 거죠 만약에 하고 싶은 일을 하려고 했는데 생각보다 계획과 달리 우리 생각보다 부담이 많고 그래서 기도를 어떤 일정이 어떤 차질이 발생할 가능성이 생긴다면 어떻게 대처하실 수 만약에 제가 원하던 만큼이 새로운 업무에서 영락이 역량이 발휘가 되지 않는다면 사전에 했던 이런 자료들을 찾아 본다거나이 업무를 기존에 했던 동기나 선배들한테 먼저 도움을 구해서이 업무를 정해진 시간 내에 완수를 하도록 노력하겠습니다네 알겠습니다 저는 아까도 똑같은 본인이 살면서 가장 도전적이었던 삶이 어떤 삶인가요 가장 도전적이었던 경험은 이제 코로나가 터진 상황이었음에도 불구하고 브라질로 교환학생을 갔던 경험입니다 현지에서도 계속 코로나 발생자 코로나 확진자 발생을 하는 상황이었지만 현재에서 아르바이트도 구하고 계속 현재 친구들이랑 연락을 하면서 지내려고 노력을 했던게 가장 도전적인 수고하셨습니다\n",
      "변환된 텍스트가 파일에 저장되었습니다.\n",
      "파일 내용:\n",
      "어 일단 현재 상황은 우리 저희 팀이 중간보고회를 앞두고 있고 제가 추가적인 업무를 더 맞춰야 하는 상황입니다 저는 평소에 책임감이 있어서 맡은 업무는 꼭 시간 내에 끝내고 관심 있는 분야라면 항상 자기 계발을 하려고 노력을 하는 성격입니다 그래서 저라면 처음 해보는 것이지만 예전부터 해보고 싶었던 일을 선택하겠습니다 우선 제가 먼저 하고 싶었던 일이라면 사전에 충분한 지식을 쌓아 왔을 거고이 업무를 수행할 때 부족하지 않게 역량을 발휘할 수 있을 것이라 생각을 합니다 또한 제가 신입이 아니라 대리 3년 차이기 때문에이 팀에서 발생하는 일은 곁눈질을 일어나도 더 알고 있을 것이고이 두 가지 업무를 같이 수행을 한다고 해서 업무 수행에 차질이 있을 거라 생각을 하지 않습니다 마지막으로 제가 항상 하던 일을 하는 것보다 새로운 업무를 수행을 해서 제 업무 범위를 확장시키는 것이 장기적인 관점에서도 회사에서 더 도움이 될 것이라고 생각을 합니다네 수고하셨습니다 하고 싶은 일을 준비를 한다는 거죠 만약에 하고 싶은 일을 하려고 했는데 생각보다 계획과 달리 우리 생각보다 부담이 많고 그래서 기도를 어떤 일정이 어떤 차질이 발생할 가능성이 생긴다면 어떻게 대처하실 수 만약에 제가 원하던 만큼이 새로운 업무에서 영락이 역량이 발휘가 되지 않는다면 사전에 했던 이런 자료들을 찾아 본다거나이 업무를 기존에 했던 동기나 선배들한테 먼저 도움을 구해서이 업무를 정해진 시간 내에 완수를 하도록 노력하겠습니다네 알겠습니다 저는 아까도 똑같은 본인이 살면서 가장 도전적이었던 삶이 어떤 삶인가요 가장 도전적이었던 경험은 이제 코로나가 터진 상황이었음에도 불구하고 브라질로 교환학생을 갔던 경험입니다 현지에서도 계속 코로나 발생자 코로나 확진자 발생을 하는 상황이었지만 현재에서 아르바이트도 구하고 계속 현재 친구들이랑 연락을 하면서 지내려고 노력을 했던게 가장 도전적인 수고하셨습니다\n"
     ]
    }
   ],
   "source": [
    "# pip install SpeechRecognition\n",
    "# pip install moviepy SpeechRecognition pydub\n",
    "\n",
    "import moviepy.editor as mp\n",
    "import speech_recognition as sr\n",
    "import os\n",
    "\n",
    "for i in range(1,51):\n",
    "    # 동영상 파일 경로\n",
    "    video_path = f'pass{i}.mp4'\n",
    "\n",
    "    # 동영상 파일 이름에서 확장자를 제외한 부분 추출\n",
    "    video_name = os.path.splitext(os.path.basename(video_path))[0]\n",
    "\n",
    "    # 동영상에서 오디오 추출\n",
    "    audio_file_path = f\"{video_name}_audio.wav\"\n",
    "    clip = mp.VideoFileClip(video_path)\n",
    "    clip.audio.write_audiofile(audio_file_path)\n",
    "\n",
    "    # 추출한 오디오 파일 로드\n",
    "    r = sr.Recognizer()\n",
    "\n",
    "    with sr.AudioFile(audio_file_path) as source:\n",
    "        audio = r.record(source)\n",
    "\n",
    "    # Google Web Speech API를 사용하여 텍스트로 변환\n",
    "    result = r.recognize_google(audio_data=audio, language='ko-KR')\n",
    "\n",
    "    # 변환된 텍스트 출력\n",
    "    print(result)\n",
    "\n",
    "    # 변환된 텍스트 파일에 저장\n",
    "    text_file_path = f\"{video_name}_transcription.txt\"\n",
    "    with open(text_file_path, \"w\", encoding=\"utf-8\") as text_file:\n",
    "        text_file.write(result)\n",
    "\n",
    "    # 파일에 저장된 내용 확인\n",
    "    with open(text_file_path, \"r\", encoding=\"utf-8\") as read_file:\n",
    "        saved_text = read_file.read()\n",
    "\n",
    "    print(\"변환된 텍스트가 파일에 저장되었습니다.\")\n",
    "    #print(\"파일 내용:\")\n",
    "    print(saved_text)"
   ]
  },
  {
   "cell_type": "markdown",
   "id": "5efd7e36",
   "metadata": {},
   "source": [
    "## CLOVA Speech Recognition api"
   ]
  },
  {
   "cell_type": "code",
   "execution_count": null,
   "id": "b055d2b5",
   "metadata": {},
   "outputs": [],
   "source": [
    "import sys\n",
    "import requests\n",
    "client_id = \"YOUR_CLIENT_ID\"\n",
    "client_secret = \"YOUR_CLIENT_SECRET\"\n",
    "lang = \"Kor\" # 언어 코드 ( Kor, Jpn, Eng, Chn )\n",
    "url = \"https://naveropenapi.apigw.ntruss.com/recog/v1/stt?lang=\" + lang\n",
    "data = open('음성 파일 경로', 'rb')\n",
    "headers = {\n",
    "    \"X-NCP-APIGW-API-KEY-ID\": client_id,\n",
    "    \"X-NCP-APIGW-API-KEY\": client_secret,\n",
    "    \"Content-Type\": \"application/octet-stream\"\n",
    "}\n",
    "response = requests.post(url,  data=data, headers=headers)\n",
    "rescode = response.status_code\n",
    "if(rescode == 200):\n",
    "    print (response.text)\n",
    "else:\n",
    "    print(\"Error : \" + response.text)"
   ]
  },
  {
   "cell_type": "markdown",
   "id": "e73ac578",
   "metadata": {},
   "source": [
    "## google web speech api 이용한 STT\n",
    "\n",
    "### 1. 음성 인식"
   ]
  },
  {
   "cell_type": "code",
   "execution_count": 1,
   "id": "ff6e7432",
   "metadata": {},
   "outputs": [
    {
     "name": "stdout",
     "output_type": "stream",
     "text": [
      "말씀하세요. : \n",
      "[]\n",
      "말씀하세요. : \n",
      "{'alternative': [{'transcript': '안녕하세요', 'confidence': 0.87048674}], 'final': True}\n",
      "말씀하세요. : \n",
      "{'alternative': [{'transcript': '안녕하세요 반갑습니다', 'confidence': 0.87048674}], 'final': True}\n",
      "말씀하세요. : \n",
      "[]\n",
      "말씀하세요. : \n",
      "[]\n",
      "말씀하세요. : \n",
      "[]\n",
      "말씀하세요. : \n"
     ]
    },
    {
     "ename": "KeyboardInterrupt",
     "evalue": "",
     "output_type": "error",
     "traceback": [
      "\u001b[1;31m---------------------------------------------------------------------------\u001b[0m",
      "\u001b[1;31mKeyboardInterrupt\u001b[0m                         Traceback (most recent call last)",
      "Cell \u001b[1;32mIn[1], line 21\u001b[0m\n\u001b[0;32m     18\u001b[0m         \u001b[38;5;28mprint\u001b[39m(\u001b[38;5;124m\"\u001b[39m\u001b[38;5;124mGoogle 음성 인식 서비스에서 결과를 요청할 수 없습니다.; \u001b[39m\u001b[38;5;132;01m{0}\u001b[39;00m\u001b[38;5;124m\"\u001b[39m\u001b[38;5;241m.\u001b[39mformat(e))\n\u001b[0;32m     20\u001b[0m \u001b[38;5;28;01mwhile\u001b[39;00m \u001b[38;5;28;01mTrue\u001b[39;00m :\n\u001b[1;32m---> 21\u001b[0m     my_speech \u001b[38;5;241m=\u001b[39m my_stt()\n\u001b[0;32m     22\u001b[0m     \u001b[38;5;28;01mif\u001b[39;00m my_speech \u001b[38;5;241m==\u001b[39m \u001b[38;5;124m\"\u001b[39m\u001b[38;5;124m종료\u001b[39m\u001b[38;5;124m\"\u001b[39m :\n\u001b[0;32m     23\u001b[0m         \u001b[38;5;28;01mbreak\u001b[39;00m\n",
      "Cell \u001b[1;32mIn[1], line 9\u001b[0m, in \u001b[0;36mmy_stt\u001b[1;34m()\u001b[0m\n\u001b[0;32m      7\u001b[0m \u001b[38;5;28;01mwith\u001b[39;00m sr\u001b[38;5;241m.\u001b[39mMicrophone() \u001b[38;5;28;01mas\u001b[39;00m source:\n\u001b[0;32m      8\u001b[0m     \u001b[38;5;28mprint\u001b[39m(\u001b[38;5;124m\"\u001b[39m\u001b[38;5;124m말씀하세요. : \u001b[39m\u001b[38;5;124m\"\u001b[39m)\n\u001b[1;32m----> 9\u001b[0m     audio \u001b[38;5;241m=\u001b[39m r\u001b[38;5;241m.\u001b[39mlisten(source)\n\u001b[0;32m     11\u001b[0m mySpeech \u001b[38;5;241m=\u001b[39m r\u001b[38;5;241m.\u001b[39mrecognize_google(audio, language\u001b[38;5;241m=\u001b[39m\u001b[38;5;124m'\u001b[39m\u001b[38;5;124mko\u001b[39m\u001b[38;5;124m'\u001b[39m, show_all\u001b[38;5;241m=\u001b[39m\u001b[38;5;28;01mTrue\u001b[39;00m)\n\u001b[0;32m     12\u001b[0m \u001b[38;5;28;01mtry\u001b[39;00m :\n",
      "File \u001b[1;32m~\\anaconda3\\Lib\\site-packages\\speech_recognition\\__init__.py:491\u001b[0m, in \u001b[0;36mRecognizer.listen\u001b[1;34m(self, source, timeout, phrase_time_limit, snowboy_configuration)\u001b[0m\n\u001b[0;32m    488\u001b[0m \u001b[38;5;28;01mif\u001b[39;00m timeout \u001b[38;5;129;01mand\u001b[39;00m elapsed_time \u001b[38;5;241m>\u001b[39m timeout:\n\u001b[0;32m    489\u001b[0m     \u001b[38;5;28;01mraise\u001b[39;00m WaitTimeoutError(\u001b[38;5;124m\"\u001b[39m\u001b[38;5;124mlistening timed out while waiting for phrase to start\u001b[39m\u001b[38;5;124m\"\u001b[39m)\n\u001b[1;32m--> 491\u001b[0m buffer \u001b[38;5;241m=\u001b[39m source\u001b[38;5;241m.\u001b[39mstream\u001b[38;5;241m.\u001b[39mread(source\u001b[38;5;241m.\u001b[39mCHUNK)\n\u001b[0;32m    492\u001b[0m \u001b[38;5;28;01mif\u001b[39;00m \u001b[38;5;28mlen\u001b[39m(buffer) \u001b[38;5;241m==\u001b[39m \u001b[38;5;241m0\u001b[39m: \u001b[38;5;28;01mbreak\u001b[39;00m  \u001b[38;5;66;03m# reached end of the stream\u001b[39;00m\n\u001b[0;32m    493\u001b[0m frames\u001b[38;5;241m.\u001b[39mappend(buffer)\n",
      "File \u001b[1;32m~\\anaconda3\\Lib\\site-packages\\speech_recognition\\__init__.py:199\u001b[0m, in \u001b[0;36mMicrophone.MicrophoneStream.read\u001b[1;34m(self, size)\u001b[0m\n\u001b[0;32m    198\u001b[0m \u001b[38;5;28;01mdef\u001b[39;00m \u001b[38;5;21mread\u001b[39m(\u001b[38;5;28mself\u001b[39m, size):\n\u001b[1;32m--> 199\u001b[0m     \u001b[38;5;28;01mreturn\u001b[39;00m \u001b[38;5;28mself\u001b[39m\u001b[38;5;241m.\u001b[39mpyaudio_stream\u001b[38;5;241m.\u001b[39mread(size, exception_on_overflow\u001b[38;5;241m=\u001b[39m\u001b[38;5;28;01mFalse\u001b[39;00m)\n",
      "File \u001b[1;32m~\\anaconda3\\Lib\\site-packages\\pyaudio\\__init__.py:570\u001b[0m, in \u001b[0;36mPyAudio.Stream.read\u001b[1;34m(self, num_frames, exception_on_overflow)\u001b[0m\n\u001b[0;32m    567\u001b[0m \u001b[38;5;28;01mif\u001b[39;00m \u001b[38;5;129;01mnot\u001b[39;00m \u001b[38;5;28mself\u001b[39m\u001b[38;5;241m.\u001b[39m_is_input:\n\u001b[0;32m    568\u001b[0m     \u001b[38;5;28;01mraise\u001b[39;00m \u001b[38;5;167;01mIOError\u001b[39;00m(\u001b[38;5;124m\"\u001b[39m\u001b[38;5;124mNot input stream\u001b[39m\u001b[38;5;124m\"\u001b[39m,\n\u001b[0;32m    569\u001b[0m                   paCanNotReadFromAnOutputOnlyStream)\n\u001b[1;32m--> 570\u001b[0m \u001b[38;5;28;01mreturn\u001b[39;00m pa\u001b[38;5;241m.\u001b[39mread_stream(\u001b[38;5;28mself\u001b[39m\u001b[38;5;241m.\u001b[39m_stream, num_frames,\n\u001b[0;32m    571\u001b[0m                       exception_on_overflow)\n",
      "\u001b[1;31mKeyboardInterrupt\u001b[0m: "
     ]
    }
   ],
   "source": [
    "# pip install pyaudio\n",
    "\n",
    "import speech_recognition as sr\n",
    "\n",
    "def my_stt() :\n",
    "    r = sr.Recognizer()\n",
    "    with sr.Microphone() as source:\n",
    "        print(\"말씀하세요. : \")\n",
    "        audio = r.listen(source)\n",
    "    \n",
    "    mySpeech = r.recognize_google(audio, language='ko', show_all=True)\n",
    "    try :\n",
    "        return mySpeech\n",
    "        \n",
    "    except sr.UnknownValueError:\n",
    "        print(\"Google 음성 인식이 오디오를 이해할 수 없습니다.\")\n",
    "    except sr.RequestError as e:\n",
    "        print(\"Google 음성 인식 서비스에서 결과를 요청할 수 없습니다.; {0}\".format(e))\n",
    "\n",
    "while True :\n",
    "    my_speech = my_stt()\n",
    "    if my_speech == \"종료\" :\n",
    "        break\n",
    "    else :\n",
    "        print(my_speech)"
   ]
  },
  {
   "cell_type": "markdown",
   "id": "cb3ad628",
   "metadata": {},
   "source": [
    "### 2. 음성인식해서 텍스트 파일로 저장"
   ]
  },
  {
   "cell_type": "code",
   "execution_count": 6,
   "id": "2dff9783",
   "metadata": {},
   "outputs": [
    {
     "name": "stdout",
     "output_type": "stream",
     "text": [
      "마이크로부터 음성을 입력하세요...\n",
      "음성 인식 결과: 안녕하세요 지원자 한지원입니다 저는 증인으로 증언을 하면서 최대한 저의 주관적인 생각이나 판단을 예지하고 제가 목격한 장면에 관한 증언만 할 것입니다\n",
      "텍스트 파일로 저장되었습니다. 파일 경로: recognized_text.txt\n"
     ]
    }
   ],
   "source": [
    "import speech_recognition as sr\n",
    "\n",
    "def recognize_and_save_to_text(file_path):\n",
    "    recognizer = sr.Recognizer()\n",
    "\n",
    "    with sr.Microphone() as source:\n",
    "        print(\"마이크로부터 음성을 입력하세요...\")\n",
    "        audio = recognizer.listen(source, timeout=60)  # 5초 동안 음성 입력 기다림\n",
    "\n",
    "    try:\n",
    "        text = recognizer.recognize_google(audio, language='ko-KR')\n",
    "        print(\"음성 인식 결과:\", text)\n",
    "\n",
    "        with open(file_path, 'w', encoding='utf-8') as file:\n",
    "            file.write(text)\n",
    "            print(f'텍스트 파일로 저장되었습니다. 파일 경로: {file_path}')\n",
    "\n",
    "    except sr.UnknownValueError:\n",
    "        print(\"음성을 인식할 수 없습니다.\")\n",
    "    except sr.RequestError as e:\n",
    "        print(f\"Google Web Speech API에 접근할 수 없습니다: {e}\")\n",
    "\n",
    "# 텍스트 파일로 저장할 경로\n",
    "output_file_path = 'recognized_text.txt'\n",
    "\n",
    "# 음성을 텍스트로 변환하고 저장\n",
    "recognize_and_save_to_text(output_file_path)"
   ]
  },
  {
   "cell_type": "markdown",
   "id": "5013aa8f",
   "metadata": {},
   "source": [
    "## 텍스트 파일 불러와서 토큰화 하기"
   ]
  },
  {
   "cell_type": "code",
   "execution_count": 2,
   "id": "e6e9a748",
   "metadata": {},
   "outputs": [
    {
     "name": "stdout",
     "output_type": "stream",
     "text": [
      "['안녕하십니까', '지원', '자', '한지연', '저', '는', '증인', '으로', '증언', '을', '하면서', '최대한', '저', '의', '주관', '적', '인', '생각', '이나', '판단', '을', '배제', '하고', '제', '가', '목격', '한', '장면', '에', '관', '한', '증언', '만', '할', '것', '입니다', '첫', '번', '째', '로', '만약', '동기', '동기', '가', '동기', '의', '성희롱', '고발', '이', '사실', '일', '경우', '에는', '어', '제', '가', '최근', '동기', '가', '팀', '장님', '을', '자주', '비난', '했다는', '사실', '을', '언급', '함', '으로써', '투명한', '조사', '과정', '을', '오히려', '방해', '할', '수', '있고', '어', '해당', '사건', '은', '성희롱', '사건', '인', '만큼', '당사자', '만이', '알', '고', '있는', '일이', '있었을', '수도', '있기', '때문', '에', '저', '는', '최대한', '저', '의', '주관', '을', '배제', '할', '것', '입니다', '두', '번', '째', '로', '만약', '성희롱', '고발', '이', '사실', '이', '성희롱', '이', '사실', '이', '아닐', '경우', '에는', '만약', '팀', '장님', '께서', '제', '가', '목격', '한', '장면', '에', '의하면', '정말', '손목', '터치', '만', '했을', '경우', '에는', '제', '가', '그', '사실', '만을', '언급', '한', '그', '사실', '만을', '언급', '하다', '충분히', '팀', '장님', '의', '결백', '을', '입증', '하는데', '도움', '이', '될', '수', '있고', '또', '조사', '과정', '속', '에서', '동기', '가', '최근', '에', '인사', '국가', '를', '나쁘게', '받았다는', '점', '을', '감', '사실', '에서', '충분히', '파악', '할', '수', '있을', '것', '이라고', '생각', '하기', '때문', '에', '제', '가', '주관', '을', '최대한', '배제', '하고', '제', '가', '해당', '장면', '에서', '목격', '한', '바늘', '증언', '할', '것', '입니다', '성희롱', '엔진', '을', '본인', '이', '판단', '을', '하고', '성희롱', '교육', '경우', '에는', '동기', '입장', '에', '대해', '서는', '얘기', '한다', '팀', '장님', '이런', '느낌', '으로', '드렸거든요', '아니', '내', '가', '성희롱', '의', '경우', '와', '성희롱', '이', '아닐', '경우', '모두', '제', '주관', '을', '배제', '하고', '말', '하는', '것', '이', '조사', '과정', '에', '있어서', '도움', '이', '될', '것', '이라는', '일과', '그것', '은', '제', '가', '판단', '할', '바', '가', '아니지만', '두', '가지', '가능성', '이', '충분히', '존재', '하기', '때문', '에', '두', '가지', '가능성', '이', '존재', '하는', '상황', '에서', '제', '가', '최대한', '그', '조', '사', '과정', '을', '방해', '하지', '않는', '방향', '에서', '발언', '을', '해야', '한다고', '말', '이야', '근데', '지금', '성희롱', '이라고', '한다면', '성희롱', '이', '이제', '아니더라도', '나름', '대로', '주관', '적', '이고', '성희롱', '일거다', '아닐', '거', '라는', '판단', '이라는', '생각', '을', '할', '수', '있거든요', '제', '스스로', '는', '이', '것', '이', '성희롱', '일지', '성희롱', '이', '아닐지', '대한', '판단', '을', '내', '부적', '으로', '할', '수', '있다고', '생각', '합니다', '그러나', '증언', '자체', '에서는', '그러한', '저', '의', '주관', '이', '배제', '되어야', '한다고', '생각', '합니다', '저', '는', '제', '가', '듣기', '에는', '성희롱', '이럴', '경우', '성희롱', '이', '아닐', '경우', '본인', '이', '먼저', '판단', '을', '하고', '그랬을', '경우', '어떻게', '하겠다', '이런', '느낌', '으로', '좀', '들었거든요', '알겠습니다', '그럼', '성희롱', '의', '판단', '기준', '이', '뭐라고', '생각', '하시나요', '성희롱', '의', '판단', '기준', '은', '피해자', '가', '성적', '으로', '모멸', '감', '을', '느끼는', '행동', '이나', '발언', '인', '데이', '성적', '인', '모멸', '감', '이', '상당히', '주관', '적', '일', '수', '있고', '또', '입증', '이', '어려운', '부분', '이기', '때문', '에', '그렇기', '때문', '에', '성희롱', '이', '문제', '가', '입증', '하기', '어려운', '사건', '이라고', '생각', '합니다', '두', '가지', '수고', '하셨습니다']\n"
     ]
    }
   ],
   "source": [
    "from konlpy.tag import Okt\n",
    "\n",
    "# 텍스트 파일 불러오기\n",
    "file_path = 'pass1_transcription.txt'  # 파일 경로를 실제 파일의 경로로 바꿔주세요.\n",
    "\n",
    "with open(file_path, 'r', encoding='utf-8') as file:\n",
    "    text = file.read()\n",
    "\n",
    "okt = Okt()\n",
    "tokens = okt.morphs(text)\n",
    "\n",
    "# 토큰 출력\n",
    "print(tokens)"
   ]
  },
  {
   "cell_type": "code",
   "execution_count": 4,
   "id": "9f1795cf",
   "metadata": {},
   "outputs": [],
   "source": [
    "from konlpy.tag import *\n",
    "\n",
    "hannanum = Hannanum()\n",
    "kkma = Kkma()\n",
    "komoran = Komoran()\n",
    "okt = Okt()"
   ]
  },
  {
   "cell_type": "code",
   "execution_count": 5,
   "id": "aed13c30",
   "metadata": {},
   "outputs": [
    {
     "data": {
      "text/plain": [
       "['안녕',\n",
       " '지원자',\n",
       " '한지연',\n",
       " '저',\n",
       " '증인',\n",
       " '증언',\n",
       " '저',\n",
       " '주관적',\n",
       " '생각',\n",
       " '판단',\n",
       " '배제',\n",
       " '저',\n",
       " '목격',\n",
       " '장면',\n",
       " '증언',\n",
       " '것',\n",
       " '첫',\n",
       " '번',\n",
       " '동기',\n",
       " '동기',\n",
       " '동기',\n",
       " '성희롱',\n",
       " '고발',\n",
       " '사실',\n",
       " '경우',\n",
       " '어',\n",
       " '저',\n",
       " '동기',\n",
       " '팀장님',\n",
       " '비난',\n",
       " '사실',\n",
       " '언급',\n",
       " '투명',\n",
       " '조사',\n",
       " '과정',\n",
       " '방해',\n",
       " '수',\n",
       " '어',\n",
       " '해당',\n",
       " '사건',\n",
       " '성희롱',\n",
       " '사건',\n",
       " '만큼',\n",
       " '당사자만',\n",
       " '일',\n",
       " '수',\n",
       " '때문',\n",
       " '저',\n",
       " '저',\n",
       " '주관',\n",
       " '배제',\n",
       " '것',\n",
       " '두',\n",
       " '번',\n",
       " '성희롱',\n",
       " '고발',\n",
       " '사실',\n",
       " '성희롱',\n",
       " '사실',\n",
       " '경우',\n",
       " '팀장님',\n",
       " '저',\n",
       " '목격',\n",
       " '장면',\n",
       " '손목',\n",
       " '터치',\n",
       " '경우',\n",
       " '저',\n",
       " '사실만',\n",
       " '언급',\n",
       " '사실만',\n",
       " '언급',\n",
       " '팀장님',\n",
       " '결백',\n",
       " '입증',\n",
       " '도움',\n",
       " '수',\n",
       " '조사',\n",
       " '과정',\n",
       " '속',\n",
       " '동기',\n",
       " '최근',\n",
       " '인사',\n",
       " '국가',\n",
       " '점',\n",
       " '감사실',\n",
       " '파악',\n",
       " '수',\n",
       " '것',\n",
       " '생각',\n",
       " '때문',\n",
       " '저',\n",
       " '주관',\n",
       " '배제',\n",
       " '저',\n",
       " '해당',\n",
       " '장면',\n",
       " '목격',\n",
       " '바늘',\n",
       " '증언',\n",
       " '것',\n",
       " '성희롱',\n",
       " '엔진',\n",
       " '본인',\n",
       " '판단',\n",
       " '성희롱교육',\n",
       " '경우',\n",
       " '동기',\n",
       " '입장',\n",
       " '얘기',\n",
       " '팀장님',\n",
       " '나',\n",
       " '성희롱',\n",
       " '경우',\n",
       " '성희롱',\n",
       " '경우',\n",
       " '저',\n",
       " '주관',\n",
       " '배제',\n",
       " '말',\n",
       " '것',\n",
       " '조사',\n",
       " '과정',\n",
       " '도움',\n",
       " '것',\n",
       " '일',\n",
       " '그것',\n",
       " '저',\n",
       " '판단',\n",
       " '바',\n",
       " '두',\n",
       " '가지',\n",
       " '가능성',\n",
       " '존재하기',\n",
       " '때문',\n",
       " '두',\n",
       " '가지',\n",
       " '가능성',\n",
       " '존재',\n",
       " '상황',\n",
       " '저',\n",
       " '조사과정',\n",
       " '방해',\n",
       " '방향',\n",
       " '발언',\n",
       " '말',\n",
       " '근데',\n",
       " '성희롱',\n",
       " '성희롱',\n",
       " '나름',\n",
       " '주관적',\n",
       " '성희롱',\n",
       " '일거',\n",
       " '것',\n",
       " '판단',\n",
       " '생각',\n",
       " '수',\n",
       " '저',\n",
       " '이것',\n",
       " '성희롱',\n",
       " '성희롱',\n",
       " '판단',\n",
       " '내부적',\n",
       " '수',\n",
       " '생각',\n",
       " '증언',\n",
       " '자체',\n",
       " '저',\n",
       " '주관',\n",
       " '배제',\n",
       " '생각',\n",
       " '저',\n",
       " '저',\n",
       " '성희롱',\n",
       " '이럴',\n",
       " '경우',\n",
       " '성희롱',\n",
       " '경우',\n",
       " '본인',\n",
       " '판단',\n",
       " '경우',\n",
       " '성희롱',\n",
       " '판단',\n",
       " '기준',\n",
       " '뭐',\n",
       " '생각하시',\n",
       " '성희롱',\n",
       " '판단',\n",
       " '기준',\n",
       " '피해자',\n",
       " '성적',\n",
       " '모멸감',\n",
       " '행동',\n",
       " '발언',\n",
       " '데',\n",
       " '성적',\n",
       " '모멸감',\n",
       " '주관적',\n",
       " '수',\n",
       " '입증',\n",
       " '부분',\n",
       " '때문',\n",
       " '때문',\n",
       " '성희롱',\n",
       " '문제',\n",
       " '입증',\n",
       " '사건',\n",
       " '생각',\n",
       " '두',\n",
       " '가지',\n",
       " '수고']"
      ]
     },
     "execution_count": 5,
     "metadata": {},
     "output_type": "execute_result"
    }
   ],
   "source": [
    "hannanum.nouns(text)"
   ]
  },
  {
   "cell_type": "code",
   "execution_count": 6,
   "id": "efe6f986",
   "metadata": {
    "scrolled": true
   },
   "outputs": [
    {
     "data": {
      "text/plain": [
       "['안녕',\n",
       " '지원자',\n",
       " '지연',\n",
       " '증인',\n",
       " '증언',\n",
       " '하면서',\n",
       " '최대',\n",
       " '저의',\n",
       " '주관적',\n",
       " '생각',\n",
       " '판단',\n",
       " '배제',\n",
       " '저',\n",
       " '목격',\n",
       " '장면',\n",
       " '번째',\n",
       " '만약',\n",
       " '동기',\n",
       " '성희롱',\n",
       " '고발',\n",
       " '사실',\n",
       " '경우',\n",
       " '최근',\n",
       " '팀장',\n",
       " '비난',\n",
       " '언급',\n",
       " '투명',\n",
       " '조사',\n",
       " '과정',\n",
       " '방해',\n",
       " '수',\n",
       " '해당',\n",
       " '사건',\n",
       " '만큼',\n",
       " '당사',\n",
       " '당사자만',\n",
       " '자만',\n",
       " '일',\n",
       " '때문',\n",
       " '주관',\n",
       " '손목',\n",
       " '터치',\n",
       " '결백',\n",
       " '입증',\n",
       " '도움',\n",
       " '속',\n",
       " '인사',\n",
       " '국가',\n",
       " '점',\n",
       " '감',\n",
       " '감사실',\n",
       " '파악',\n",
       " '제가',\n",
       " '최대한',\n",
       " '바늘',\n",
       " '엔진',\n",
       " '본인',\n",
       " '성희롱교육',\n",
       " '교육',\n",
       " '입장',\n",
       " '얘기',\n",
       " '느낌',\n",
       " '내가',\n",
       " '일과',\n",
       " '그것',\n",
       " '바',\n",
       " '가지',\n",
       " '가능성',\n",
       " '존재',\n",
       " '상황',\n",
       " '조사과정',\n",
       " '방향',\n",
       " '발언',\n",
       " '말',\n",
       " '지금',\n",
       " '나름',\n",
       " '일거',\n",
       " '거',\n",
       " '스스로',\n",
       " '이것',\n",
       " '일지',\n",
       " '대',\n",
       " '내부적',\n",
       " '자체',\n",
       " '기준',\n",
       " '뭐',\n",
       " '자가',\n",
       " '성적',\n",
       " '모멸감',\n",
       " '행동',\n",
       " '이',\n",
       " '부분',\n",
       " '문제',\n",
       " '수고']"
      ]
     },
     "execution_count": 6,
     "metadata": {},
     "output_type": "execute_result"
    }
   ],
   "source": [
    "kkma.nouns(text)"
   ]
  },
  {
   "cell_type": "code",
   "execution_count": 7,
   "id": "e1b8c543",
   "metadata": {},
   "outputs": [
    {
     "data": {
      "text/plain": [
       "['안녕하십니까',\n",
       " '지원',\n",
       " '한지연',\n",
       " '저',\n",
       " '증인',\n",
       " '증언',\n",
       " '최대한',\n",
       " '저',\n",
       " '주관',\n",
       " '생각',\n",
       " '판단',\n",
       " '배제',\n",
       " '제',\n",
       " '목격',\n",
       " '장면',\n",
       " '관',\n",
       " '증언',\n",
       " '것',\n",
       " '첫',\n",
       " '번',\n",
       " '만약',\n",
       " '동기',\n",
       " '동기',\n",
       " '동기',\n",
       " '성희롱',\n",
       " '고발',\n",
       " '사실',\n",
       " '일',\n",
       " '경우',\n",
       " '제',\n",
       " '최근',\n",
       " '동기',\n",
       " '팀',\n",
       " '장님',\n",
       " '자주',\n",
       " '비난',\n",
       " '사실',\n",
       " '언급',\n",
       " '함',\n",
       " '조사',\n",
       " '과정',\n",
       " '오히려',\n",
       " '방해',\n",
       " '수',\n",
       " '해당',\n",
       " '사건',\n",
       " '성희롱',\n",
       " '사건',\n",
       " '당사자',\n",
       " '알',\n",
       " '수도',\n",
       " '때문',\n",
       " '저',\n",
       " '최대한',\n",
       " '저',\n",
       " '주관',\n",
       " '배제',\n",
       " '것',\n",
       " '두',\n",
       " '번',\n",
       " '만약',\n",
       " '성희롱',\n",
       " '고발',\n",
       " '사실',\n",
       " '성희롱',\n",
       " '사실',\n",
       " '경우',\n",
       " '만약',\n",
       " '팀',\n",
       " '장님',\n",
       " '제',\n",
       " '목격',\n",
       " '장면',\n",
       " '정말',\n",
       " '손목',\n",
       " '터치',\n",
       " '경우',\n",
       " '제',\n",
       " '그',\n",
       " '사실',\n",
       " '언급',\n",
       " '그',\n",
       " '사실',\n",
       " '언급',\n",
       " '팀',\n",
       " '장님',\n",
       " '결백',\n",
       " '입증',\n",
       " '도움',\n",
       " '수',\n",
       " '또',\n",
       " '조사',\n",
       " '과정',\n",
       " '속',\n",
       " '동기',\n",
       " '최근',\n",
       " '인사',\n",
       " '국가',\n",
       " '점',\n",
       " '감',\n",
       " '사실',\n",
       " '파악',\n",
       " '수',\n",
       " '것',\n",
       " '생각',\n",
       " '때문',\n",
       " '제',\n",
       " '주관',\n",
       " '최대한',\n",
       " '배제',\n",
       " '제',\n",
       " '해당',\n",
       " '장면',\n",
       " '목격',\n",
       " '바늘',\n",
       " '증언',\n",
       " '것',\n",
       " '성희롱',\n",
       " '엔진',\n",
       " '본인',\n",
       " '판단',\n",
       " '성희롱',\n",
       " '교육',\n",
       " '경우',\n",
       " '동기',\n",
       " '입장',\n",
       " '대해',\n",
       " '얘기',\n",
       " '팀',\n",
       " '장님',\n",
       " '느낌',\n",
       " '내',\n",
       " '성희롱',\n",
       " '경우',\n",
       " '성희롱',\n",
       " '경우',\n",
       " '모두',\n",
       " '제',\n",
       " '주관',\n",
       " '배제',\n",
       " '말',\n",
       " '것',\n",
       " '조사',\n",
       " '과정',\n",
       " '도움',\n",
       " '것',\n",
       " '일과',\n",
       " '그것',\n",
       " '제',\n",
       " '판단',\n",
       " '바',\n",
       " '두',\n",
       " '가지',\n",
       " '가능성',\n",
       " '존재',\n",
       " '때문',\n",
       " '두',\n",
       " '가지',\n",
       " '가능성',\n",
       " '존재',\n",
       " '상황',\n",
       " '제',\n",
       " '최대한',\n",
       " '그',\n",
       " '과정',\n",
       " '방해',\n",
       " '방향',\n",
       " '발언',\n",
       " '말',\n",
       " '지금',\n",
       " '성희롱',\n",
       " '성희롱',\n",
       " '이제',\n",
       " '나름',\n",
       " '주관',\n",
       " '성희롱',\n",
       " '거',\n",
       " '판단',\n",
       " '생각',\n",
       " '수',\n",
       " '제',\n",
       " '스스로',\n",
       " '것',\n",
       " '성희롱',\n",
       " '일지',\n",
       " '성희롱',\n",
       " '대한',\n",
       " '판단',\n",
       " '부적',\n",
       " '수',\n",
       " '생각',\n",
       " '증언',\n",
       " '자체',\n",
       " '저',\n",
       " '주관',\n",
       " '배제',\n",
       " '생각',\n",
       " '저',\n",
       " '제',\n",
       " '듣기',\n",
       " '성희롱',\n",
       " '경우',\n",
       " '성희롱',\n",
       " '경우',\n",
       " '본인',\n",
       " '먼저',\n",
       " '판단',\n",
       " '경우',\n",
       " '느낌',\n",
       " '좀',\n",
       " '성희롱',\n",
       " '판단',\n",
       " '기준',\n",
       " '생각',\n",
       " '성희롱',\n",
       " '판단',\n",
       " '기준',\n",
       " '피해자',\n",
       " '성적',\n",
       " '모멸',\n",
       " '감',\n",
       " '행동',\n",
       " '발언',\n",
       " '데이',\n",
       " '성적',\n",
       " '모멸',\n",
       " '감',\n",
       " '주관',\n",
       " '일',\n",
       " '수',\n",
       " '또',\n",
       " '입증',\n",
       " '부분',\n",
       " '이기',\n",
       " '때문',\n",
       " '때문',\n",
       " '성희롱',\n",
       " '문제',\n",
       " '입증',\n",
       " '사건',\n",
       " '생각',\n",
       " '두',\n",
       " '가지',\n",
       " '수고']"
      ]
     },
     "execution_count": 7,
     "metadata": {},
     "output_type": "execute_result"
    }
   ],
   "source": [
    "okt.nouns(text)"
   ]
  },
  {
   "cell_type": "markdown",
   "id": "81b7a29e",
   "metadata": {},
   "source": [
    "## PyKoSpacing\n",
    "### 띄어쓰기"
   ]
  },
  {
   "cell_type": "code",
   "execution_count": 4,
   "id": "abe22692",
   "metadata": {},
   "outputs": [
    {
     "name": "stdout",
     "output_type": "stream",
     "text": [
      "Note: you may need to restart the kernel to use updated packages.\n"
     ]
    },
    {
     "name": "stderr",
     "output_type": "stream",
     "text": [
      "ERROR: Could not find a version that satisfies the requirement pykospacing (from versions: none)\n",
      "ERROR: No matching distribution found for pykospacing\n"
     ]
    }
   ],
   "source": [
    "pip install pykospacing"
   ]
  },
  {
   "cell_type": "code",
   "execution_count": 1,
   "id": "a11f2fe4",
   "metadata": {},
   "outputs": [],
   "source": [
    "sent = '김철수는 극중 두 인격의 사나이 이광수 역을 맡았다. 철수는 한국 유일의 태권도 전승자를 가리는 결전의 날을 앞두고 10년간 함께 훈련한 사형인 유연재(김광수 분)를 찾으러 속세로 내려온 인물이다.'"
   ]
  },
  {
   "cell_type": "code",
   "execution_count": 2,
   "id": "674d5462",
   "metadata": {},
   "outputs": [
    {
     "name": "stdout",
     "output_type": "stream",
     "text": [
      "김철수는극중두인격의사나이이광수역을맡았다.철수는한국유일의태권도전승자를가리는결전의날을앞두고10년간함께훈련한사형인유연재(김광수분)를찾으러속세로내려온인물이다.\n"
     ]
    }
   ],
   "source": [
    "new_sent = sent.replace(\" \", '') # 띄어쓰기가 없는 문장 임의로 만들기\n",
    "print(new_sent)"
   ]
  },
  {
   "cell_type": "markdown",
   "id": "6d876325",
   "metadata": {},
   "source": [
    "## Py-Hanspell\n",
    "### 네이버 한글 맞춤법 검사기"
   ]
  },
  {
   "cell_type": "code",
   "execution_count": 4,
   "id": "28c135e0",
   "metadata": {},
   "outputs": [
    {
     "name": "stdout",
     "output_type": "stream",
     "text": [
      "Collecting git+https://github.com/ssut/py-hanspell.git\n",
      "  Cloning https://github.com/ssut/py-hanspell.git to c:\\users\\msm\\appdata\\local\\temp\\pip-req-build-ns2llmyx\n",
      "  Resolved https://github.com/ssut/py-hanspell.git to commit fdc6ca50c19f1c85971437a072d89d4e5ce024b8\n",
      "  Preparing metadata (setup.py): started\n",
      "  Preparing metadata (setup.py): finished with status 'done'\n",
      "Requirement already satisfied: requests in c:\\users\\msm\\anaconda3\\lib\\site-packages (from py-hanspell==1.1) (2.31.0)\n",
      "Requirement already satisfied: charset-normalizer<4,>=2 in c:\\users\\msm\\anaconda3\\lib\\site-packages (from requests->py-hanspell==1.1) (2.0.4)\n",
      "Requirement already satisfied: idna<4,>=2.5 in c:\\users\\msm\\anaconda3\\lib\\site-packages (from requests->py-hanspell==1.1) (3.4)\n",
      "Requirement already satisfied: urllib3<3,>=1.21.1 in c:\\users\\msm\\anaconda3\\lib\\site-packages (from requests->py-hanspell==1.1) (1.26.18)\n",
      "Requirement already satisfied: certifi>=2017.4.17 in c:\\users\\msm\\anaconda3\\lib\\site-packages (from requests->py-hanspell==1.1) (2023.7.22)\n",
      "Building wheels for collected packages: py-hanspell\n",
      "  Building wheel for py-hanspell (setup.py): started\n",
      "  Building wheel for py-hanspell (setup.py): finished with status 'done'\n",
      "  Created wheel for py-hanspell: filename=py_hanspell-1.1-py3-none-any.whl size=4860 sha256=b9b4761fc42847e1dc0efdfd34f1e13bb052850076d95ac75350012817071d4b\n",
      "  Stored in directory: C:\\Users\\MSM\\AppData\\Local\\Temp\\pip-ephem-wheel-cache-unyfm9x0\\wheels\\18\\0f\\39\\d0e3972de3368ba3ab62817cd7b17a74123414afd774ce604b\n",
      "Successfully built py-hanspell\n",
      "Installing collected packages: py-hanspell\n",
      "Successfully installed py-hanspell-1.1\n",
      "Note: you may need to restart the kernel to use updated packages.\n"
     ]
    },
    {
     "name": "stderr",
     "output_type": "stream",
     "text": [
      "  Running command git clone --filter=blob:none --quiet https://github.com/ssut/py-hanspell.git 'C:\\Users\\MSM\\AppData\\Local\\Temp\\pip-req-build-ns2llmyx'\n"
     ]
    }
   ],
   "source": [
    "pip install git+https://github.com/ssut/py-hanspell.git"
   ]
  },
  {
   "cell_type": "code",
   "execution_count": 1,
   "id": "2f9a9c17",
   "metadata": {},
   "outputs": [
    {
     "ename": "KeyError",
     "evalue": "'html'",
     "output_type": "error",
     "traceback": [
      "\u001b[1;31m---------------------------------------------------------------------------\u001b[0m",
      "\u001b[1;31mKeyError\u001b[0m                                  Traceback (most recent call last)",
      "Cell \u001b[1;32mIn[1], line 4\u001b[0m\n\u001b[0;32m      1\u001b[0m \u001b[38;5;28;01mfrom\u001b[39;00m \u001b[38;5;21;01mhanspell\u001b[39;00m \u001b[38;5;28;01mimport\u001b[39;00m spell_checker\n\u001b[0;32m      3\u001b[0m sent \u001b[38;5;241m=\u001b[39m \u001b[38;5;124m\"\u001b[39m\u001b[38;5;124m맞춤법 틀리면 외 않되? 쓰고싶은대로쓰면돼지 \u001b[39m\u001b[38;5;124m\"\u001b[39m\n\u001b[1;32m----> 4\u001b[0m spelled_sent \u001b[38;5;241m=\u001b[39m spell_checker\u001b[38;5;241m.\u001b[39mcheck(sent)\n\u001b[0;32m      6\u001b[0m hanspell_sent \u001b[38;5;241m=\u001b[39m spelled_sent\u001b[38;5;241m.\u001b[39mchecked\n\u001b[0;32m      7\u001b[0m \u001b[38;5;28mprint\u001b[39m(hanspell_sent)\n",
      "File \u001b[1;32m~\\anaconda3\\Lib\\site-packages\\hanspell\\spell_checker.py:62\u001b[0m, in \u001b[0;36mcheck\u001b[1;34m(text)\u001b[0m\n\u001b[0;32m     59\u001b[0m passed_time \u001b[38;5;241m=\u001b[39m time\u001b[38;5;241m.\u001b[39mtime() \u001b[38;5;241m-\u001b[39m start_time\n\u001b[0;32m     61\u001b[0m data \u001b[38;5;241m=\u001b[39m json\u001b[38;5;241m.\u001b[39mloads(r\u001b[38;5;241m.\u001b[39mtext)\n\u001b[1;32m---> 62\u001b[0m html \u001b[38;5;241m=\u001b[39m data[\u001b[38;5;124m'\u001b[39m\u001b[38;5;124mhtml\u001b[39m\u001b[38;5;124m'\u001b[39m]\n\u001b[0;32m     64\u001b[0m result \u001b[38;5;241m=\u001b[39m {\n\u001b[0;32m     65\u001b[0m     \u001b[38;5;124m'\u001b[39m\u001b[38;5;124mresult\u001b[39m\u001b[38;5;124m'\u001b[39m: \u001b[38;5;28;01mTrue\u001b[39;00m,\n\u001b[0;32m     66\u001b[0m     \u001b[38;5;124m'\u001b[39m\u001b[38;5;124moriginal\u001b[39m\u001b[38;5;124m'\u001b[39m: text,\n\u001b[1;32m   (...)\u001b[0m\n\u001b[0;32m     70\u001b[0m     \u001b[38;5;124m'\u001b[39m\u001b[38;5;124mwords\u001b[39m\u001b[38;5;124m'\u001b[39m: OrderedDict(),\n\u001b[0;32m     71\u001b[0m }\n\u001b[0;32m     73\u001b[0m \u001b[38;5;66;03m# 띄어쓰기로 구분하기 위해 태그는 일단 보기 쉽게 바꿔둠.\u001b[39;00m\n\u001b[0;32m     74\u001b[0m \u001b[38;5;66;03m# ElementTree의 iter()를 써서 더 좋게 할 수 있는 방법이 있지만\u001b[39;00m\n\u001b[0;32m     75\u001b[0m \u001b[38;5;66;03m# 이 짧은 코드에 굳이 그렇게 할 필요성이 없으므로 일단 문자열을 치환하는 방법으로 작성.\u001b[39;00m\n",
      "\u001b[1;31mKeyError\u001b[0m: 'html'"
     ]
    }
   ],
   "source": [
    "from hanspell import spell_checker\n",
    "\n",
    "sent = \"맞춤법 틀리면 외 않되? 쓰고싶은대로쓰면돼지 \"\n",
    "spelled_sent = spell_checker.check(sent)\n",
    "\n",
    "hanspell_sent = spelled_sent.checked\n",
    "print(hanspell_sent)"
   ]
  },
  {
   "cell_type": "markdown",
   "id": "dbb9ce1d",
   "metadata": {},
   "source": [
    "## Soynlp"
   ]
  },
  {
   "cell_type": "code",
   "execution_count": 8,
   "id": "0f25bed0",
   "metadata": {},
   "outputs": [
    {
     "name": "stdout",
     "output_type": "stream",
     "text": [
      "Collecting soynlp\n",
      "  Downloading soynlp-0.0.493-py3-none-any.whl (416 kB)\n",
      "     ---------------------------------------- 0.0/416.8 kB ? eta -:--:--\n",
      "      --------------------------------------- 10.2/416.8 kB ? eta -:--:--\n",
      "     ----- ------------------------------- 61.4/416.8 kB 656.4 kB/s eta 0:00:01\n",
      "     ----------------- -------------------- 194.6/416.8 kB 1.5 MB/s eta 0:00:01\n",
      "     -------------------------------------  409.6/416.8 kB 2.6 MB/s eta 0:00:01\n",
      "     -------------------------------------- 416.8/416.8 kB 2.4 MB/s eta 0:00:00\n",
      "Requirement already satisfied: numpy>=1.12.1 in c:\\users\\msm\\anaconda3\\lib\\site-packages (from soynlp) (1.25.2)\n",
      "Requirement already satisfied: psutil>=5.0.1 in c:\\users\\msm\\anaconda3\\lib\\site-packages (from soynlp) (5.9.0)\n",
      "Requirement already satisfied: scipy>=1.1.0 in c:\\users\\msm\\anaconda3\\lib\\site-packages (from soynlp) (1.11.3)\n",
      "Requirement already satisfied: scikit-learn>=0.20.0 in c:\\users\\msm\\anaconda3\\lib\\site-packages (from soynlp) (1.2.2)\n",
      "Requirement already satisfied: joblib>=1.1.1 in c:\\users\\msm\\anaconda3\\lib\\site-packages (from scikit-learn>=0.20.0->soynlp) (1.1.1)\n",
      "Requirement already satisfied: threadpoolctl>=2.0.0 in c:\\users\\msm\\anaconda3\\lib\\site-packages (from scikit-learn>=0.20.0->soynlp) (2.2.0)\n",
      "Installing collected packages: soynlp\n",
      "Successfully installed soynlp-0.0.493\n",
      "Note: you may need to restart the kernel to use updated packages.\n"
     ]
    }
   ],
   "source": [
    "pip install soynlp"
   ]
  },
  {
   "cell_type": "code",
   "execution_count": 12,
   "id": "fc90ef44",
   "metadata": {},
   "outputs": [],
   "source": [
    "import urllib.request\n",
    "from soynlp import DoublespaceLineCorpus\n",
    "from soynlp.word import WordExtractor"
   ]
  },
  {
   "cell_type": "code",
   "execution_count": 13,
   "id": "e2414796",
   "metadata": {},
   "outputs": [
    {
     "data": {
      "text/plain": [
       "('2016-10-20.txt', <http.client.HTTPMessage at 0x2a39d82c7d0>)"
      ]
     },
     "execution_count": 13,
     "metadata": {},
     "output_type": "execute_result"
    }
   ],
   "source": [
    "urllib.request.urlretrieve(\"https://raw.githubusercontent.com/lovit/soynlp/master/tutorials/2016-10-20.txt\", filename=\"2016-10-20.txt\")"
   ]
  },
  {
   "cell_type": "code",
   "execution_count": 14,
   "id": "b877772d",
   "metadata": {},
   "outputs": [
    {
     "data": {
      "text/plain": [
       "30091"
      ]
     },
     "execution_count": 14,
     "metadata": {},
     "output_type": "execute_result"
    }
   ],
   "source": [
    "# 훈련 데이터를 다수의 문서로 분리\n",
    "corpus = DoublespaceLineCorpus(\"2016-10-20.txt\")\n",
    "len(corpus)"
   ]
  },
  {
   "cell_type": "code",
   "execution_count": 15,
   "id": "a34a5267",
   "metadata": {},
   "outputs": [
    {
     "name": "stdout",
     "output_type": "stream",
     "text": [
      "19  1990  52 1 22\n",
      "오패산터널 총격전 용의자 검거 서울 연합뉴스 경찰 관계자들이 19일 오후 서울 강북구 오패산 터널 인근에서 사제 총기를 발사해 경찰을 살해한 용의자 성모씨를 검거하고 있다 성씨는 검거 당시 서바이벌 게임에서 쓰는 방탄조끼에 헬멧까지 착용한 상태였다 독자제공 영상 캡처 연합뉴스  서울 연합뉴스 김은경 기자 사제 총기로 경찰을 살해한 범인 성모 46 씨는 주도면밀했다  경찰에 따르면 성씨는 19일 오후 강북경찰서 인근 부동산 업소 밖에서 부동산업자 이모 67 씨가 나오기를 기다렸다 이씨와는 평소에도 말다툼을 자주 한 것으로 알려졌다  이씨가 나와 걷기 시작하자 성씨는 따라가면서 미리 준비해온 사제 총기를 이씨에게 발사했다 총알이 빗나가면서 이씨는 도망갔다 그 빗나간 총알은 지나가던 행인 71 씨의 배를 스쳤다  성씨는 강북서 인근 치킨집까지 이씨 뒤를 쫓으며 실랑이하다 쓰러뜨린 후 총기와 함께 가져온 망치로 이씨 머리를 때렸다  이 과정에서 오후 6시 20분께 강북구 번동 길 위에서 사람들이 싸우고 있다 총소리가 났다 는 등의 신고가 여러건 들어왔다  5분 후에 성씨의 전자발찌가 훼손됐다는 신고가 보호관찰소 시스템을 통해 들어왔다 성범죄자로 전자발찌를 차고 있던 성씨는 부엌칼로 직접 자신의 발찌를 끊었다  용의자 소지 사제총기 2정 서울 연합뉴스 임헌정 기자 서울 시내에서 폭행 용의자가 현장 조사를 벌이던 경찰관에게 사제총기를 발사해 경찰관이 숨졌다 19일 오후 6시28분 강북구 번동에서 둔기로 맞았다 는 폭행 피해 신고가 접수돼 현장에서 조사하던 강북경찰서 번동파출소 소속 김모 54 경위가 폭행 용의자 성모 45 씨가 쏜 사제총기에 맞고 쓰러진 뒤 병원에 옮겨졌으나 숨졌다 사진은 용의자가 소지한 사제총기  신고를 받고 번동파출소에서 김창호 54 경위 등 경찰들이 오후 6시 29분께 현장으로 출동했다 성씨는 그사이 부동산 앞에 놓아뒀던 가방을 챙겨 오패산 쪽으로 도망간 후였다  김 경위는 오패산 터널 입구 오른쪽의 급경사에서 성씨에게 접근하다가 오후 6시 33분께 풀숲에 숨은 성씨가 허공에 난사한 10여발의 총알 중 일부를 왼쪽 어깨 뒷부분에 맞고 쓰러졌다  김 경위는 구급차가 도착했을 때 이미 의식이 없었고 심폐소생술을 하며 병원으로 옮겨졌으나 총알이 폐를 훼손해 오후 7시 40분께 사망했다  김 경위는 외근용 조끼를 입고 있었으나 총알을 막기에는 역부족이었다  머리에 부상을 입은 이씨도 함께 병원으로 이송됐으나 생명에는 지장이 없는 것으로 알려졌다  성씨는 오패산 터널 밑쪽 숲에서 오후 6시 45분께 잡혔다  총격현장 수색하는 경찰들 서울 연합뉴스 이효석 기자 19일 오후 서울 강북구 오패산 터널 인근에서 경찰들이 폭행 용의자가 사제총기를 발사해 경찰관이 사망한 사건을 조사 하고 있다  총 때문에 쫓던 경관들과 민간인들이 몸을 숨겼는데 인근 신발가게 직원 이모씨가 다가가 성씨를 덮쳤고 이어 현장에 있던 다른 상인들과 경찰이 가세해 체포했다  성씨는 경찰에 붙잡힌 직후 나 자살하려고 한 거다 맞아 죽어도 괜찮다 고 말한 것으로 전해졌다  성씨 자신도 경찰이 발사한 공포탄 1발 실탄 3발 중 실탄 1발을 배에 맞았으나 방탄조끼를 입은 상태여서 부상하지는 않았다  경찰은 인근을 수색해 성씨가 만든 사제총 16정과 칼 7개를 압수했다 실제 폭발할지는 알 수 없는 요구르트병에 무언가를 채워두고 심지를 꽂은 사제 폭탄도 발견됐다  일부는 숲에서 발견됐고 일부는 성씨가 소지한 가방 안에 있었다\n",
      "테헤란 연합뉴스 강훈상 특파원 이용 승객수 기준 세계 최대 공항인 아랍에미리트 두바이국제공항은 19일 현지시간 이 공항을 이륙하는 모든 항공기의 탑승객은 삼성전자의 갤럭시노트7을 휴대하면 안 된다고 밝혔다  두바이국제공항은 여러 항공 관련 기구의 권고에 따라 안전성에 우려가 있는 스마트폰 갤럭시노트7을 휴대하고 비행기를 타면 안 된다 며 탑승 전 검색 중 발견되면 압수할 계획 이라고 발표했다  공항 측은 갤럭시노트7의 배터리가 폭발 우려가 제기된 만큼 이 제품을 갖고 공항 안으로 들어오지 말라고 이용객에 당부했다  이런 조치는 두바이국제공항 뿐 아니라 신공항인 두바이월드센터에도 적용된다  배터리 폭발문제로 회수된 갤럭시노트7 연합뉴스자료사진\n"
     ]
    }
   ],
   "source": [
    "i = 0\n",
    "for document in corpus:\n",
    "  if len(document) > 0:\n",
    "    print(document)\n",
    "    i = i+1\n",
    "  if i == 3:\n",
    "    break\n"
   ]
  },
  {
   "cell_type": "code",
   "execution_count": 16,
   "id": "978dde04",
   "metadata": {},
   "outputs": [
    {
     "name": "stdout",
     "output_type": "stream",
     "text": [
      "training was done. used memory 1.828 Gb\n",
      "all cohesion probabilities was computed. # words = 223348\n",
      "all branching entropies was computed # words = 361598\n",
      "all accessor variety was computed # words = 361598\n"
     ]
    }
   ],
   "source": [
    "word_extractor = WordExtractor()\n",
    "word_extractor.train(corpus)\n",
    "word_score_table = word_extractor.extract()"
   ]
  },
  {
   "cell_type": "code",
   "execution_count": 18,
   "id": "54935e4b",
   "metadata": {},
   "outputs": [
    {
     "data": {
      "text/plain": [
       "[('국제사회', '와'), ('우리', '의'), ('노력', '들로'), ('범죄', '를'), ('척결', '하자')]"
      ]
     },
     "execution_count": 18,
     "metadata": {},
     "output_type": "execute_result"
    }
   ],
   "source": [
    "from soynlp.tokenizer import LTokenizer\n",
    "\n",
    "scores = {word:score.cohesion_forward for word, score in word_score_table.items()}\n",
    "l_tokenizer = LTokenizer(scores=scores)\n",
    "l_tokenizer.tokenize(\"국제사회와 우리의 노력들로 범죄를 척결하자\", flatten=False)"
   ]
  },
  {
   "cell_type": "code",
   "execution_count": 19,
   "id": "3f26a37e",
   "metadata": {},
   "outputs": [
    {
     "data": {
      "text/plain": [
       "['국제사회', '와', '우리', '의', '노력', '들로', '범죄', '를', '척결', '하자']"
      ]
     },
     "execution_count": 19,
     "metadata": {},
     "output_type": "execute_result"
    }
   ],
   "source": [
    "from soynlp.tokenizer import MaxScoreTokenizer\n",
    "\n",
    "maxscore_tokenizer = MaxScoreTokenizer(scores=scores)\n",
    "maxscore_tokenizer.tokenize(\"국제사회와우리의노력들로범죄를척결하자\")"
   ]
  },
  {
   "cell_type": "markdown",
   "id": "5d461713",
   "metadata": {},
   "source": [
    "## customized_konlpy\n",
    "\n",
    "### 단어 학습"
   ]
  },
  {
   "cell_type": "code",
   "execution_count": 20,
   "id": "63dcb75f",
   "metadata": {},
   "outputs": [
    {
     "name": "stdout",
     "output_type": "stream",
     "text": [
      "Collecting customized_konlpy\n",
      "  Downloading customized_konlpy-0.0.64-py3-none-any.whl (881 kB)\n",
      "     ---------------------------------------- 0.0/881.5 kB ? eta -:--:--\n",
      "     ---------------------------------------- 10.2/881.5 kB ? eta -:--:--\n",
      "     - ----------------------------------- 41.0/881.5 kB 393.8 kB/s eta 0:00:03\n",
      "     ----- -------------------------------- 122.9/881.5 kB 1.0 MB/s eta 0:00:01\n",
      "     ------------ ------------------------- 286.7/881.5 kB 1.8 MB/s eta 0:00:01\n",
      "     ------------------------ ------------- 563.2/881.5 kB 2.9 MB/s eta 0:00:01\n",
      "     -------------------------------------- 881.5/881.5 kB 4.0 MB/s eta 0:00:00\n",
      "Requirement already satisfied: Jpype1>=0.6.1 in c:\\users\\msm\\anaconda3\\lib\\site-packages (from customized_konlpy) (1.4.1)\n",
      "Requirement already satisfied: konlpy>=0.4.4 in c:\\users\\msm\\anaconda3\\lib\\site-packages (from customized_konlpy) (0.6.0)\n",
      "Requirement already satisfied: packaging in c:\\users\\msm\\anaconda3\\lib\\site-packages (from Jpype1>=0.6.1->customized_konlpy) (23.1)\n",
      "Requirement already satisfied: lxml>=4.1.0 in c:\\users\\msm\\anaconda3\\lib\\site-packages (from konlpy>=0.4.4->customized_konlpy) (4.9.3)\n",
      "Requirement already satisfied: numpy>=1.6 in c:\\users\\msm\\anaconda3\\lib\\site-packages (from konlpy>=0.4.4->customized_konlpy) (1.25.2)\n",
      "Installing collected packages: customized_konlpy\n",
      "Successfully installed customized_konlpy-0.0.64\n",
      "Note: you may need to restart the kernel to use updated packages.\n"
     ]
    }
   ],
   "source": [
    "pip install customized_konlpy"
   ]
  },
  {
   "cell_type": "code",
   "execution_count": 21,
   "id": "a01770aa",
   "metadata": {},
   "outputs": [
    {
     "name": "stderr",
     "output_type": "stream",
     "text": [
      "C:\\Users\\MSM\\anaconda3\\Lib\\site-packages\\konlpy\\tag\\_okt.py:17: UserWarning: \"Twitter\" has changed to \"Okt\" since KoNLPy v0.4.5.\n",
      "  warn('\"Twitter\" has changed to \"Okt\" since KoNLPy v0.4.5.')\n"
     ]
    },
    {
     "data": {
      "text/plain": [
       "['은', '경이', '는', '사무실', '로', '갔습니다', '.']"
      ]
     },
     "execution_count": 21,
     "metadata": {},
     "output_type": "execute_result"
    }
   ],
   "source": [
    "from ckonlpy.tag import Twitter\n",
    "twitter = Twitter()\n",
    "twitter.morphs('은경이는 사무실로 갔습니다.')\n"
   ]
  },
  {
   "cell_type": "code",
   "execution_count": 23,
   "id": "aa5021e3",
   "metadata": {},
   "outputs": [],
   "source": [
    "twitter.add_dictionary('은경이', 'Noun')"
   ]
  },
  {
   "cell_type": "code",
   "execution_count": 24,
   "id": "61673a9c",
   "metadata": {},
   "outputs": [
    {
     "data": {
      "text/plain": [
       "['은경이', '는', '사무실', '로', '갔습니다', '.']"
      ]
     },
     "execution_count": 24,
     "metadata": {},
     "output_type": "execute_result"
    }
   ],
   "source": [
    "twitter.morphs('은경이는 사무실로 갔습니다.')"
   ]
  },
  {
   "cell_type": "code",
   "execution_count": 7,
   "id": "a404e0b1",
   "metadata": {},
   "outputs": [
    {
     "name": "stdout",
     "output_type": "stream",
     "text": [
      "Collecting kss\n",
      "  Downloading kss-4.5.4.tar.gz (79 kB)\n",
      "     ---------------------------------------- 0.0/79.1 kB ? eta -:--:--\n",
      "     ----- ---------------------------------- 10.2/79.1 kB ? eta -:--:--\n",
      "     ----------------------------- -------- 61.4/79.1 kB 825.8 kB/s eta 0:00:01\n",
      "     -------------------------------------- 79.1/79.1 kB 732.4 kB/s eta 0:00:00\n",
      "  Preparing metadata (setup.py): started\n",
      "  Preparing metadata (setup.py): finished with status 'done'\n",
      "Collecting emoji==1.2.0 (from kss)\n",
      "  Downloading emoji-1.2.0-py3-none-any.whl (131 kB)\n",
      "     ---------------------------------------- 0.0/131.3 kB ? eta -:--:--\n",
      "     ----------------------------------- -- 122.9/131.3 kB 2.4 MB/s eta 0:00:01\n",
      "     -------------------------------------- 131.3/131.3 kB 2.6 MB/s eta 0:00:00\n",
      "Requirement already satisfied: regex in c:\\users\\msm\\anaconda3\\lib\\site-packages (from kss) (2023.10.3)\n",
      "Collecting pecab (from kss)\n",
      "  Downloading pecab-1.0.8.tar.gz (26.4 MB)\n",
      "     ---------------------------------------- 0.0/26.4 MB ? eta -:--:--\n",
      "     ---------------------------------------- 0.2/26.4 MB 12.2 MB/s eta 0:00:03\n",
      "      --------------------------------------- 0.6/26.4 MB 7.7 MB/s eta 0:00:04\n",
      "     - -------------------------------------- 1.2/26.4 MB 9.8 MB/s eta 0:00:03\n",
      "     --- ------------------------------------ 2.3/26.4 MB 13.6 MB/s eta 0:00:02\n",
      "     ------ --------------------------------- 4.4/26.4 MB 21.8 MB/s eta 0:00:02\n",
      "     ----------- ---------------------------- 7.3/26.4 MB 27.5 MB/s eta 0:00:01\n",
      "     ----------- ---------------------------- 7.7/26.4 MB 28.9 MB/s eta 0:00:01\n",
      "     ----------- ---------------------------- 7.7/26.4 MB 28.9 MB/s eta 0:00:01\n",
      "     ----------- ---------------------------- 7.7/26.4 MB 28.9 MB/s eta 0:00:01\n",
      "     ----------- ---------------------------- 7.7/26.4 MB 28.9 MB/s eta 0:00:01\n",
      "     ----------- ---------------------------- 7.7/26.4 MB 28.9 MB/s eta 0:00:01\n",
      "     ----------- ---------------------------- 7.7/26.4 MB 15.0 MB/s eta 0:00:02\n",
      "     ----------- ---------------------------- 7.8/26.4 MB 13.4 MB/s eta 0:00:02\n",
      "     ----------- ---------------------------- 7.8/26.4 MB 13.4 MB/s eta 0:00:02\n",
      "     ----------- ---------------------------- 7.8/26.4 MB 11.8 MB/s eta 0:00:02\n",
      "     ----------- ---------------------------- 7.8/26.4 MB 10.9 MB/s eta 0:00:02\n",
      "     ----------- ---------------------------- 7.8/26.4 MB 10.9 MB/s eta 0:00:02\n",
      "     ----------- ---------------------------- 7.9/26.4 MB 10.1 MB/s eta 0:00:02\n",
      "     ------------ --------------------------- 7.9/26.4 MB 9.2 MB/s eta 0:00:03\n",
      "     ------------ --------------------------- 7.9/26.4 MB 9.2 MB/s eta 0:00:03\n",
      "     ------------ --------------------------- 8.0/26.4 MB 8.5 MB/s eta 0:00:03\n",
      "     ------------ --------------------------- 8.1/26.4 MB 8.2 MB/s eta 0:00:03\n",
      "     ------------ --------------------------- 8.2/26.4 MB 8.0 MB/s eta 0:00:03\n",
      "     ------------ --------------------------- 8.4/26.4 MB 7.8 MB/s eta 0:00:03\n",
      "     ------------ --------------------------- 8.5/26.4 MB 7.4 MB/s eta 0:00:03\n",
      "     ------------- -------------------------- 8.6/26.4 MB 7.2 MB/s eta 0:00:03\n",
      "     ------------- -------------------------- 8.7/26.4 MB 7.0 MB/s eta 0:00:03\n",
      "     ------------- -------------------------- 8.8/26.4 MB 6.8 MB/s eta 0:00:03\n",
      "     ------------- -------------------------- 8.9/26.4 MB 6.7 MB/s eta 0:00:03\n",
      "     ------------- -------------------------- 9.0/26.4 MB 6.5 MB/s eta 0:00:03\n",
      "     ------------- -------------------------- 9.1/26.4 MB 6.3 MB/s eta 0:00:03\n",
      "     -------------- ------------------------- 9.3/26.4 MB 6.3 MB/s eta 0:00:03\n",
      "     -------------- ------------------------- 9.4/26.4 MB 6.2 MB/s eta 0:00:03\n",
      "     -------------- ------------------------- 9.6/26.4 MB 6.2 MB/s eta 0:00:03\n",
      "     -------------- ------------------------- 9.8/26.4 MB 6.1 MB/s eta 0:00:03\n",
      "     -------------- ------------------------- 9.8/26.4 MB 6.1 MB/s eta 0:00:03\n",
      "     --------------- ------------------------ 9.9/26.4 MB 5.9 MB/s eta 0:00:03\n",
      "     --------------- ------------------------ 10.1/26.4 MB 5.8 MB/s eta 0:00:03\n",
      "     --------------- ------------------------ 10.2/26.4 MB 5.6 MB/s eta 0:00:03\n",
      "     --------------- ------------------------ 10.3/26.4 MB 5.6 MB/s eta 0:00:03\n",
      "     --------------- ------------------------ 10.5/26.4 MB 5.5 MB/s eta 0:00:03\n",
      "     ---------------- ----------------------- 10.7/26.4 MB 5.4 MB/s eta 0:00:03\n",
      "     ---------------- ----------------------- 10.7/26.4 MB 5.4 MB/s eta 0:00:03\n",
      "     ---------------- ----------------------- 10.9/26.4 MB 5.3 MB/s eta 0:00:03\n",
      "     ---------------- ----------------------- 11.1/26.4 MB 5.2 MB/s eta 0:00:03\n",
      "     ----------------- ---------------------- 11.2/26.4 MB 5.1 MB/s eta 0:00:03\n",
      "     ----------------- ---------------------- 11.4/26.4 MB 5.0 MB/s eta 0:00:03\n",
      "     ----------------- ---------------------- 11.7/26.4 MB 4.9 MB/s eta 0:00:04\n",
      "     ----------------- ---------------------- 11.7/26.4 MB 4.9 MB/s eta 0:00:04\n",
      "     ----------------- ---------------------- 11.8/26.4 MB 4.8 MB/s eta 0:00:04\n",
      "     ----------------- ---------------------- 11.8/26.4 MB 4.6 MB/s eta 0:00:04\n",
      "     ----------------- ---------------------- 11.8/26.4 MB 4.6 MB/s eta 0:00:04\n",
      "     ------------------ --------------------- 11.9/26.4 MB 4.5 MB/s eta 0:00:04\n",
      "     ------------------ --------------------- 11.9/26.4 MB 4.4 MB/s eta 0:00:04\n",
      "     ------------------ --------------------- 11.9/26.4 MB 4.2 MB/s eta 0:00:04\n",
      "     -------------------- ------------------- 13.5/26.4 MB 4.3 MB/s eta 0:00:04\n",
      "     ---------------------- ----------------- 15.1/26.4 MB 4.2 MB/s eta 0:00:03\n",
      "     ----------------------- ---------------- 15.3/26.4 MB 4.1 MB/s eta 0:00:03\n",
      "     -------------------------- ------------- 17.2/26.4 MB 4.1 MB/s eta 0:00:03\n",
      "     ---------------------------- ----------- 18.6/26.4 MB 6.2 MB/s eta 0:00:02\n",
      "     ----------------------------- ---------- 19.7/26.4 MB 8.0 MB/s eta 0:00:01\n",
      "     ------------------------------ -------- 20.7/26.4 MB 10.9 MB/s eta 0:00:01\n",
      "     --------------------------------- ----- 22.6/26.4 MB 28.5 MB/s eta 0:00:01\n",
      "     ------------------------------------- - 25.2/26.4 MB 32.7 MB/s eta 0:00:01\n",
      "     --------------------------------------  26.3/26.4 MB 36.4 MB/s eta 0:00:01\n",
      "     --------------------------------------  26.4/26.4 MB 29.7 MB/s eta 0:00:01\n",
      "     --------------------------------------- 26.4/26.4 MB 25.2 MB/s eta 0:00:00\n",
      "  Preparing metadata (setup.py): started\n",
      "  Preparing metadata (setup.py): finished with status 'done'\n",
      "Requirement already satisfied: networkx in c:\\users\\msm\\anaconda3\\lib\\site-packages (from kss) (3.1)\n",
      "Requirement already satisfied: numpy in c:\\users\\msm\\anaconda3\\lib\\site-packages (from pecab->kss) (1.25.2)\n",
      "Requirement already satisfied: pyarrow in c:\\users\\msm\\anaconda3\\lib\\site-packages (from pecab->kss) (11.0.0)\n",
      "Requirement already satisfied: pytest in c:\\users\\msm\\anaconda3\\lib\\site-packages (from pecab->kss) (7.4.0)\n",
      "Requirement already satisfied: iniconfig in c:\\users\\msm\\anaconda3\\lib\\site-packages (from pytest->pecab->kss) (1.1.1)\n",
      "Requirement already satisfied: packaging in c:\\users\\msm\\anaconda3\\lib\\site-packages (from pytest->pecab->kss) (23.1)\n",
      "Requirement already satisfied: pluggy<2.0,>=0.12 in c:\\users\\msm\\anaconda3\\lib\\site-packages (from pytest->pecab->kss) (1.0.0)\n",
      "Requirement already satisfied: colorama in c:\\users\\msm\\anaconda3\\lib\\site-packages (from pytest->pecab->kss) (0.4.6)\n",
      "Building wheels for collected packages: kss, pecab\n",
      "  Building wheel for kss (setup.py): started\n",
      "  Building wheel for kss (setup.py): finished with status 'done'\n",
      "  Created wheel for kss: filename=kss-4.5.4-py3-none-any.whl size=54785 sha256=5ab76a214f246cd07bbb88b7dbfec6db0366b194be64e0d8cc41514ef473994b\n",
      "  Stored in directory: c:\\users\\msm\\appdata\\local\\pip\\cache\\wheels\\ca\\b1\\87\\4956cfbe83e7bb718e2363fdaa4581cdfebc4a67baad48a7d3\n",
      "  Building wheel for pecab (setup.py): started\n",
      "  Building wheel for pecab (setup.py): finished with status 'done'\n",
      "  Created wheel for pecab: filename=pecab-1.0.8-py3-none-any.whl size=26646701 sha256=55ee1b0d996b9fecf554321cb96bc95e671ce8a37c88023f4a6782d194027f4e\n",
      "  Stored in directory: c:\\users\\msm\\appdata\\local\\pip\\cache\\wheels\\c9\\0d\\97\\ca2bb361e44a80f4c63efe6f6438ff903fd1ab5640eedabc1b\n",
      "Successfully built kss pecab\n",
      "Installing collected packages: emoji, pecab, kss\n",
      "Successfully installed emoji-1.2.0 kss-4.5.4 pecab-1.0.8\n",
      "Note: you may need to restart the kernel to use updated packages.\n"
     ]
    }
   ],
   "source": [
    "pip install kss"
   ]
  },
  {
   "cell_type": "code",
   "execution_count": null,
   "id": "f39339c0",
   "metadata": {},
   "outputs": [],
   "source": []
  }
 ],
 "metadata": {
  "kernelspec": {
   "display_name": "Python 3 (ipykernel)",
   "language": "python",
   "name": "python3"
  },
  "language_info": {
   "codemirror_mode": {
    "name": "ipython",
    "version": 3
   },
   "file_extension": ".py",
   "mimetype": "text/x-python",
   "name": "python",
   "nbconvert_exporter": "python",
   "pygments_lexer": "ipython3",
   "version": "3.11.5"
  }
 },
 "nbformat": 4,
 "nbformat_minor": 5
}
