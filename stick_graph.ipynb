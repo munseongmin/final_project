{
 "cells": [
  {
   "cell_type": "code",
   "execution_count": 1,
   "id": "b356f2dc",
   "metadata": {
    "ExecuteTime": {
     "end_time": "2023-12-22T01:55:04.027397Z",
     "start_time": "2023-12-22T01:55:03.577779Z"
    }
   },
   "outputs": [],
   "source": [
    "import pandas as pd"
   ]
  },
  {
   "cell_type": "code",
   "execution_count": 2,
   "id": "2a7149d4",
   "metadata": {
    "ExecuteTime": {
     "end_time": "2023-12-22T01:55:06.804396Z",
     "start_time": "2023-12-22T01:55:06.773059Z"
    }
   },
   "outputs": [
    {
     "data": {
      "text/html": [
       "<div>\n",
       "<style scoped>\n",
       "    .dataframe tbody tr th:only-of-type {\n",
       "        vertical-align: middle;\n",
       "    }\n",
       "\n",
       "    .dataframe tbody tr th {\n",
       "        vertical-align: top;\n",
       "    }\n",
       "\n",
       "    .dataframe thead th {\n",
       "        text-align: right;\n",
       "    }\n",
       "</style>\n",
       "<table border=\"1\" class=\"dataframe\">\n",
       "  <thead>\n",
       "    <tr style=\"text-align: right;\">\n",
       "      <th></th>\n",
       "      <th>Text</th>\n",
       "    </tr>\n",
       "  </thead>\n",
       "  <tbody>\n",
       "    <tr>\n",
       "      <th>0</th>\n",
       "      <td>안녕하세요. 우리나라의 K-서비스 수출화 방안에 대한 발표를 맡은 권입니다. 현재...</td>\n",
       "    </tr>\n",
       "    <tr>\n",
       "      <th>1</th>\n",
       "      <td>Q. 현재 상황은? 자기 개발을 하려고 노력을 하는 성격입니다. 그래서 저라면 처...</td>\n",
       "    </tr>\n",
       "    <tr>\n",
       "      <th>2</th>\n",
       "      <td>안녕하세요. 지원자 권도은입니다. 저는 A 기업이 태국 시장 진출 방안에 대해서 ...</td>\n",
       "    </tr>\n",
       "    <tr>\n",
       "      <th>3</th>\n",
       "      <td>학술제를 준비해야 하는 상황에서 작년에 발생한 문제를 해결하고 성공적으로 학술제를...</td>\n",
       "    </tr>\n",
       "    <tr>\n",
       "      <th>4</th>\n",
       "      <td>안녕하세요. 지원자 권도은입니다. 현재 A사가 시국에 진출하려는 상황으로 시국의 ...</td>\n",
       "    </tr>\n",
       "    <tr>\n",
       "      <th>...</th>\n",
       "      <td>...</td>\n",
       "    </tr>\n",
       "    <tr>\n",
       "      <th>119</th>\n",
       "      <td>현정아입니다. 학술제는 학문의 이론이나 기술 따위를 연구하여 결과를 교류하기 위해...</td>\n",
       "    </tr>\n",
       "    <tr>\n",
       "      <th>120</th>\n",
       "      <td>자동차 제조사 A는 비싼 가격의 모델 1에 앞세워 비국 시장에 진출하였지만, 최근...</td>\n",
       "    </tr>\n",
       "    <tr>\n",
       "      <th>121</th>\n",
       "      <td>네, 안녕하십니까? 지원자 현정아입니다. 네, 현재 취업박람회는 일정 기간 여러 ...</td>\n",
       "    </tr>\n",
       "    <tr>\n",
       "      <th>122</th>\n",
       "      <td>서비스 산업은 제조업과 달리 대외 경기 역량을 적게 받는 경향이 있습니다. 따라서...</td>\n",
       "    </tr>\n",
       "    <tr>\n",
       "      <th>123</th>\n",
       "      <td>네 저는 처음 해보지만 예전부터 해보고 싶었던 일을 선택하겠습니다. 주로 해왔고 ...</td>\n",
       "    </tr>\n",
       "  </tbody>\n",
       "</table>\n",
       "<p>124 rows × 1 columns</p>\n",
       "</div>"
      ],
      "text/plain": [
       "                                                  Text\n",
       "0     안녕하세요. 우리나라의 K-서비스 수출화 방안에 대한 발표를 맡은 권입니다. 현재...\n",
       "1     Q. 현재 상황은? 자기 개발을 하려고 노력을 하는 성격입니다. 그래서 저라면 처...\n",
       "2     안녕하세요. 지원자 권도은입니다. 저는 A 기업이 태국 시장 진출 방안에 대해서 ...\n",
       "3     학술제를 준비해야 하는 상황에서 작년에 발생한 문제를 해결하고 성공적으로 학술제를...\n",
       "4     안녕하세요. 지원자 권도은입니다. 현재 A사가 시국에 진출하려는 상황으로 시국의 ...\n",
       "..                                                 ...\n",
       "119   현정아입니다. 학술제는 학문의 이론이나 기술 따위를 연구하여 결과를 교류하기 위해...\n",
       "120   자동차 제조사 A는 비싼 가격의 모델 1에 앞세워 비국 시장에 진출하였지만, 최근...\n",
       "121   네, 안녕하십니까? 지원자 현정아입니다. 네, 현재 취업박람회는 일정 기간 여러 ...\n",
       "122   서비스 산업은 제조업과 달리 대외 경기 역량을 적게 받는 경향이 있습니다. 따라서...\n",
       "123   네 저는 처음 해보지만 예전부터 해보고 싶었던 일을 선택하겠습니다. 주로 해왔고 ...\n",
       "\n",
       "[124 rows x 1 columns]"
      ]
     },
     "execution_count": 2,
     "metadata": {},
     "output_type": "execute_result"
    }
   ],
   "source": [
    "df = pd.read_csv('fail_results_23.csv')\n",
    "df"
   ]
  },
  {
   "cell_type": "code",
   "execution_count": 3,
   "id": "7fe5facf",
   "metadata": {
    "ExecuteTime": {
     "end_time": "2023-12-22T01:55:12.132832Z",
     "start_time": "2023-12-22T01:55:12.124584Z"
    }
   },
   "outputs": [
    {
     "data": {
      "text/html": [
       "<div>\n",
       "<style scoped>\n",
       "    .dataframe tbody tr th:only-of-type {\n",
       "        vertical-align: middle;\n",
       "    }\n",
       "\n",
       "    .dataframe tbody tr th {\n",
       "        vertical-align: top;\n",
       "    }\n",
       "\n",
       "    .dataframe thead th {\n",
       "        text-align: right;\n",
       "    }\n",
       "</style>\n",
       "<table border=\"1\" class=\"dataframe\">\n",
       "  <thead>\n",
       "    <tr style=\"text-align: right;\">\n",
       "      <th></th>\n",
       "      <th>Text</th>\n",
       "    </tr>\n",
       "  </thead>\n",
       "  <tbody>\n",
       "    <tr>\n",
       "      <th>0</th>\n",
       "      <td>안녕하세요. 우리나라의 K-서비스 수출화 방안에 대한 발표를 맡은 권입니다. 현재...</td>\n",
       "    </tr>\n",
       "  </tbody>\n",
       "</table>\n",
       "</div>"
      ],
      "text/plain": [
       "                                                Text\n",
       "0   안녕하세요. 우리나라의 K-서비스 수출화 방안에 대한 발표를 맡은 권입니다. 현재..."
      ]
     },
     "execution_count": 3,
     "metadata": {},
     "output_type": "execute_result"
    }
   ],
   "source": [
    "# 여러 행을 하나의 행으로 합치기\n",
    "merged_text = ' '.join(df['Text'])\n",
    "\n",
    "# 새로운 데이터프레임 생성\n",
    "new_df = pd.DataFrame({'Text': [merged_text]})\n",
    "\n",
    "# 기존 데이터프레임에 새로운 데이터프레임으로 교체\n",
    "df = new_df\n",
    "\n",
    "df"
   ]
  },
  {
   "cell_type": "code",
   "execution_count": 4,
   "id": "642c5e86",
   "metadata": {
    "ExecuteTime": {
     "end_time": "2023-12-22T01:55:20.968761Z",
     "start_time": "2023-12-22T01:55:20.955655Z"
    }
   },
   "outputs": [
    {
     "data": {
      "text/html": [
       "<div>\n",
       "<style scoped>\n",
       "    .dataframe tbody tr th:only-of-type {\n",
       "        vertical-align: middle;\n",
       "    }\n",
       "\n",
       "    .dataframe tbody tr th {\n",
       "        vertical-align: top;\n",
       "    }\n",
       "\n",
       "    .dataframe thead th {\n",
       "        text-align: right;\n",
       "    }\n",
       "</style>\n",
       "<table border=\"1\" class=\"dataframe\">\n",
       "  <thead>\n",
       "    <tr style=\"text-align: right;\">\n",
       "      <th></th>\n",
       "      <th>Text</th>\n",
       "    </tr>\n",
       "  </thead>\n",
       "  <tbody>\n",
       "    <tr>\n",
       "      <th>0</th>\n",
       "      <td>안녕하세요 우리나라의 서비스 수출화 방안에 대한 발표를 맡은 권입니다 현재 우리나...</td>\n",
       "    </tr>\n",
       "  </tbody>\n",
       "</table>\n",
       "</div>"
      ],
      "text/plain": [
       "                                                Text\n",
       "0   안녕하세요 우리나라의 서비스 수출화 방안에 대한 발표를 맡은 권입니다 현재 우리나..."
      ]
     },
     "execution_count": 4,
     "metadata": {},
     "output_type": "execute_result"
    }
   ],
   "source": [
    "#한글만 남기기\n",
    "\n",
    "import re\n",
    "\n",
    "df['Text'] = df['Text'].apply(lambda x: re.sub(r'[^ㄱ-ㅎㅏ-ㅣ가-힣 ]', '', x))\n",
    "\n",
    "df"
   ]
  },
  {
   "cell_type": "code",
   "execution_count": 5,
   "id": "576d82ee",
   "metadata": {
    "ExecuteTime": {
     "end_time": "2023-12-22T01:55:39.128466Z",
     "start_time": "2023-12-22T01:55:28.746204Z"
    }
   },
   "outputs": [
    {
     "data": {
      "text/html": [
       "<div>\n",
       "<style scoped>\n",
       "    .dataframe tbody tr th:only-of-type {\n",
       "        vertical-align: middle;\n",
       "    }\n",
       "\n",
       "    .dataframe tbody tr th {\n",
       "        vertical-align: top;\n",
       "    }\n",
       "\n",
       "    .dataframe thead th {\n",
       "        text-align: right;\n",
       "    }\n",
       "</style>\n",
       "<table border=\"1\" class=\"dataframe\">\n",
       "  <thead>\n",
       "    <tr style=\"text-align: right;\">\n",
       "      <th></th>\n",
       "      <th>Text</th>\n",
       "    </tr>\n",
       "  </thead>\n",
       "  <tbody>\n",
       "    <tr>\n",
       "      <th>0</th>\n",
       "      <td>[우리나라, 서비스, 수출, 방안, 대한, 발표, 권, 현재, 우리나라, 국가, 중...</td>\n",
       "    </tr>\n",
       "  </tbody>\n",
       "</table>\n",
       "</div>"
      ],
      "text/plain": [
       "                                                Text\n",
       "0  [우리나라, 서비스, 수출, 방안, 대한, 발표, 권, 현재, 우리나라, 국가, 중..."
      ]
     },
     "execution_count": 5,
     "metadata": {},
     "output_type": "execute_result"
    }
   ],
   "source": [
    "# 토큰화\n",
    "\n",
    "from konlpy.tag import Okt\n",
    "\n",
    "okt = Okt()\n",
    "\n",
    "# df['Text'] = df['Text'].apply(lambda x: okt.morphs(x))\n",
    "df['Text'] = df['Text'].apply(lambda x: okt.nouns(x))\n",
    "\n",
    "df"
   ]
  },
  {
   "cell_type": "code",
   "execution_count": 6,
   "id": "c3b1396e",
   "metadata": {
    "ExecuteTime": {
     "end_time": "2023-12-22T01:55:39.145873Z",
     "start_time": "2023-12-22T01:55:39.129097Z"
    }
   },
   "outputs": [
    {
     "data": {
      "text/html": [
       "<div>\n",
       "<style scoped>\n",
       "    .dataframe tbody tr th:only-of-type {\n",
       "        vertical-align: middle;\n",
       "    }\n",
       "\n",
       "    .dataframe tbody tr th {\n",
       "        vertical-align: top;\n",
       "    }\n",
       "\n",
       "    .dataframe thead th {\n",
       "        text-align: right;\n",
       "    }\n",
       "</style>\n",
       "<table border=\"1\" class=\"dataframe\">\n",
       "  <thead>\n",
       "    <tr style=\"text-align: right;\">\n",
       "      <th></th>\n",
       "      <th>Text</th>\n",
       "    </tr>\n",
       "  </thead>\n",
       "  <tbody>\n",
       "    <tr>\n",
       "      <th>0</th>\n",
       "      <td>우리나라 서비스 수출 방안 대한 발표 현재 우리나라 국가 제조업 비중 대외 경기 침...</td>\n",
       "    </tr>\n",
       "  </tbody>\n",
       "</table>\n",
       "</div>"
      ],
      "text/plain": [
       "                                                Text\n",
       "0  우리나라 서비스 수출 방안 대한 발표 현재 우리나라 국가 제조업 비중 대외 경기 침..."
      ]
     },
     "execution_count": 6,
     "metadata": {},
     "output_type": "execute_result"
    }
   ],
   "source": [
    "# 글자수 하나인 것 제거\n",
    "def remove_short_words(text_list, min_length=2):\n",
    "    text = ' '.join(text_list)\n",
    "    words = text.split()\n",
    "    filtered_words = [word for word in words if len(word) >= min_length]\n",
    "    return ' '.join(filtered_words)\n",
    "\n",
    "# 'Text' 열에 함수 적용\n",
    "df['Text'] = df['Text'].apply(remove_short_words)\n",
    "\n",
    "df"
   ]
  },
  {
   "cell_type": "code",
   "execution_count": 7,
   "id": "cc392c95",
   "metadata": {
    "ExecuteTime": {
     "end_time": "2023-12-22T01:55:44.627919Z",
     "start_time": "2023-12-22T01:55:43.433549Z"
    }
   },
   "outputs": [
    {
     "data": {
      "text/html": [
       "<div>\n",
       "<style scoped>\n",
       "    .dataframe tbody tr th:only-of-type {\n",
       "        vertical-align: middle;\n",
       "    }\n",
       "\n",
       "    .dataframe tbody tr th {\n",
       "        vertical-align: top;\n",
       "    }\n",
       "\n",
       "    .dataframe thead th {\n",
       "        text-align: right;\n",
       "    }\n",
       "</style>\n",
       "<table border=\"1\" class=\"dataframe\">\n",
       "  <thead>\n",
       "    <tr style=\"text-align: right;\">\n",
       "      <th></th>\n",
       "      <th>Text</th>\n",
       "    </tr>\n",
       "  </thead>\n",
       "  <tbody>\n",
       "    <tr>\n",
       "      <th>0</th>\n",
       "      <td>[우리나라, 서비스, 수출, 방안, 대한, 발표, 현재, 우리나라, 국가, 제조업,...</td>\n",
       "    </tr>\n",
       "  </tbody>\n",
       "</table>\n",
       "</div>"
      ],
      "text/plain": [
       "                                                Text\n",
       "0  [우리나라, 서비스, 수출, 방안, 대한, 발표, 현재, 우리나라, 국가, 제조업,..."
      ]
     },
     "execution_count": 7,
     "metadata": {},
     "output_type": "execute_result"
    }
   ],
   "source": [
    "# 토큰화\n",
    "\n",
    "from konlpy.tag import Okt\n",
    "\n",
    "okt = Okt()\n",
    "\n",
    "# df['Text'] = df['Text'].apply(lambda x: okt.morphs(x))\n",
    "df['Text'] = df['Text'].apply(lambda x: okt.nouns(x))\n",
    "\n",
    "df"
   ]
  },
  {
   "cell_type": "code",
   "execution_count": 8,
   "id": "d7f5eeef",
   "metadata": {
    "ExecuteTime": {
     "end_time": "2023-12-22T01:55:54.876623Z",
     "start_time": "2023-12-22T01:55:54.856492Z"
    }
   },
   "outputs": [
    {
     "data": {
      "text/html": [
       "<div>\n",
       "<style scoped>\n",
       "    .dataframe tbody tr th:only-of-type {\n",
       "        vertical-align: middle;\n",
       "    }\n",
       "\n",
       "    .dataframe tbody tr th {\n",
       "        vertical-align: top;\n",
       "    }\n",
       "\n",
       "    .dataframe thead th {\n",
       "        text-align: right;\n",
       "    }\n",
       "</style>\n",
       "<table border=\"1\" class=\"dataframe\">\n",
       "  <thead>\n",
       "    <tr style=\"text-align: right;\">\n",
       "      <th></th>\n",
       "      <th>Text</th>\n",
       "    </tr>\n",
       "  </thead>\n",
       "  <tbody>\n",
       "    <tr>\n",
       "      <th>0</th>\n",
       "      <td>[우리나라, 서비스, 수출, 방안, 발표, 현재, 우리나라, 국가, 제조업, 비중,...</td>\n",
       "    </tr>\n",
       "  </tbody>\n",
       "</table>\n",
       "</div>"
      ],
      "text/plain": [
       "                                                Text\n",
       "0  [우리나라, 서비스, 수출, 방안, 발표, 현재, 우리나라, 국가, 제조업, 비중,..."
      ]
     },
     "execution_count": 8,
     "metadata": {},
     "output_type": "execute_result"
    }
   ],
   "source": [
    "stop_words = ['안녕하세요', '안녕하십니까', '따라서', '지원', '우선', '일단', '얘기', '대해', '위해', '때문', '통해', '대한', '생각', '또한', '으로', '이고', '로서', '에서', '에도', '하다', '입니다']\n",
    "\n",
    "df['Text'] = df['Text'].apply(lambda x: [word for word in x if word not in stop_words])\n",
    "\n",
    "df"
   ]
  },
  {
   "cell_type": "code",
   "execution_count": 9,
   "id": "9216aa63",
   "metadata": {
    "ExecuteTime": {
     "end_time": "2023-12-22T01:56:01.563737Z",
     "start_time": "2023-12-22T01:56:01.544034Z"
    }
   },
   "outputs": [
    {
     "data": {
      "text/html": [
       "<div>\n",
       "<style scoped>\n",
       "    .dataframe tbody tr th:only-of-type {\n",
       "        vertical-align: middle;\n",
       "    }\n",
       "\n",
       "    .dataframe tbody tr th {\n",
       "        vertical-align: top;\n",
       "    }\n",
       "\n",
       "    .dataframe thead th {\n",
       "        text-align: right;\n",
       "    }\n",
       "</style>\n",
       "<table border=\"1\" class=\"dataframe\">\n",
       "  <thead>\n",
       "    <tr style=\"text-align: right;\">\n",
       "      <th></th>\n",
       "      <th>Text</th>\n",
       "      <th>Sorted_Lemma_Frequencies</th>\n",
       "    </tr>\n",
       "  </thead>\n",
       "  <tbody>\n",
       "    <tr>\n",
       "      <th>0</th>\n",
       "      <td>[우리나라, 서비스, 수출, 방안, 발표, 현재, 우리나라, 국가, 제조업, 비중,...</td>\n",
       "      <td>{'기업': 673, '수출': 437, '지금': 357, '상황': 350, '...</td>\n",
       "    </tr>\n",
       "  </tbody>\n",
       "</table>\n",
       "</div>"
      ],
      "text/plain": [
       "                                                Text  \\\n",
       "0  [우리나라, 서비스, 수출, 방안, 발표, 현재, 우리나라, 국가, 제조업, 비중,...   \n",
       "\n",
       "                            Sorted_Lemma_Frequencies  \n",
       "0  {'기업': 673, '수출': 437, '지금': 357, '상황': 350, '...  "
      ]
     },
     "execution_count": 9,
     "metadata": {},
     "output_type": "execute_result"
    }
   ],
   "source": [
    "from collections import Counter\n",
    "import operator\n",
    "\n",
    "df['Lemma_Frequencies'] = df['Text'].apply(lambda lemmas_list: Counter(lemmas_list))\n",
    "\n",
    "# Counter 객체의 합계를 계산하고 'Total_Frequency' 열에 저장\n",
    "df['Total_Frequency'] = df['Lemma_Frequencies'].apply(lambda x: sum(x.values()))\n",
    "\n",
    "# 'Lemma_Frequencies' 열의 Counter 객체를 빈도수를 기준으로 내림차순으로 정렬\n",
    "df['Sorted_Lemma_Frequencies'] = df['Lemma_Frequencies'].apply(lambda x: dict(sorted(x.items(), key=operator.itemgetter(1), reverse=True)))\n",
    "\n",
    "# 'Total_Frequency' 열을 기준으로 내림차순으로 정렬\n",
    "df = df.sort_values(by='Total_Frequency', ascending=False)\n",
    "\n",
    "# 필요에 따라 열 삭제\n",
    "df = df.drop(['Lemma_Frequencies', 'Total_Frequency'], axis=1)\n",
    "\n",
    "df = df.sort_index()\n",
    "\n",
    "df"
   ]
  },
  {
   "cell_type": "code",
   "execution_count": 11,
   "id": "266313e5",
   "metadata": {
    "ExecuteTime": {
     "end_time": "2023-12-22T01:56:38.884511Z",
     "start_time": "2023-12-22T01:56:38.018330Z"
    }
   },
   "outputs": [
    {
     "data": {
      "image/png": "[encoded data removed]",
      "text/plain": [
       "<Figure size 1440x720 with 1 Axes>"
      ]
     },
     "metadata": {},
     "output_type": "display_data"
    }
   ],
   "source": [
    "import matplotlib.pyplot as plt\n",
    "from collections import Counter\n",
    "\n",
    "plt.rcParams.update({'font.family'    : 'Malgun Gothic',  # 한글 폰트 설정\n",
    "                     'figure.dpi'     : '120',            # 해상도 설정\n",
    "                     'figure.figsize' : [6.5, 6]})        # 가로 세로 크기 설정\n",
    "\n",
    "# 빈도수가 높은 상위 30개의 단어 추출\n",
    "top_words = list(df['Sorted_Lemma_Frequencies'][0].keys())[:30]\n",
    "word_counts = list(df['Sorted_Lemma_Frequencies'][0].values())[:30]\n",
    "\n",
    "# 막대 그래프 생성\n",
    "plt.figure(figsize=(12, 6))\n",
    "plt.bar(top_words, word_counts, color='skyblue')\n",
    "plt.xlabel('단어')\n",
    "plt.ylabel('빈도수')\n",
    "plt.title('상위 30개 단어 빈도수')\n",
    "plt.xticks(rotation=45, ha='right')  # x 축 라벨을 45도 기울여 표시\n",
    "plt.tight_layout()  # 레이아웃 조정\n",
    "plt.show()"
   ]
  },
  {
   "cell_type": "code",
   "execution_count": null,
   "id": "d41737ae",
   "metadata": {},
   "outputs": [],
   "source": []
  }
 ],
 "metadata": {
  "kernelspec": {
   "display_name": "Python 3 (ipykernel)",
   "language": "python",
   "name": "python3"
  },
  "language_info": {
   "codemirror_mode": {
    "name": "ipython",
    "version": 3
   },
   "file_extension": ".py",
   "mimetype": "text/x-python",
   "name": "python",
   "nbconvert_exporter": "python",
   "pygments_lexer": "ipython3",
   "version": "3.11.4"
  },
  "toc": {
   "base_numbering": 1,
   "nav_menu": {},
   "number_sections": true,
   "sideBar": true,
   "skip_h1_title": false,
   "title_cell": "Table of Contents",
   "title_sidebar": "Contents",
   "toc_cell": false,
   "toc_position": {},
   "toc_section_display": true,
   "toc_window_display": false
  }
 },
 "nbformat": 4,
 "nbformat_minor": 5
}
